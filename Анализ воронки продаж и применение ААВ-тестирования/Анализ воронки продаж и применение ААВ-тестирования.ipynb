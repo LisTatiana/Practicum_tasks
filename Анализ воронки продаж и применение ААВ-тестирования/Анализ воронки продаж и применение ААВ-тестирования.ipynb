{
 "cells": [
  {
   "cell_type": "markdown",
   "id": "5d63e399",
   "metadata": {},
   "source": [
    " \n",
    "    \n",
    "**Название проекта**\n",
    "Анализ воронки продаж и применение ААВ-тестирования\n",
    "\n",
    "**Описание исследования.**\n",
    "Вы работаете в стартапе, который продаёт продукты питания. \n",
    "Нужно разобраться, как ведут себя пользователи вашего мобильного приложения. \n",
    "\n",
    "**Цель исследования.**\n",
    "\n",
    "Изучить и проанализировать поведение пользователей\n",
    "По результатам A/A/B-эксперимента \"изменение шрифта\" понять влияет ли новый шрифт на поведеие пользователей.\n",
    "\n",
    "**Задачи исследования.** \n",
    "\n",
    "Изучите и проверьте данные:\n",
    "- Сколько всего событий в логе?\n",
    "- Сколько всего пользователей в логе?\n",
    "- Сколько в среднем событий приходится на пользователя?\n",
    "- Данными за какой период вы располагаете? Найдите максимальную и минимальную дату. Постройте гистограмму по дате и времени. Можно ли быть уверенным, что у вас одинаково полные данные за весь период? Технически в логи новых дней по некоторым пользователям могут «доезжать» события из прошлого — это может «перекашивать данные». Определите, с какого момента данные полные и отбросьте более старые. Данными за какой период времени вы располагаете на самом деле?\n",
    "- Много ли событий и пользователей вы потеряли, отбросив старые данные?\n",
    "- Проверьте, что у вас есть пользователи из всех трёх экспериментальных групп.\n",
    "\n",
    "Изучите воронку событий:\n",
    "- Посмотрите, какие события есть в логах, как часто они встречаются. Отсортируйте события по частоте.\n",
    "- Посчитайте, сколько пользователей совершали каждое из этих событий. Отсортируйте события по числу пользователей. Посчитайте долю пользователей, которые хоть раз совершали событие.\n",
    "- Предположите, в каком порядке происходят события. Все ли они выстраиваются в последовательную цепочку? Их не нужно учитывать при расчёте воронки.\n",
    "- По воронке событий посчитайте, какая доля пользователей проходит на следующий шаг воронки (от числа пользователей на предыдущем). То есть для последовательности событий A → B → C посчитайте отношение числа пользователей с событием B к количеству пользователей с событием A, а также отношение числа пользователей с событием C к количеству пользователей с событием B.\n",
    "- На каком шаге теряете больше всего пользователей?\n",
    "- Какая доля пользователей доходит от первого события до оплаты?\n",
    "\n",
    "Изучите результаты эксперимента\n",
    "- Сколько пользователей в каждой экспериментальной группе?\n",
    "- Есть 2 контрольные группы для А/А-эксперимента, чтобы проверить корректность всех механизмов и расчётов. Проверьте, находят ли статистические критерии разницу между выборками 246 и 247.\n",
    "- Выберите самое популярное событие. Посчитайте число пользователей, совершивших это событие в каждой из контрольных групп. Посчитайте долю пользователей, совершивших это событие. Проверьте, будет ли отличие между группами статистически достоверным. Проделайте то же самое для всех других событий (удобно обернуть проверку в отдельную функцию). Можно ли сказать, что разбиение на группы работает корректно?\n",
    "- Аналогично поступите с группой с изменённым шрифтом. Сравните результаты с каждой из контрольных групп в отдельности по каждому событию. Сравните результаты с объединённой контрольной группой. Какие выводы из эксперимента можно сделать?\n",
    "- Какой уровень значимости вы выбрали при проверке статистических гипотез выше? Посчитайте, сколько проверок статистических гипотез вы сделали. При уровне значимости 0.1 каждый десятый раз можно получать ложный результат. Какой уровень значимости стоит применить? Если вы хотите изменить его, проделайте предыдущие пункты и проверьте свои выводы.\n",
    "\n",
    "**Исходные данные.**\n",
    "\n",
    "Каждая запись в логе — это действие пользователя, или событие. \\\n",
    "EventName — название события;\\\n",
    "DeviceIDHash — уникальный идентификатор пользователя;\\\n",
    "EventTimestamp — время события;\\\n",
    "ExpId — номер эксперимента: 246 и 247 — контрольные группы, а 248 — экспериментальная.\n",
    "\n"
   ]
  },
  {
   "cell_type": "markdown",
   "id": "92491a10",
   "metadata": {},
   "source": [
    "## Открываем файл, изучаем общую информацию"
   ]
  },
  {
   "cell_type": "code",
   "execution_count": 1,
   "id": "6aa429dd",
   "metadata": {},
   "outputs": [],
   "source": [
    "# импорт библиотек\n",
    "import pandas as pd\n",
    "import scipy.stats as stats\n",
    "import datetime as dt\n",
    "import numpy as np\n",
    "import matplotlib.pyplot as plt \n",
    "import seaborn as sns \n",
    "import warnings\n",
    "warnings.filterwarnings('ignore')\n",
    "import math as mth"
   ]
  },
  {
   "cell_type": "code",
   "execution_count": 2,
   "id": "1446ea5f",
   "metadata": {},
   "outputs": [],
   "source": [
    "try:\n",
    "    df = pd.read_csv('/datasets/logs_exp.csv', sep='\\t')\n",
    "except:\n",
    "    df = pd.read_csv('logs_exp.csv', sep='\\t')"
   ]
  },
  {
   "cell_type": "code",
   "execution_count": 3,
   "id": "8db580f8",
   "metadata": {
    "scrolled": true
   },
   "outputs": [
    {
     "data": {
      "text/html": [
       "<div>\n",
       "<style scoped>\n",
       "    .dataframe tbody tr th:only-of-type {\n",
       "        vertical-align: middle;\n",
       "    }\n",
       "\n",
       "    .dataframe tbody tr th {\n",
       "        vertical-align: top;\n",
       "    }\n",
       "\n",
       "    .dataframe thead th {\n",
       "        text-align: right;\n",
       "    }\n",
       "</style>\n",
       "<table border=\"1\" class=\"dataframe\">\n",
       "  <thead>\n",
       "    <tr style=\"text-align: right;\">\n",
       "      <th></th>\n",
       "      <th>EventName</th>\n",
       "      <th>DeviceIDHash</th>\n",
       "      <th>EventTimestamp</th>\n",
       "      <th>ExpId</th>\n",
       "    </tr>\n",
       "  </thead>\n",
       "  <tbody>\n",
       "    <tr>\n",
       "      <th>0</th>\n",
       "      <td>MainScreenAppear</td>\n",
       "      <td>4575588528974610257</td>\n",
       "      <td>1564029816</td>\n",
       "      <td>246</td>\n",
       "    </tr>\n",
       "    <tr>\n",
       "      <th>1</th>\n",
       "      <td>MainScreenAppear</td>\n",
       "      <td>7416695313311560658</td>\n",
       "      <td>1564053102</td>\n",
       "      <td>246</td>\n",
       "    </tr>\n",
       "    <tr>\n",
       "      <th>2</th>\n",
       "      <td>PaymentScreenSuccessful</td>\n",
       "      <td>3518123091307005509</td>\n",
       "      <td>1564054127</td>\n",
       "      <td>248</td>\n",
       "    </tr>\n",
       "    <tr>\n",
       "      <th>3</th>\n",
       "      <td>CartScreenAppear</td>\n",
       "      <td>3518123091307005509</td>\n",
       "      <td>1564054127</td>\n",
       "      <td>248</td>\n",
       "    </tr>\n",
       "    <tr>\n",
       "      <th>4</th>\n",
       "      <td>PaymentScreenSuccessful</td>\n",
       "      <td>6217807653094995999</td>\n",
       "      <td>1564055322</td>\n",
       "      <td>248</td>\n",
       "    </tr>\n",
       "  </tbody>\n",
       "</table>\n",
       "</div>"
      ],
      "text/plain": [
       "                 EventName         DeviceIDHash  EventTimestamp  ExpId\n",
       "0         MainScreenAppear  4575588528974610257      1564029816    246\n",
       "1         MainScreenAppear  7416695313311560658      1564053102    246\n",
       "2  PaymentScreenSuccessful  3518123091307005509      1564054127    248\n",
       "3         CartScreenAppear  3518123091307005509      1564054127    248\n",
       "4  PaymentScreenSuccessful  6217807653094995999      1564055322    248"
      ]
     },
     "execution_count": 3,
     "metadata": {},
     "output_type": "execute_result"
    }
   ],
   "source": [
    "df.head()"
   ]
  },
  {
   "cell_type": "code",
   "execution_count": 4,
   "id": "c2c7ccb4",
   "metadata": {},
   "outputs": [
    {
     "name": "stdout",
     "output_type": "stream",
     "text": [
      "<class 'pandas.core.frame.DataFrame'>\n",
      "RangeIndex: 244126 entries, 0 to 244125\n",
      "Data columns (total 4 columns):\n",
      " #   Column          Non-Null Count   Dtype \n",
      "---  ------          --------------   ----- \n",
      " 0   EventName       244126 non-null  object\n",
      " 1   DeviceIDHash    244126 non-null  int64 \n",
      " 2   EventTimestamp  244126 non-null  int64 \n",
      " 3   ExpId           244126 non-null  int64 \n",
      "dtypes: int64(3), object(1)\n",
      "memory usage: 7.5+ MB\n"
     ]
    }
   ],
   "source": [
    "df.info()"
   ]
  },
  {
   "cell_type": "markdown",
   "id": "da40e815",
   "metadata": {},
   "source": [
    "## Выполним предобработку данных\n"
   ]
  },
  {
   "cell_type": "markdown",
   "id": "d90b92bc",
   "metadata": {},
   "source": [
    "### Добавлю столбец с датой и временим и отдельно только с датой"
   ]
  },
  {
   "cell_type": "code",
   "execution_count": 8,
   "id": "dd7b8559",
   "metadata": {},
   "outputs": [
    {
     "data": {
      "text/html": [
       "<div>\n",
       "<style scoped>\n",
       "    .dataframe tbody tr th:only-of-type {\n",
       "        vertical-align: middle;\n",
       "    }\n",
       "\n",
       "    .dataframe tbody tr th {\n",
       "        vertical-align: top;\n",
       "    }\n",
       "\n",
       "    .dataframe thead th {\n",
       "        text-align: right;\n",
       "    }\n",
       "</style>\n",
       "<table border=\"1\" class=\"dataframe\">\n",
       "  <thead>\n",
       "    <tr style=\"text-align: right;\">\n",
       "      <th></th>\n",
       "      <th>EventName</th>\n",
       "      <th>DeviceIDHash</th>\n",
       "      <th>EventTimestamp</th>\n",
       "      <th>ExpId</th>\n",
       "      <th>Date_Time</th>\n",
       "      <th>Date</th>\n",
       "    </tr>\n",
       "  </thead>\n",
       "  <tbody>\n",
       "    <tr>\n",
       "      <th>0</th>\n",
       "      <td>MainScreenAppear</td>\n",
       "      <td>4575588528974610257</td>\n",
       "      <td>1564029816</td>\n",
       "      <td>246</td>\n",
       "      <td>2019-07-25 04:43:36</td>\n",
       "      <td>2019-07-25</td>\n",
       "    </tr>\n",
       "    <tr>\n",
       "      <th>1</th>\n",
       "      <td>MainScreenAppear</td>\n",
       "      <td>7416695313311560658</td>\n",
       "      <td>1564053102</td>\n",
       "      <td>246</td>\n",
       "      <td>2019-07-25 11:11:42</td>\n",
       "      <td>2019-07-25</td>\n",
       "    </tr>\n",
       "    <tr>\n",
       "      <th>2</th>\n",
       "      <td>PaymentScreenSuccessful</td>\n",
       "      <td>3518123091307005509</td>\n",
       "      <td>1564054127</td>\n",
       "      <td>248</td>\n",
       "      <td>2019-07-25 11:28:47</td>\n",
       "      <td>2019-07-25</td>\n",
       "    </tr>\n",
       "    <tr>\n",
       "      <th>3</th>\n",
       "      <td>CartScreenAppear</td>\n",
       "      <td>3518123091307005509</td>\n",
       "      <td>1564054127</td>\n",
       "      <td>248</td>\n",
       "      <td>2019-07-25 11:28:47</td>\n",
       "      <td>2019-07-25</td>\n",
       "    </tr>\n",
       "    <tr>\n",
       "      <th>4</th>\n",
       "      <td>PaymentScreenSuccessful</td>\n",
       "      <td>6217807653094995999</td>\n",
       "      <td>1564055322</td>\n",
       "      <td>248</td>\n",
       "      <td>2019-07-25 11:48:42</td>\n",
       "      <td>2019-07-25</td>\n",
       "    </tr>\n",
       "    <tr>\n",
       "      <th>...</th>\n",
       "      <td>...</td>\n",
       "      <td>...</td>\n",
       "      <td>...</td>\n",
       "      <td>...</td>\n",
       "      <td>...</td>\n",
       "      <td>...</td>\n",
       "    </tr>\n",
       "    <tr>\n",
       "      <th>244121</th>\n",
       "      <td>MainScreenAppear</td>\n",
       "      <td>4599628364049201812</td>\n",
       "      <td>1565212345</td>\n",
       "      <td>247</td>\n",
       "      <td>2019-08-07 21:12:25</td>\n",
       "      <td>2019-08-07</td>\n",
       "    </tr>\n",
       "    <tr>\n",
       "      <th>244122</th>\n",
       "      <td>MainScreenAppear</td>\n",
       "      <td>5849806612437486590</td>\n",
       "      <td>1565212439</td>\n",
       "      <td>246</td>\n",
       "      <td>2019-08-07 21:13:59</td>\n",
       "      <td>2019-08-07</td>\n",
       "    </tr>\n",
       "    <tr>\n",
       "      <th>244123</th>\n",
       "      <td>MainScreenAppear</td>\n",
       "      <td>5746969938801999050</td>\n",
       "      <td>1565212483</td>\n",
       "      <td>246</td>\n",
       "      <td>2019-08-07 21:14:43</td>\n",
       "      <td>2019-08-07</td>\n",
       "    </tr>\n",
       "    <tr>\n",
       "      <th>244124</th>\n",
       "      <td>MainScreenAppear</td>\n",
       "      <td>5746969938801999050</td>\n",
       "      <td>1565212498</td>\n",
       "      <td>246</td>\n",
       "      <td>2019-08-07 21:14:58</td>\n",
       "      <td>2019-08-07</td>\n",
       "    </tr>\n",
       "    <tr>\n",
       "      <th>244125</th>\n",
       "      <td>OffersScreenAppear</td>\n",
       "      <td>5746969938801999050</td>\n",
       "      <td>1565212517</td>\n",
       "      <td>246</td>\n",
       "      <td>2019-08-07 21:15:17</td>\n",
       "      <td>2019-08-07</td>\n",
       "    </tr>\n",
       "  </tbody>\n",
       "</table>\n",
       "<p>244126 rows × 6 columns</p>\n",
       "</div>"
      ],
      "text/plain": [
       "                      EventName         DeviceIDHash  EventTimestamp  ExpId  \\\n",
       "0              MainScreenAppear  4575588528974610257      1564029816    246   \n",
       "1              MainScreenAppear  7416695313311560658      1564053102    246   \n",
       "2       PaymentScreenSuccessful  3518123091307005509      1564054127    248   \n",
       "3              CartScreenAppear  3518123091307005509      1564054127    248   \n",
       "4       PaymentScreenSuccessful  6217807653094995999      1564055322    248   \n",
       "...                         ...                  ...             ...    ...   \n",
       "244121         MainScreenAppear  4599628364049201812      1565212345    247   \n",
       "244122         MainScreenAppear  5849806612437486590      1565212439    246   \n",
       "244123         MainScreenAppear  5746969938801999050      1565212483    246   \n",
       "244124         MainScreenAppear  5746969938801999050      1565212498    246   \n",
       "244125       OffersScreenAppear  5746969938801999050      1565212517    246   \n",
       "\n",
       "                 Date_Time       Date  \n",
       "0      2019-07-25 04:43:36 2019-07-25  \n",
       "1      2019-07-25 11:11:42 2019-07-25  \n",
       "2      2019-07-25 11:28:47 2019-07-25  \n",
       "3      2019-07-25 11:28:47 2019-07-25  \n",
       "4      2019-07-25 11:48:42 2019-07-25  \n",
       "...                    ...        ...  \n",
       "244121 2019-08-07 21:12:25 2019-08-07  \n",
       "244122 2019-08-07 21:13:59 2019-08-07  \n",
       "244123 2019-08-07 21:14:43 2019-08-07  \n",
       "244124 2019-08-07 21:14:58 2019-08-07  \n",
       "244125 2019-08-07 21:15:17 2019-08-07  \n",
       "\n",
       "[244126 rows x 6 columns]"
      ]
     },
     "execution_count": 8,
     "metadata": {},
     "output_type": "execute_result"
    }
   ],
   "source": [
    "df['Date_Time'] = pd.to_datetime(df['EventTimestamp'], unit = 's')\n",
    "df['Date'] = df['Date_Time'].astype('datetime64[D]')\n",
    "df"
   ]
  },
  {
   "cell_type": "markdown",
   "id": "c774b802",
   "metadata": {},
   "source": [
    "### Выполню проверку на дубликаты"
   ]
  },
  {
   "cell_type": "code",
   "execution_count": 9,
   "id": "da978c87",
   "metadata": {},
   "outputs": [
    {
     "data": {
      "text/plain": [
       "413"
      ]
     },
     "execution_count": 9,
     "metadata": {},
     "output_type": "execute_result"
    }
   ],
   "source": [
    "df.duplicated().sum()"
   ]
  },
  {
   "cell_type": "code",
   "execution_count": 10,
   "id": "593efaee",
   "metadata": {},
   "outputs": [
    {
     "data": {
      "text/plain": [
       "243713"
      ]
     },
     "execution_count": 10,
     "metadata": {},
     "output_type": "execute_result"
    }
   ],
   "source": [
    "#удаляю дубликаты\n",
    "df = df.drop_duplicates()\n",
    "#смотрю что ничего лишнего не удалилось\n",
    "df.shape[0]"
   ]
  },
  {
   "cell_type": "code",
   "execution_count": 13,
   "id": "42c709a1",
   "metadata": {},
   "outputs": [
    {
     "data": {
      "text/html": [
       "<div>\n",
       "<style scoped>\n",
       "    .dataframe tbody tr th:only-of-type {\n",
       "        vertical-align: middle;\n",
       "    }\n",
       "\n",
       "    .dataframe tbody tr th {\n",
       "        vertical-align: top;\n",
       "    }\n",
       "\n",
       "    .dataframe thead th {\n",
       "        text-align: right;\n",
       "    }\n",
       "</style>\n",
       "<table border=\"1\" class=\"dataframe\">\n",
       "  <thead>\n",
       "    <tr style=\"text-align: right;\">\n",
       "      <th></th>\n",
       "      <th>EventName</th>\n",
       "      <th>DeviceIDHash</th>\n",
       "      <th>EventTimestamp</th>\n",
       "      <th>ExpId</th>\n",
       "      <th>Date_Time</th>\n",
       "      <th>Date</th>\n",
       "    </tr>\n",
       "  </thead>\n",
       "  <tbody>\n",
       "    <tr>\n",
       "      <th>0</th>\n",
       "      <td>MainScreenAppear</td>\n",
       "      <td>4575588528974610257</td>\n",
       "      <td>1564029816</td>\n",
       "      <td>246</td>\n",
       "      <td>2019-07-25 04:43:36</td>\n",
       "      <td>2019-07-25</td>\n",
       "    </tr>\n",
       "    <tr>\n",
       "      <th>1</th>\n",
       "      <td>MainScreenAppear</td>\n",
       "      <td>7416695313311560658</td>\n",
       "      <td>1564053102</td>\n",
       "      <td>246</td>\n",
       "      <td>2019-07-25 11:11:42</td>\n",
       "      <td>2019-07-25</td>\n",
       "    </tr>\n",
       "    <tr>\n",
       "      <th>2</th>\n",
       "      <td>PaymentScreenSuccessful</td>\n",
       "      <td>3518123091307005509</td>\n",
       "      <td>1564054127</td>\n",
       "      <td>248</td>\n",
       "      <td>2019-07-25 11:28:47</td>\n",
       "      <td>2019-07-25</td>\n",
       "    </tr>\n",
       "    <tr>\n",
       "      <th>3</th>\n",
       "      <td>CartScreenAppear</td>\n",
       "      <td>3518123091307005509</td>\n",
       "      <td>1564054127</td>\n",
       "      <td>248</td>\n",
       "      <td>2019-07-25 11:28:47</td>\n",
       "      <td>2019-07-25</td>\n",
       "    </tr>\n",
       "    <tr>\n",
       "      <th>4</th>\n",
       "      <td>PaymentScreenSuccessful</td>\n",
       "      <td>6217807653094995999</td>\n",
       "      <td>1564055322</td>\n",
       "      <td>248</td>\n",
       "      <td>2019-07-25 11:48:42</td>\n",
       "      <td>2019-07-25</td>\n",
       "    </tr>\n",
       "    <tr>\n",
       "      <th>...</th>\n",
       "      <td>...</td>\n",
       "      <td>...</td>\n",
       "      <td>...</td>\n",
       "      <td>...</td>\n",
       "      <td>...</td>\n",
       "      <td>...</td>\n",
       "    </tr>\n",
       "    <tr>\n",
       "      <th>243708</th>\n",
       "      <td>MainScreenAppear</td>\n",
       "      <td>4599628364049201812</td>\n",
       "      <td>1565212345</td>\n",
       "      <td>247</td>\n",
       "      <td>2019-08-07 21:12:25</td>\n",
       "      <td>2019-08-07</td>\n",
       "    </tr>\n",
       "    <tr>\n",
       "      <th>243709</th>\n",
       "      <td>MainScreenAppear</td>\n",
       "      <td>5849806612437486590</td>\n",
       "      <td>1565212439</td>\n",
       "      <td>246</td>\n",
       "      <td>2019-08-07 21:13:59</td>\n",
       "      <td>2019-08-07</td>\n",
       "    </tr>\n",
       "    <tr>\n",
       "      <th>243710</th>\n",
       "      <td>MainScreenAppear</td>\n",
       "      <td>5746969938801999050</td>\n",
       "      <td>1565212483</td>\n",
       "      <td>246</td>\n",
       "      <td>2019-08-07 21:14:43</td>\n",
       "      <td>2019-08-07</td>\n",
       "    </tr>\n",
       "    <tr>\n",
       "      <th>243711</th>\n",
       "      <td>MainScreenAppear</td>\n",
       "      <td>5746969938801999050</td>\n",
       "      <td>1565212498</td>\n",
       "      <td>246</td>\n",
       "      <td>2019-08-07 21:14:58</td>\n",
       "      <td>2019-08-07</td>\n",
       "    </tr>\n",
       "    <tr>\n",
       "      <th>243712</th>\n",
       "      <td>OffersScreenAppear</td>\n",
       "      <td>5746969938801999050</td>\n",
       "      <td>1565212517</td>\n",
       "      <td>246</td>\n",
       "      <td>2019-08-07 21:15:17</td>\n",
       "      <td>2019-08-07</td>\n",
       "    </tr>\n",
       "  </tbody>\n",
       "</table>\n",
       "<p>243713 rows × 6 columns</p>\n",
       "</div>"
      ],
      "text/plain": [
       "                      EventName         DeviceIDHash  EventTimestamp  ExpId  \\\n",
       "0              MainScreenAppear  4575588528974610257      1564029816    246   \n",
       "1              MainScreenAppear  7416695313311560658      1564053102    246   \n",
       "2       PaymentScreenSuccessful  3518123091307005509      1564054127    248   \n",
       "3              CartScreenAppear  3518123091307005509      1564054127    248   \n",
       "4       PaymentScreenSuccessful  6217807653094995999      1564055322    248   \n",
       "...                         ...                  ...             ...    ...   \n",
       "243708         MainScreenAppear  4599628364049201812      1565212345    247   \n",
       "243709         MainScreenAppear  5849806612437486590      1565212439    246   \n",
       "243710         MainScreenAppear  5746969938801999050      1565212483    246   \n",
       "243711         MainScreenAppear  5746969938801999050      1565212498    246   \n",
       "243712       OffersScreenAppear  5746969938801999050      1565212517    246   \n",
       "\n",
       "                 Date_Time       Date  \n",
       "0      2019-07-25 04:43:36 2019-07-25  \n",
       "1      2019-07-25 11:11:42 2019-07-25  \n",
       "2      2019-07-25 11:28:47 2019-07-25  \n",
       "3      2019-07-25 11:28:47 2019-07-25  \n",
       "4      2019-07-25 11:48:42 2019-07-25  \n",
       "...                    ...        ...  \n",
       "243708 2019-08-07 21:12:25 2019-08-07  \n",
       "243709 2019-08-07 21:13:59 2019-08-07  \n",
       "243710 2019-08-07 21:14:43 2019-08-07  \n",
       "243711 2019-08-07 21:14:58 2019-08-07  \n",
       "243712 2019-08-07 21:15:17 2019-08-07  \n",
       "\n",
       "[243713 rows x 6 columns]"
      ]
     },
     "execution_count": 13,
     "metadata": {},
     "output_type": "execute_result"
    }
   ],
   "source": [
    "#обновлю индексы после удаления дубликатов\n",
    "df.reset_index(drop= True , inplace= True )\n",
    "df"
   ]
  },
  {
   "cell_type": "markdown",
   "id": "97b52676",
   "metadata": {},
   "source": [
    "### Выполю проверку на пропуск"
   ]
  },
  {
   "cell_type": "code",
   "execution_count": 14,
   "id": "d2799c08",
   "metadata": {},
   "outputs": [
    {
     "data": {
      "text/plain": [
       "EventName         0\n",
       "DeviceIDHash      0\n",
       "EventTimestamp    0\n",
       "ExpId             0\n",
       "Date_Time         0\n",
       "Date              0\n",
       "dtype: int64"
      ]
     },
     "execution_count": 14,
     "metadata": {},
     "output_type": "execute_result"
    }
   ],
   "source": [
    "df.isna().sum()"
   ]
  },
  {
   "cell_type": "markdown",
   "id": "c6010c8e",
   "metadata": {},
   "source": [
    "### Проверка есть ли пользователи попавшие в обе группы"
   ]
  },
  {
   "cell_type": "code",
   "execution_count": 15,
   "id": "06a2d692",
   "metadata": {},
   "outputs": [
    {
     "data": {
      "text/plain": [
       "ExpId    0\n",
       "dtype: int64"
      ]
     },
     "execution_count": 15,
     "metadata": {},
     "output_type": "execute_result"
    }
   ],
   "source": [
    "a_b_users = df.groupby('DeviceIDHash').agg({'ExpId' : 'nunique'}).query('ExpId>1').count()\n",
    "a_b_users"
   ]
  },
  {
   "cell_type": "markdown",
   "id": "84d3944b",
   "metadata": {},
   "source": [
    "Вывод: В процессе предобработки были добавлены 2 столбца - с датой и с датой и временем.\\\n",
    "выполена проверка на дубликаты - удалено 413\\\n",
    "выполнена проверка на пропуски - пропусков нет\\\n",
    "проверка есть ли пользователи, попавшие в обе группы - таких нет"
   ]
  },
  {
   "cell_type": "markdown",
   "id": "ae2c2193",
   "metadata": {},
   "source": [
    "## Изучение и проверка данных"
   ]
  },
  {
   "cell_type": "markdown",
   "id": "fdaa1708",
   "metadata": {},
   "source": [
    "### Сколько всего событий в логе"
   ]
  },
  {
   "cell_type": "code",
   "execution_count": 16,
   "id": "54d930a3",
   "metadata": {},
   "outputs": [
    {
     "name": "stdout",
     "output_type": "stream",
     "text": [
      "Всего событий: 243713\n"
     ]
    }
   ],
   "source": [
    "print('Всего событий:',df.shape[0])"
   ]
  },
  {
   "cell_type": "markdown",
   "id": "e8ed5f3d",
   "metadata": {},
   "source": [
    "### Сколько всего пользователей в логе"
   ]
  },
  {
   "cell_type": "code",
   "execution_count": 17,
   "id": "002c5aa5",
   "metadata": {},
   "outputs": [
    {
     "name": "stdout",
     "output_type": "stream",
     "text": [
      "Всего пользователей: 7551\n"
     ]
    }
   ],
   "source": [
    "print('Всего пользователей:',df['DeviceIDHash'].nunique())"
   ]
  },
  {
   "cell_type": "markdown",
   "id": "5911fa5d",
   "metadata": {},
   "source": [
    "### Сколько в среднем событий приходится на пользователя"
   ]
  },
  {
   "cell_type": "code",
   "execution_count": 18,
   "id": "10715cea",
   "metadata": {},
   "outputs": [
    {
     "name": "stdout",
     "output_type": "stream",
     "text": [
      "В среднем событий на пользователя: 32.3\n"
     ]
    }
   ],
   "source": [
    "print('В среднем событий на пользователя:', \"{0:.1f}\".format(df.shape[0]/df['DeviceIDHash'].nunique()))"
   ]
  },
  {
   "cell_type": "code",
   "execution_count": 26,
   "id": "218a1f77",
   "metadata": {},
   "outputs": [
    {
     "data": {
      "image/png": "[encoded data removed]",
      "text/plain": [
       "<Figure size 1100x500 with 1 Axes>"
      ]
     },
     "metadata": {},
     "output_type": "display_data"
    }
   ],
   "source": [
    "#сгруппирую пользователей по количеству событий и построю гистограмму\n",
    "plt.figure(figsize=(11,5))\n",
    "event_users = df.groupby('DeviceIDHash')['EventName'].count().sort_values()\n",
    "event_users.hist(bins=100)\n",
    "plt.title('Распределение кооличества событий на пользователя')\n",
    "plt.xlabel('пользователи')\n",
    "plt.ylabel('количество событий')\n",
    "plt.show()"
   ]
  },
  {
   "cell_type": "code",
   "execution_count": 27,
   "id": "1e8e879b",
   "metadata": {
    "scrolled": false
   },
   "outputs": [
    {
     "data": {
      "image/png": "[encoded data removed]",
      "text/plain": [
       "<Figure size 1100x500 with 1 Axes>"
      ]
     },
     "metadata": {},
     "output_type": "display_data"
    }
   ],
   "source": [
    "# увеличим масштаб\n",
    "plt.figure(figsize=(11,5))\n",
    "event_users.hist(bins=300)\n",
    "plt.xlim(0,300)\n",
    "plt.title('Распределение кооличества событий на пользователя')\n",
    "plt.xlabel('пользователи')\n",
    "plt.ylabel('количество событий')\n",
    "plt.show()"
   ]
  },
  {
   "cell_type": "markdown",
   "id": "def0cbb3",
   "metadata": {},
   "source": [
    "Явно есть пользователи которые супер активно пользуются приложением и их чуть больше 50. "
   ]
  },
  {
   "cell_type": "markdown",
   "id": "74c31093",
   "metadata": {},
   "source": [
    "### Данными за какой период вы располагаете? Найдите максимальную и минимальную дату. Постройте гистограмму по дате и времени. Можно ли быть уверенным, что у вас одинаково полные данные за весь период? Технически в логи новых дней по некоторым пользователям могут «доезжать» события из прошлого — это может «перекашивать данные». Определите, с какого момента данные полные и отбросьте более старые. Данными за какой период времени вы располагаете на самом деле?"
   ]
  },
  {
   "cell_type": "code",
   "execution_count": 29,
   "id": "7dc283da",
   "metadata": {
    "scrolled": true
   },
   "outputs": [
    {
     "name": "stdout",
     "output_type": "stream",
     "text": [
      "Максимальная дата 2019-08-07 00:00:00\n",
      "Минимальная дата 2019-07-25 00:00:00\n"
     ]
    }
   ],
   "source": [
    "print('Максимальная дата',df['Date'].max())\n",
    "print('Минимальная дата',df['Date'].min())"
   ]
  },
  {
   "cell_type": "markdown",
   "id": "41164855",
   "metadata": {},
   "source": [
    "#### Гистограмма по дате и врмени"
   ]
  },
  {
   "cell_type": "code",
   "execution_count": 28,
   "id": "3778e3b6",
   "metadata": {},
   "outputs": [
    {
     "data": {
      "image/png": "[encoded data removed]",
      "text/plain": [
       "<Figure size 1100x500 with 1 Axes>"
      ]
     },
     "metadata": {},
     "output_type": "display_data"
    }
   ],
   "source": [
    "plt.figure(figsize=(11,5))\n",
    "\n",
    "df['Date_Time'].hist(bins=14*24) # 14 дней по 24 часа\n",
    "\n",
    "plt.title('Частота событий')\n",
    "\n",
    "plt.xticks(rotation=35)\n",
    "plt.ylabel('Количество событий')\n",
    "plt.show() "
   ]
  },
  {
   "cell_type": "code",
   "execution_count": 17,
   "id": "a09999d5",
   "metadata": {},
   "outputs": [
    {
     "data": {
      "text/plain": [
       "Date\n",
       "2019-07-25        9\n",
       "2019-07-26       31\n",
       "2019-07-27       55\n",
       "2019-07-28      105\n",
       "2019-07-29      184\n",
       "2019-07-30      412\n",
       "2019-07-31     2030\n",
       "2019-08-01    36141\n",
       "2019-08-02    35554\n",
       "2019-08-03    33282\n",
       "2019-08-04    32968\n",
       "2019-08-05    36058\n",
       "2019-08-06    35788\n",
       "2019-08-07    31096\n",
       "Name: EventName, dtype: int64"
      ]
     },
     "execution_count": 17,
     "metadata": {},
     "output_type": "execute_result"
    }
   ],
   "source": [
    "#Сгруппирую данные чтобы точнее оценить период\n",
    "df.groupby('Date')['EventName'].count()"
   ]
  },
  {
   "cell_type": "markdown",
   "id": "7332db5f",
   "metadata": {},
   "source": [
    "Данные за первую неделю неполные.\n",
    "Видно сильное изменение в количестве событий начиная с 1 августа. Располагаем периодом с 01-08 по 07-08. Сделаем сред с данными за вторую неделю"
   ]
  },
  {
   "cell_type": "code",
   "execution_count": 30,
   "id": "d5a9e64a",
   "metadata": {},
   "outputs": [],
   "source": [
    "df_sw = df[df['Date'] > '2019-07-31']\n"
   ]
  },
  {
   "cell_type": "code",
   "execution_count": 31,
   "id": "33f6a5a7",
   "metadata": {
    "scrolled": false
   },
   "outputs": [
    {
     "data": {
      "text/html": [
       "<div>\n",
       "<style scoped>\n",
       "    .dataframe tbody tr th:only-of-type {\n",
       "        vertical-align: middle;\n",
       "    }\n",
       "\n",
       "    .dataframe tbody tr th {\n",
       "        vertical-align: top;\n",
       "    }\n",
       "\n",
       "    .dataframe thead th {\n",
       "        text-align: right;\n",
       "    }\n",
       "</style>\n",
       "<table border=\"1\" class=\"dataframe\">\n",
       "  <thead>\n",
       "    <tr style=\"text-align: right;\">\n",
       "      <th></th>\n",
       "      <th>EventName</th>\n",
       "      <th>DeviceIDHash</th>\n",
       "      <th>EventTimestamp</th>\n",
       "      <th>ExpId</th>\n",
       "      <th>Date_Time</th>\n",
       "      <th>Date</th>\n",
       "    </tr>\n",
       "  </thead>\n",
       "  <tbody>\n",
       "    <tr>\n",
       "      <th>2826</th>\n",
       "      <td>Tutorial</td>\n",
       "      <td>3737462046622621720</td>\n",
       "      <td>1564618048</td>\n",
       "      <td>246</td>\n",
       "      <td>2019-08-01 00:07:28</td>\n",
       "      <td>2019-08-01</td>\n",
       "    </tr>\n",
       "    <tr>\n",
       "      <th>2827</th>\n",
       "      <td>MainScreenAppear</td>\n",
       "      <td>3737462046622621720</td>\n",
       "      <td>1564618080</td>\n",
       "      <td>246</td>\n",
       "      <td>2019-08-01 00:08:00</td>\n",
       "      <td>2019-08-01</td>\n",
       "    </tr>\n",
       "    <tr>\n",
       "      <th>2828</th>\n",
       "      <td>MainScreenAppear</td>\n",
       "      <td>3737462046622621720</td>\n",
       "      <td>1564618135</td>\n",
       "      <td>246</td>\n",
       "      <td>2019-08-01 00:08:55</td>\n",
       "      <td>2019-08-01</td>\n",
       "    </tr>\n",
       "    <tr>\n",
       "      <th>2829</th>\n",
       "      <td>OffersScreenAppear</td>\n",
       "      <td>3737462046622621720</td>\n",
       "      <td>1564618138</td>\n",
       "      <td>246</td>\n",
       "      <td>2019-08-01 00:08:58</td>\n",
       "      <td>2019-08-01</td>\n",
       "    </tr>\n",
       "    <tr>\n",
       "      <th>2830</th>\n",
       "      <td>MainScreenAppear</td>\n",
       "      <td>1433840883824088890</td>\n",
       "      <td>1564618139</td>\n",
       "      <td>247</td>\n",
       "      <td>2019-08-01 00:08:59</td>\n",
       "      <td>2019-08-01</td>\n",
       "    </tr>\n",
       "  </tbody>\n",
       "</table>\n",
       "</div>"
      ],
      "text/plain": [
       "               EventName         DeviceIDHash  EventTimestamp  ExpId  \\\n",
       "2826            Tutorial  3737462046622621720      1564618048    246   \n",
       "2827    MainScreenAppear  3737462046622621720      1564618080    246   \n",
       "2828    MainScreenAppear  3737462046622621720      1564618135    246   \n",
       "2829  OffersScreenAppear  3737462046622621720      1564618138    246   \n",
       "2830    MainScreenAppear  1433840883824088890      1564618139    247   \n",
       "\n",
       "               Date_Time       Date  \n",
       "2826 2019-08-01 00:07:28 2019-08-01  \n",
       "2827 2019-08-01 00:08:00 2019-08-01  \n",
       "2828 2019-08-01 00:08:55 2019-08-01  \n",
       "2829 2019-08-01 00:08:58 2019-08-01  \n",
       "2830 2019-08-01 00:08:59 2019-08-01  "
      ]
     },
     "execution_count": 31,
     "metadata": {},
     "output_type": "execute_result"
    }
   ],
   "source": [
    "df_sw.head()"
   ]
  },
  {
   "cell_type": "markdown",
   "id": "36e7a2f4",
   "metadata": {},
   "source": [
    "### Много ли событий и пользователей вы потеряли, отбросив старые данные"
   ]
  },
  {
   "cell_type": "code",
   "execution_count": 32,
   "id": "d4ef5452",
   "metadata": {},
   "outputs": [
    {
     "name": "stdout",
     "output_type": "stream",
     "text": [
      "Потеряно уникальных событий: 0\n",
      "Потеряно уникальных пользователей: 17 , что составляет 0.23%\n",
      "Всего удалено строк: 2826 , что составляет 1.16%\n"
     ]
    }
   ],
   "source": [
    "print('Потеряно уникальных событий:', df['EventName'].nunique() - df_sw['EventName'].nunique())\n",
    "print('Потеряно уникальных пользователей:', df['DeviceIDHash'].nunique() - df_sw['DeviceIDHash'].nunique(), \\\n",
    "      ', что составляет {:.2%}'.format((df['DeviceIDHash'].nunique()\\\n",
    "                                        - df_sw['DeviceIDHash'].nunique())/(df['DeviceIDHash'].nunique())))\n",
    "print('Всего удалено строк:',df.shape[0] - df_sw.shape[0],\\\n",
    "      ', что составляет {:.2%}'.format((df.shape[0] - df_sw.shape[0])/df.shape[0]))"
   ]
  },
  {
   "cell_type": "markdown",
   "id": "f9471730",
   "metadata": {},
   "source": [
    "### Проверьте, что у вас есть пользователи из всех трёх экспериментальных групп."
   ]
  },
  {
   "cell_type": "code",
   "execution_count": 33,
   "id": "1f63c33e",
   "metadata": {},
   "outputs": [
    {
     "data": {
      "text/plain": [
       "ExpId\n",
       "246    2484\n",
       "247    2513\n",
       "248    2537\n",
       "Name: DeviceIDHash, dtype: int64"
      ]
     },
     "execution_count": 33,
     "metadata": {},
     "output_type": "execute_result"
    }
   ],
   "source": [
    "df_sw.groupby('ExpId')['DeviceIDHash'].nunique()"
   ]
  },
  {
   "cell_type": "markdown",
   "id": "13ec8f2e",
   "metadata": {},
   "source": [
    "Вывод: далее работа будет продолжаться с новым срезом куда попали данные за втроую неделю. Данные за первую неделю не полные их количество в разы отличается от объема данным за вторую неделю. В новый срез не попал 1,16% всех данных и менее 1% уникальных пользователей"
   ]
  },
  {
   "cell_type": "markdown",
   "id": "c5fa4f6a",
   "metadata": {},
   "source": [
    "## Изучите воронку событий"
   ]
  },
  {
   "cell_type": "markdown",
   "id": "46b0bf74",
   "metadata": {},
   "source": [
    "### Посмотрите, какие события есть в логах, как часто они встречаются. Отсортируйте события по частоте"
   ]
  },
  {
   "cell_type": "code",
   "execution_count": 34,
   "id": "6461c14c",
   "metadata": {},
   "outputs": [
    {
     "data": {
      "text/plain": [
       "EventName\n",
       "Tutorial                     1005\n",
       "PaymentScreenSuccessful     33918\n",
       "CartScreenAppear            42303\n",
       "OffersScreenAppear          46333\n",
       "MainScreenAppear           117328\n",
       "Name: Date_Time, dtype: int64"
      ]
     },
     "execution_count": 34,
     "metadata": {},
     "output_type": "execute_result"
    }
   ],
   "source": [
    "df_sw.groupby('EventName')['Date_Time'].count().sort_values()"
   ]
  },
  {
   "cell_type": "markdown",
   "id": "9a49c25a",
   "metadata": {},
   "source": [
    "### Посчитайте, сколько пользователей совершали каждое из этих событий. Отсортируйте события по числу пользователей. Посчитайте долю пользователей, которые хоть раз совершали событие"
   ]
  },
  {
   "cell_type": "code",
   "execution_count": 35,
   "id": "e0fd4e82",
   "metadata": {},
   "outputs": [
    {
     "data": {
      "text/html": [
       "<div>\n",
       "<style scoped>\n",
       "    .dataframe tbody tr th:only-of-type {\n",
       "        vertical-align: middle;\n",
       "    }\n",
       "\n",
       "    .dataframe tbody tr th {\n",
       "        vertical-align: top;\n",
       "    }\n",
       "\n",
       "    .dataframe thead th {\n",
       "        text-align: right;\n",
       "    }\n",
       "</style>\n",
       "<table border=\"1\" class=\"dataframe\">\n",
       "  <thead>\n",
       "    <tr style=\"text-align: right;\">\n",
       "      <th></th>\n",
       "      <th>EventName</th>\n",
       "      <th>DeviceIDHash</th>\n",
       "      <th>%_of_all_users</th>\n",
       "    </tr>\n",
       "  </thead>\n",
       "  <tbody>\n",
       "    <tr>\n",
       "      <th>0</th>\n",
       "      <td>MainScreenAppear</td>\n",
       "      <td>7419</td>\n",
       "      <td>98.47</td>\n",
       "    </tr>\n",
       "    <tr>\n",
       "      <th>1</th>\n",
       "      <td>OffersScreenAppear</td>\n",
       "      <td>4593</td>\n",
       "      <td>60.96</td>\n",
       "    </tr>\n",
       "    <tr>\n",
       "      <th>2</th>\n",
       "      <td>CartScreenAppear</td>\n",
       "      <td>3734</td>\n",
       "      <td>49.56</td>\n",
       "    </tr>\n",
       "    <tr>\n",
       "      <th>3</th>\n",
       "      <td>PaymentScreenSuccessful</td>\n",
       "      <td>3539</td>\n",
       "      <td>46.97</td>\n",
       "    </tr>\n",
       "    <tr>\n",
       "      <th>4</th>\n",
       "      <td>Tutorial</td>\n",
       "      <td>840</td>\n",
       "      <td>11.15</td>\n",
       "    </tr>\n",
       "  </tbody>\n",
       "</table>\n",
       "</div>"
      ],
      "text/plain": [
       "                 EventName  DeviceIDHash  %_of_all_users\n",
       "0         MainScreenAppear          7419           98.47\n",
       "1       OffersScreenAppear          4593           60.96\n",
       "2         CartScreenAppear          3734           49.56\n",
       "3  PaymentScreenSuccessful          3539           46.97\n",
       "4                 Tutorial           840           11.15"
      ]
     },
     "execution_count": 35,
     "metadata": {},
     "output_type": "execute_result"
    }
   ],
   "source": [
    "#скольо пользователей совершали каждое из событий\n",
    "event = df_sw.groupby('EventName')['DeviceIDHash'].nunique().sort_values(ascending=False).reset_index()\n",
    "#добавлю столбец с процентом от всех пользователей\n",
    "event['%_of_all_users'] = (event['DeviceIDHash']/df_sw['DeviceIDHash'].nunique()*100).round(2)\n",
    "event"
   ]
  },
  {
   "cell_type": "markdown",
   "id": "bd329af1",
   "metadata": {},
   "source": [
    "### Предположите, в каком порядке происходят события. Все ли они выстраиваются в последовательную цепочку? Их не нужно учитывать при расчёте воронки."
   ]
  },
  {
   "cell_type": "markdown",
   "id": "e49968c8",
   "metadata": {},
   "source": [
    "Предполагаю, что события выстраиваются в следующей последовательности:\\\n",
    "1 - MainScreenAppear - основной экран\\\n",
    "2 - OffersScreenAppear - экран с товарами\\\n",
    "3 - CartScreenAppear - экран корзины\\\n",
    "4 - PaymentScreenSuccessful - экран с окном \"успешная оплата\"\n",
    "\n",
    "Обучающий экран - Tutorial - используют 11% пользователей, думаю, что на него переходят по специальной кнопке, если в этом есть необходимость \n"
   ]
  },
  {
   "cell_type": "markdown",
   "id": "8a561d39",
   "metadata": {},
   "source": [
    "### По воронке событий посчитайте, какая доля пользователей проходит на следующий шаг воронки (от числа пользователей на предыдущем). То есть для последовательности событий A → B → C посчитайте отношение числа пользователей с событием B к количеству пользователей с событием A, а также отношение числа пользователей с событием C к количеству пользователей с событием B.\n"
   ]
  },
  {
   "cell_type": "code",
   "execution_count": 24,
   "id": "a456937c",
   "metadata": {
    "scrolled": true
   },
   "outputs": [
    {
     "data": {
      "text/html": [
       "<div>\n",
       "<style scoped>\n",
       "    .dataframe tbody tr th:only-of-type {\n",
       "        vertical-align: middle;\n",
       "    }\n",
       "\n",
       "    .dataframe tbody tr th {\n",
       "        vertical-align: top;\n",
       "    }\n",
       "\n",
       "    .dataframe thead th {\n",
       "        text-align: right;\n",
       "    }\n",
       "</style>\n",
       "<table border=\"1\" class=\"dataframe\">\n",
       "  <thead>\n",
       "    <tr style=\"text-align: right;\">\n",
       "      <th></th>\n",
       "      <th>EventName</th>\n",
       "      <th>DeviceIDHash</th>\n",
       "      <th>%_of_all_users</th>\n",
       "      <th>%_to_next_step</th>\n",
       "    </tr>\n",
       "  </thead>\n",
       "  <tbody>\n",
       "    <tr>\n",
       "      <th>0</th>\n",
       "      <td>MainScreenAppear</td>\n",
       "      <td>7419</td>\n",
       "      <td>98.47</td>\n",
       "      <td>100.00</td>\n",
       "    </tr>\n",
       "    <tr>\n",
       "      <th>1</th>\n",
       "      <td>OffersScreenAppear</td>\n",
       "      <td>4593</td>\n",
       "      <td>60.96</td>\n",
       "      <td>61.91</td>\n",
       "    </tr>\n",
       "    <tr>\n",
       "      <th>2</th>\n",
       "      <td>CartScreenAppear</td>\n",
       "      <td>3734</td>\n",
       "      <td>49.56</td>\n",
       "      <td>81.30</td>\n",
       "    </tr>\n",
       "    <tr>\n",
       "      <th>3</th>\n",
       "      <td>PaymentScreenSuccessful</td>\n",
       "      <td>3539</td>\n",
       "      <td>46.97</td>\n",
       "      <td>94.78</td>\n",
       "    </tr>\n",
       "  </tbody>\n",
       "</table>\n",
       "</div>"
      ],
      "text/plain": [
       "                 EventName  DeviceIDHash  %_of_all_users  %_to_next_step\n",
       "0         MainScreenAppear          7419           98.47          100.00\n",
       "1       OffersScreenAppear          4593           60.96           61.91\n",
       "2         CartScreenAppear          3734           49.56           81.30\n",
       "3  PaymentScreenSuccessful          3539           46.97           94.78"
      ]
     },
     "execution_count": 24,
     "metadata": {},
     "output_type": "execute_result"
    }
   ],
   "source": [
    "#уберем из расчетов строчку с туториалом\n",
    "event_no_tutorial = event[event['EventName'] != 'Tutorial']\n",
    "\n",
    "event_no_tutorial['%_to_next_step'] = \\\n",
    "    round(event_no_tutorial['DeviceIDHash']*100/event_no_tutorial['DeviceIDHash'].shift(periods=1, \\\n",
    "                                        fill_value = event_no_tutorial['DeviceIDHash'][0]), 2)\n",
    "event_no_tutorial"
   ]
  },
  {
   "cell_type": "markdown",
   "id": "00a21874",
   "metadata": {},
   "source": [
    "Меньше всего пользователей доходит от главного экрана к экрану с товарами - 62%\\\n",
    "81.3% пользователей из экрана с товарами переходят на экран с корзиной\\\n",
    "~ 95% пользователей успешно завершают покупки\n"
   ]
  },
  {
   "cell_type": "markdown",
   "id": "be4dfd07",
   "metadata": {},
   "source": [
    "### Какая доля пользователей доходит от первого события до оплаты"
   ]
  },
  {
   "cell_type": "code",
   "execution_count": 25,
   "id": "0315f85a",
   "metadata": {},
   "outputs": [
    {
     "data": {
      "text/plain": [
       "47.7"
      ]
     },
     "execution_count": 25,
     "metadata": {},
     "output_type": "execute_result"
    }
   ],
   "source": [
    "round(event_no_tutorial['DeviceIDHash'][3] /event_no_tutorial['DeviceIDHash'][0]*100, 2)"
   ]
  },
  {
   "cell_type": "markdown",
   "id": "84fd68e3",
   "metadata": {},
   "source": [
    "До оплаты доходит менее половины пользователей - 47,7%"
   ]
  },
  {
   "cell_type": "markdown",
   "id": "4bead896",
   "metadata": {},
   "source": [
    "Вывод: \\\n",
    "Предполагаемая цепока событий: главный экран->окно товаров->корзина->окно успешной оплаты\\\n",
    "На втором этапе теряется самое значительное количество пользоватлей - 38% стоит обратить на это внимание, лучше изучить пользователей\\\n",
    "Если польователь добавил товар в корзину, то с вероятностью 95% он его купит"
   ]
  },
  {
   "cell_type": "markdown",
   "id": "4772383a",
   "metadata": {},
   "source": [
    "## Изучите результаты эксперимента"
   ]
  },
  {
   "cell_type": "markdown",
   "id": "525f4ba9",
   "metadata": {},
   "source": [
    "### Сколько пользователей в каждой экспериментальной группе"
   ]
  },
  {
   "cell_type": "code",
   "execution_count": 36,
   "id": "fd1d8506",
   "metadata": {},
   "outputs": [
    {
     "data": {
      "text/html": [
       "<div>\n",
       "<style scoped>\n",
       "    .dataframe tbody tr th:only-of-type {\n",
       "        vertical-align: middle;\n",
       "    }\n",
       "\n",
       "    .dataframe tbody tr th {\n",
       "        vertical-align: top;\n",
       "    }\n",
       "\n",
       "    .dataframe thead th {\n",
       "        text-align: right;\n",
       "    }\n",
       "</style>\n",
       "<table border=\"1\" class=\"dataframe\">\n",
       "  <thead>\n",
       "    <tr style=\"text-align: right;\">\n",
       "      <th></th>\n",
       "      <th>ExpId</th>\n",
       "      <th>total_users</th>\n",
       "    </tr>\n",
       "  </thead>\n",
       "  <tbody>\n",
       "    <tr>\n",
       "      <th>0</th>\n",
       "      <td>246</td>\n",
       "      <td>2483</td>\n",
       "    </tr>\n",
       "    <tr>\n",
       "      <th>1</th>\n",
       "      <td>247</td>\n",
       "      <td>2512</td>\n",
       "    </tr>\n",
       "    <tr>\n",
       "      <th>2</th>\n",
       "      <td>248</td>\n",
       "      <td>2535</td>\n",
       "    </tr>\n",
       "  </tbody>\n",
       "</table>\n",
       "</div>"
      ],
      "text/plain": [
       "   ExpId  total_users\n",
       "0    246         2483\n",
       "1    247         2512\n",
       "2    248         2535"
      ]
     },
     "execution_count": 36,
     "metadata": {},
     "output_type": "execute_result"
    }
   ],
   "source": [
    "#уберем событие туториал из датасета\n",
    "\n",
    "df_sw = df_sw[df_sw['EventName'] != 'Tutorial']\n",
    "\n",
    "#посчитаем сколько пользователей всего в каждой группе\n",
    "users_total = df_sw.groupby('ExpId')['DeviceIDHash'].nunique().reset_index()\n",
    "users_total = users_total.rename(columns={\"DeviceIDHash\": \"total_users\"})\n",
    "users_total"
   ]
  },
  {
   "cell_type": "code",
   "execution_count": 27,
   "id": "2ad5e769",
   "metadata": {},
   "outputs": [
    {
     "data": {
      "text/html": [
       "<div>\n",
       "<style scoped>\n",
       "    .dataframe tbody tr th:only-of-type {\n",
       "        vertical-align: middle;\n",
       "    }\n",
       "\n",
       "    .dataframe tbody tr th {\n",
       "        vertical-align: top;\n",
       "    }\n",
       "\n",
       "    .dataframe thead th {\n",
       "        text-align: right;\n",
       "    }\n",
       "</style>\n",
       "<table border=\"1\" class=\"dataframe\">\n",
       "  <thead>\n",
       "    <tr style=\"text-align: right;\">\n",
       "      <th></th>\n",
       "      <th>index</th>\n",
       "      <th>0</th>\n",
       "      <th>1</th>\n",
       "      <th>2</th>\n",
       "    </tr>\n",
       "  </thead>\n",
       "  <tbody>\n",
       "    <tr>\n",
       "      <th>0</th>\n",
       "      <td>ExpId</td>\n",
       "      <td>246</td>\n",
       "      <td>247</td>\n",
       "      <td>248</td>\n",
       "    </tr>\n",
       "    <tr>\n",
       "      <th>1</th>\n",
       "      <td>total_users</td>\n",
       "      <td>2483</td>\n",
       "      <td>2512</td>\n",
       "      <td>2535</td>\n",
       "    </tr>\n",
       "  </tbody>\n",
       "</table>\n",
       "</div>"
      ],
      "text/plain": [
       "         index     0     1     2\n",
       "0        ExpId   246   247   248\n",
       "1  total_users  2483  2512  2535"
      ]
     },
     "execution_count": 27,
     "metadata": {},
     "output_type": "execute_result"
    }
   ],
   "source": [
    "df_transposed = users_total.T\n",
    "df_transposed = df_transposed.reset_index()\n",
    "df_transposed"
   ]
  },
  {
   "cell_type": "markdown",
   "id": "096a7384",
   "metadata": {},
   "source": [
    "### Есть 2 контрольные группы для А/А-эксперимента, чтобы проверить корректность всех механизмов и расчётов. Проверьте, находят ли статистические критерии разницу между выборками 246 и 247"
   ]
  },
  {
   "cell_type": "markdown",
   "id": "93c721a2",
   "metadata": {},
   "source": [
    "возьмем гипотезу о равенстве долей и сформулируем 2 гипотезы:\\\n",
    "Нулеввая - нет различий в долях клиентов оплативших заказ\n",
    "Альтернативаня - есть различия в долях клиентов оплативших заказ\\\n",
    "alpha 0.05"
   ]
  },
  {
   "cell_type": "code",
   "execution_count": 37,
   "id": "c2023b44",
   "metadata": {
    "scrolled": true
   },
   "outputs": [
    {
     "data": {
      "text/html": [
       "<div>\n",
       "<style scoped>\n",
       "    .dataframe tbody tr th:only-of-type {\n",
       "        vertical-align: middle;\n",
       "    }\n",
       "\n",
       "    .dataframe tbody tr th {\n",
       "        vertical-align: top;\n",
       "    }\n",
       "\n",
       "    .dataframe thead th {\n",
       "        text-align: right;\n",
       "    }\n",
       "</style>\n",
       "<table border=\"1\" class=\"dataframe\">\n",
       "  <thead>\n",
       "    <tr style=\"text-align: right;\">\n",
       "      <th>ExpId</th>\n",
       "      <th>EventName</th>\n",
       "      <th>246</th>\n",
       "      <th>247</th>\n",
       "      <th>248</th>\n",
       "      <th>All</th>\n",
       "    </tr>\n",
       "  </thead>\n",
       "  <tbody>\n",
       "    <tr>\n",
       "      <th>0</th>\n",
       "      <td>CartScreenAppear</td>\n",
       "      <td>1266</td>\n",
       "      <td>1238</td>\n",
       "      <td>1230</td>\n",
       "      <td>3734</td>\n",
       "    </tr>\n",
       "    <tr>\n",
       "      <th>1</th>\n",
       "      <td>MainScreenAppear</td>\n",
       "      <td>2450</td>\n",
       "      <td>2476</td>\n",
       "      <td>2493</td>\n",
       "      <td>7419</td>\n",
       "    </tr>\n",
       "    <tr>\n",
       "      <th>2</th>\n",
       "      <td>OffersScreenAppear</td>\n",
       "      <td>1542</td>\n",
       "      <td>1520</td>\n",
       "      <td>1531</td>\n",
       "      <td>4593</td>\n",
       "    </tr>\n",
       "    <tr>\n",
       "      <th>3</th>\n",
       "      <td>PaymentScreenSuccessful</td>\n",
       "      <td>1200</td>\n",
       "      <td>1158</td>\n",
       "      <td>1181</td>\n",
       "      <td>3539</td>\n",
       "    </tr>\n",
       "    <tr>\n",
       "      <th>4</th>\n",
       "      <td>All</td>\n",
       "      <td>2483</td>\n",
       "      <td>2512</td>\n",
       "      <td>2535</td>\n",
       "      <td>7530</td>\n",
       "    </tr>\n",
       "  </tbody>\n",
       "</table>\n",
       "</div>"
      ],
      "text/plain": [
       "ExpId                EventName   246   247   248   All\n",
       "0             CartScreenAppear  1266  1238  1230  3734\n",
       "1             MainScreenAppear  2450  2476  2493  7419\n",
       "2           OffersScreenAppear  1542  1520  1531  4593\n",
       "3      PaymentScreenSuccessful  1200  1158  1181  3539\n",
       "4                          All  2483  2512  2535  7530"
      ]
     },
     "execution_count": 37,
     "metadata": {},
     "output_type": "execute_result"
    }
   ],
   "source": [
    "\n",
    "#софрмируем таблицу с данными по каждой группе событий\n",
    "\n",
    "event_count = df_sw.pivot_table(index = 'EventName',\n",
    "                 columns = 'ExpId',\n",
    "                 values = 'DeviceIDHash',\n",
    "                 aggfunc = 'nunique',\n",
    "                 margins=True).reset_index()\n",
    "\n",
    "event_count"
   ]
  },
  {
   "cell_type": "markdown",
   "id": "e1beef9b",
   "metadata": {},
   "source": [
    "Теперь приготовим функцию для проверки гипотез о равенстве долей"
   ]
  },
  {
   "cell_type": "code",
   "execution_count": 38,
   "id": "e2f2fb5a",
   "metadata": {},
   "outputs": [],
   "source": [
    "def zTest(df, column1, column2):\n",
    "    for i in range(0, 4):\n",
    "        successes = np.array([df.loc[i, column1], df.loc[i, column2]]) # выбираем из таблицы успехи\n",
    "        p1 = successes[0]/df.loc[4, column1]        # пропорция успехов в первой группе\n",
    "        p2 = successes[1]/df.loc[4, column2]        # пропорция успехов во второй группе\n",
    "        p_combined = (successes[0] + successes[1]) / (df.loc[4, column1] + df.loc[4, column2]  ) #комбинированные данные\n",
    "        # разница пропорций в датасетах\n",
    "        difference = p1 - p2        \n",
    "        # считаем статистику в ст.отклонениях стандартного нормального распределения\n",
    "        z_value = difference / mth.sqrt(p_combined * (1 - p_combined) * (1/df.loc[4, column1]  + 1/df.loc[4, column2] ))\n",
    "        # задаем стандартное нормальное распределение (среднее 0, ст.отклонение 1)\n",
    "        distr = stats.norm(0, 1)        \n",
    "        p_value = (1 - distr.cdf(abs(z_value))) * 2   \n",
    "        # критический уровень статистической значимости   \n",
    "        alpha = 0.05\n",
    "        \n",
    "        print(df['EventName'][i], 'p-value: {0:.3f}'.format(p_value) )\n",
    "        if p_value < alpha:\n",
    "            print('Отвергаем нулевую гипотезу: между долями есть значимая разница')\n",
    "        else:\n",
    "            print('Не получилось отвергнуть нулевую гипотезу, нет оснований считать доли разными')\n",
    "        print('')\n",
    "            \n",
    "            \n"
   ]
  },
  {
   "cell_type": "markdown",
   "id": "ed3e6556",
   "metadata": {},
   "source": [
    "Проверим, находят ли статистические критерии разницу между выборками\\\n",
    "Cформулируем 2 гипотезы:\\\n",
    "Нулевая - нет различий в долях клиентов оплативших заказ\\\n",
    "Альтернативаня - есть различия в долях клиентов оплативших заказ\\\n",
    "alpha 0.05"
   ]
  },
  {
   "cell_type": "code",
   "execution_count": 30,
   "id": "574dcf62",
   "metadata": {},
   "outputs": [
    {
     "name": "stdout",
     "output_type": "stream",
     "text": [
      "CartScreenAppear p-value: 0.229\n",
      "Не получилось отвергнуть нулевую гипотезу, нет оснований считать доли разными\n",
      "\n",
      "MainScreenAppear p-value: 0.753\n",
      "Не получилось отвергнуть нулевую гипотезу, нет оснований считать доли разными\n",
      "\n",
      "OffersScreenAppear p-value: 0.248\n",
      "Не получилось отвергнуть нулевую гипотезу, нет оснований считать доли разными\n",
      "\n",
      "PaymentScreenSuccessful p-value: 0.114\n",
      "Не получилось отвергнуть нулевую гипотезу, нет оснований считать доли разными\n",
      "\n"
     ]
    }
   ],
   "source": [
    "#вызываем функция и провнряем гипотезу, сравниваем А и А1\n",
    "\n",
    "zTest(event_count, 246, 247) "
   ]
  },
  {
   "cell_type": "markdown",
   "id": "5139682f",
   "metadata": {},
   "source": [
    "При заданом критическом уровне статистической значимости 0.05, нет различий между группами"
   ]
  },
  {
   "cell_type": "markdown",
   "id": "3ea7a444",
   "metadata": {},
   "source": [
    "### Выберите самое популярное событие. Посчитайте число пользователей, совершивших это событие в каждой из контрольных групп. Посчитайте долю пользователей, совершивших это событие. Проверьте, будет ли отличие между группами статистически достоверным. Проделайте то же самое для всех других событий (удобно обернуть проверку в отдельную функцию). Можно ли сказать, что разбиение на группы работает корректно?"
   ]
  },
  {
   "cell_type": "code",
   "execution_count": 31,
   "id": "4b6d5058",
   "metadata": {
    "scrolled": true
   },
   "outputs": [],
   "source": [
    "popular_event = df_sw.pivot_table(index = 'EventName',\n",
    "                 columns = 'ExpId',\n",
    "                 values = 'DeviceIDHash',\n",
    "                 aggfunc = 'nunique',\n",
    "                 margins=True).reset_index()"
   ]
  },
  {
   "cell_type": "code",
   "execution_count": 32,
   "id": "33430753",
   "metadata": {
    "scrolled": true
   },
   "outputs": [
    {
     "data": {
      "text/html": [
       "<div>\n",
       "<style scoped>\n",
       "    .dataframe tbody tr th:only-of-type {\n",
       "        vertical-align: middle;\n",
       "    }\n",
       "\n",
       "    .dataframe tbody tr th {\n",
       "        vertical-align: top;\n",
       "    }\n",
       "\n",
       "    .dataframe thead th {\n",
       "        text-align: right;\n",
       "    }\n",
       "</style>\n",
       "<table border=\"1\" class=\"dataframe\">\n",
       "  <thead>\n",
       "    <tr style=\"text-align: right;\">\n",
       "      <th>ExpId</th>\n",
       "      <th>246</th>\n",
       "      <th>247</th>\n",
       "      <th>248</th>\n",
       "      <th>All</th>\n",
       "    </tr>\n",
       "    <tr>\n",
       "      <th>EventName</th>\n",
       "      <th></th>\n",
       "      <th></th>\n",
       "      <th></th>\n",
       "      <th></th>\n",
       "    </tr>\n",
       "  </thead>\n",
       "  <tbody>\n",
       "    <tr>\n",
       "      <th>CartScreenAppear</th>\n",
       "      <td>1266</td>\n",
       "      <td>1238</td>\n",
       "      <td>1230</td>\n",
       "      <td>3734</td>\n",
       "    </tr>\n",
       "    <tr>\n",
       "      <th>MainScreenAppear</th>\n",
       "      <td>2450</td>\n",
       "      <td>2476</td>\n",
       "      <td>2493</td>\n",
       "      <td>7419</td>\n",
       "    </tr>\n",
       "    <tr>\n",
       "      <th>OffersScreenAppear</th>\n",
       "      <td>1542</td>\n",
       "      <td>1520</td>\n",
       "      <td>1531</td>\n",
       "      <td>4593</td>\n",
       "    </tr>\n",
       "    <tr>\n",
       "      <th>PaymentScreenSuccessful</th>\n",
       "      <td>1200</td>\n",
       "      <td>1158</td>\n",
       "      <td>1181</td>\n",
       "      <td>3539</td>\n",
       "    </tr>\n",
       "    <tr>\n",
       "      <th>All</th>\n",
       "      <td>2483</td>\n",
       "      <td>2512</td>\n",
       "      <td>2535</td>\n",
       "      <td>7530</td>\n",
       "    </tr>\n",
       "  </tbody>\n",
       "</table>\n",
       "</div>"
      ],
      "text/plain": [
       "ExpId                     246   247   248   All\n",
       "EventName                                      \n",
       "CartScreenAppear         1266  1238  1230  3734\n",
       "MainScreenAppear         2450  2476  2493  7419\n",
       "OffersScreenAppear       1542  1520  1531  4593\n",
       "PaymentScreenSuccessful  1200  1158  1181  3539\n",
       "All                      2483  2512  2535  7530"
      ]
     },
     "execution_count": 32,
     "metadata": {},
     "output_type": "execute_result"
    }
   ],
   "source": [
    "# сбросим индексы и перевернем таблицу, чтобы было удобно посчитать доли пользователей\n",
    "popular_event.set_index('EventName', inplace=True)\n",
    "popular_event"
   ]
  },
  {
   "cell_type": "code",
   "execution_count": 33,
   "id": "afd0f90c",
   "metadata": {},
   "outputs": [
    {
     "data": {
      "text/html": [
       "<div>\n",
       "<style scoped>\n",
       "    .dataframe tbody tr th:only-of-type {\n",
       "        vertical-align: middle;\n",
       "    }\n",
       "\n",
       "    .dataframe tbody tr th {\n",
       "        vertical-align: top;\n",
       "    }\n",
       "\n",
       "    .dataframe thead th {\n",
       "        text-align: right;\n",
       "    }\n",
       "</style>\n",
       "<table border=\"1\" class=\"dataframe\">\n",
       "  <thead>\n",
       "    <tr style=\"text-align: right;\">\n",
       "      <th>EventName</th>\n",
       "      <th>Cart</th>\n",
       "      <th>MainScreen</th>\n",
       "      <th>Offer</th>\n",
       "      <th>PaymentSuccessful</th>\n",
       "      <th>All</th>\n",
       "    </tr>\n",
       "    <tr>\n",
       "      <th>ExpId</th>\n",
       "      <th></th>\n",
       "      <th></th>\n",
       "      <th></th>\n",
       "      <th></th>\n",
       "      <th></th>\n",
       "    </tr>\n",
       "  </thead>\n",
       "  <tbody>\n",
       "    <tr>\n",
       "      <th>246</th>\n",
       "      <td>1266</td>\n",
       "      <td>2450</td>\n",
       "      <td>1542</td>\n",
       "      <td>1200</td>\n",
       "      <td>2483</td>\n",
       "    </tr>\n",
       "    <tr>\n",
       "      <th>247</th>\n",
       "      <td>1238</td>\n",
       "      <td>2476</td>\n",
       "      <td>1520</td>\n",
       "      <td>1158</td>\n",
       "      <td>2512</td>\n",
       "    </tr>\n",
       "    <tr>\n",
       "      <th>248</th>\n",
       "      <td>1230</td>\n",
       "      <td>2493</td>\n",
       "      <td>1531</td>\n",
       "      <td>1181</td>\n",
       "      <td>2535</td>\n",
       "    </tr>\n",
       "    <tr>\n",
       "      <th>All</th>\n",
       "      <td>3734</td>\n",
       "      <td>7419</td>\n",
       "      <td>4593</td>\n",
       "      <td>3539</td>\n",
       "      <td>7530</td>\n",
       "    </tr>\n",
       "  </tbody>\n",
       "</table>\n",
       "</div>"
      ],
      "text/plain": [
       "EventName  Cart  MainScreen  Offer  PaymentSuccessful   All\n",
       "ExpId                                                      \n",
       "246        1266        2450   1542               1200  2483\n",
       "247        1238        2476   1520               1158  2512\n",
       "248        1230        2493   1531               1181  2535\n",
       "All        3734        7419   4593               3539  7530"
      ]
     },
     "execution_count": 33,
     "metadata": {},
     "output_type": "execute_result"
    }
   ],
   "source": [
    "popular_event_tr = popular_event.T\n",
    "popular_event_tr.rename(columns={'ExpId': 'groups', 'CartScreenAppear': 'Cart', \\\n",
    "                                 'MainScreenAppear':'MainScreen','OffersScreenAppear':'Offer',\\\n",
    "                                  'PaymentScreenSuccessful':'PaymentSuccessful'}, inplace=True)\n",
    "popular_event_tr"
   ]
  },
  {
   "cell_type": "code",
   "execution_count": 34,
   "id": "bc06e35e",
   "metadata": {},
   "outputs": [],
   "source": [
    "popular_event_tr['Cart_%']=round(popular_event_tr['Cart']/popular_event_tr['All']*100,2)\n",
    "popular_event_tr['MainScreen_%']=round(popular_event_tr['MainScreen']/popular_event_tr['All']*100,2)\n",
    "popular_event_tr['Offer_%']=round(popular_event_tr['Offer']/popular_event_tr['All']*100,2)\n",
    "popular_event_tr['PaymentSuccessful_%']=round(popular_event_tr['PaymentSuccessful']/popular_event_tr['All']*100,2)"
   ]
  },
  {
   "cell_type": "code",
   "execution_count": 35,
   "id": "559b6cb7",
   "metadata": {},
   "outputs": [
    {
     "data": {
      "text/html": [
       "<div>\n",
       "<style scoped>\n",
       "    .dataframe tbody tr th:only-of-type {\n",
       "        vertical-align: middle;\n",
       "    }\n",
       "\n",
       "    .dataframe tbody tr th {\n",
       "        vertical-align: top;\n",
       "    }\n",
       "\n",
       "    .dataframe thead th {\n",
       "        text-align: right;\n",
       "    }\n",
       "</style>\n",
       "<table border=\"1\" class=\"dataframe\">\n",
       "  <thead>\n",
       "    <tr style=\"text-align: right;\">\n",
       "      <th>EventName</th>\n",
       "      <th>Cart</th>\n",
       "      <th>MainScreen</th>\n",
       "      <th>Offer</th>\n",
       "      <th>PaymentSuccessful</th>\n",
       "      <th>All</th>\n",
       "      <th>Cart_%</th>\n",
       "      <th>MainScreen_%</th>\n",
       "      <th>Offer_%</th>\n",
       "      <th>PaymentSuccessful_%</th>\n",
       "    </tr>\n",
       "    <tr>\n",
       "      <th>ExpId</th>\n",
       "      <th></th>\n",
       "      <th></th>\n",
       "      <th></th>\n",
       "      <th></th>\n",
       "      <th></th>\n",
       "      <th></th>\n",
       "      <th></th>\n",
       "      <th></th>\n",
       "      <th></th>\n",
       "    </tr>\n",
       "  </thead>\n",
       "  <tbody>\n",
       "    <tr>\n",
       "      <th>246</th>\n",
       "      <td>1266</td>\n",
       "      <td>2450</td>\n",
       "      <td>1542</td>\n",
       "      <td>1200</td>\n",
       "      <td>2483</td>\n",
       "      <td>50.99</td>\n",
       "      <td>98.67</td>\n",
       "      <td>62.10</td>\n",
       "      <td>48.33</td>\n",
       "    </tr>\n",
       "    <tr>\n",
       "      <th>247</th>\n",
       "      <td>1238</td>\n",
       "      <td>2476</td>\n",
       "      <td>1520</td>\n",
       "      <td>1158</td>\n",
       "      <td>2512</td>\n",
       "      <td>49.28</td>\n",
       "      <td>98.57</td>\n",
       "      <td>60.51</td>\n",
       "      <td>46.10</td>\n",
       "    </tr>\n",
       "    <tr>\n",
       "      <th>248</th>\n",
       "      <td>1230</td>\n",
       "      <td>2493</td>\n",
       "      <td>1531</td>\n",
       "      <td>1181</td>\n",
       "      <td>2535</td>\n",
       "      <td>48.52</td>\n",
       "      <td>98.34</td>\n",
       "      <td>60.39</td>\n",
       "      <td>46.59</td>\n",
       "    </tr>\n",
       "    <tr>\n",
       "      <th>All</th>\n",
       "      <td>3734</td>\n",
       "      <td>7419</td>\n",
       "      <td>4593</td>\n",
       "      <td>3539</td>\n",
       "      <td>7530</td>\n",
       "      <td>49.59</td>\n",
       "      <td>98.53</td>\n",
       "      <td>61.00</td>\n",
       "      <td>47.00</td>\n",
       "    </tr>\n",
       "  </tbody>\n",
       "</table>\n",
       "</div>"
      ],
      "text/plain": [
       "EventName  Cart  MainScreen  Offer  PaymentSuccessful   All  Cart_%  \\\n",
       "ExpId                                                                 \n",
       "246        1266        2450   1542               1200  2483   50.99   \n",
       "247        1238        2476   1520               1158  2512   49.28   \n",
       "248        1230        2493   1531               1181  2535   48.52   \n",
       "All        3734        7419   4593               3539  7530   49.59   \n",
       "\n",
       "EventName  MainScreen_%  Offer_%  PaymentSuccessful_%  \n",
       "ExpId                                                  \n",
       "246               98.67    62.10                48.33  \n",
       "247               98.57    60.51                46.10  \n",
       "248               98.34    60.39                46.59  \n",
       "All               98.53    61.00                47.00  "
      ]
     },
     "execution_count": 35,
     "metadata": {},
     "output_type": "execute_result"
    }
   ],
   "source": [
    "popular_event_tr"
   ]
  },
  {
   "cell_type": "markdown",
   "id": "6f161568",
   "metadata": {},
   "source": [
    "Самое популяроное событие - MainScreenAppear Проверки были выполнены для каждого события, разбиение на группы работает корректно\n"
   ]
  },
  {
   "cell_type": "markdown",
   "id": "5e4c1c18",
   "metadata": {},
   "source": [
    "### Аналогично поступите с группой с изменённым шрифтом. Сравните результаты с каждой из контрольных групп в отдельности по каждому событию. Сравните результаты с объединённой контрольной группой. Какие выводы из эксперимента можно сделать?"
   ]
  },
  {
   "cell_type": "code",
   "execution_count": 36,
   "id": "b821a9f0",
   "metadata": {
    "scrolled": true
   },
   "outputs": [
    {
     "data": {
      "text/html": [
       "<div>\n",
       "<style scoped>\n",
       "    .dataframe tbody tr th:only-of-type {\n",
       "        vertical-align: middle;\n",
       "    }\n",
       "\n",
       "    .dataframe tbody tr th {\n",
       "        vertical-align: top;\n",
       "    }\n",
       "\n",
       "    .dataframe thead th {\n",
       "        text-align: right;\n",
       "    }\n",
       "</style>\n",
       "<table border=\"1\" class=\"dataframe\">\n",
       "  <thead>\n",
       "    <tr style=\"text-align: right;\">\n",
       "      <th>ExpId</th>\n",
       "      <th>EventName</th>\n",
       "      <th>246</th>\n",
       "      <th>247</th>\n",
       "      <th>248</th>\n",
       "      <th>All</th>\n",
       "    </tr>\n",
       "  </thead>\n",
       "  <tbody>\n",
       "    <tr>\n",
       "      <th>0</th>\n",
       "      <td>CartScreenAppear</td>\n",
       "      <td>1266</td>\n",
       "      <td>1238</td>\n",
       "      <td>1230</td>\n",
       "      <td>3734</td>\n",
       "    </tr>\n",
       "    <tr>\n",
       "      <th>1</th>\n",
       "      <td>MainScreenAppear</td>\n",
       "      <td>2450</td>\n",
       "      <td>2476</td>\n",
       "      <td>2493</td>\n",
       "      <td>7419</td>\n",
       "    </tr>\n",
       "    <tr>\n",
       "      <th>2</th>\n",
       "      <td>OffersScreenAppear</td>\n",
       "      <td>1542</td>\n",
       "      <td>1520</td>\n",
       "      <td>1531</td>\n",
       "      <td>4593</td>\n",
       "    </tr>\n",
       "    <tr>\n",
       "      <th>3</th>\n",
       "      <td>PaymentScreenSuccessful</td>\n",
       "      <td>1200</td>\n",
       "      <td>1158</td>\n",
       "      <td>1181</td>\n",
       "      <td>3539</td>\n",
       "    </tr>\n",
       "    <tr>\n",
       "      <th>4</th>\n",
       "      <td>All</td>\n",
       "      <td>2483</td>\n",
       "      <td>2512</td>\n",
       "      <td>2535</td>\n",
       "      <td>7530</td>\n",
       "    </tr>\n",
       "  </tbody>\n",
       "</table>\n",
       "</div>"
      ],
      "text/plain": [
       "ExpId                EventName   246   247   248   All\n",
       "0             CartScreenAppear  1266  1238  1230  3734\n",
       "1             MainScreenAppear  2450  2476  2493  7419\n",
       "2           OffersScreenAppear  1542  1520  1531  4593\n",
       "3      PaymentScreenSuccessful  1200  1158  1181  3539\n",
       "4                          All  2483  2512  2535  7530"
      ]
     },
     "execution_count": 36,
     "metadata": {},
     "output_type": "execute_result"
    }
   ],
   "source": [
    "#вызовем заново нашу таблицу\n",
    "event_count"
   ]
  },
  {
   "cell_type": "markdown",
   "id": "8025b1c8",
   "metadata": {},
   "source": [
    "#### Сравним А , А1 и В группы"
   ]
  },
  {
   "cell_type": "markdown",
   "id": "e0475c69",
   "metadata": {},
   "source": [
    "Напомню гипотезы:\\\n",
    "Нулевая - нет различий в долях клиентов оплативших заказ\\\n",
    "Альтернативаня - есть различия в долях клиентов оплативших заказ\\\n",
    "alpha 0.05"
   ]
  },
  {
   "cell_type": "code",
   "execution_count": 37,
   "id": "f6b4aa49",
   "metadata": {},
   "outputs": [
    {
     "name": "stdout",
     "output_type": "stream",
     "text": [
      "CartScreenAppear p-value: 0.081\n",
      "Не получилось отвергнуть нулевую гипотезу, нет оснований считать доли разными\n",
      "\n",
      "MainScreenAppear p-value: 0.339\n",
      "Не получилось отвергнуть нулевую гипотезу, нет оснований считать доли разными\n",
      "\n",
      "OffersScreenAppear p-value: 0.214\n",
      "Не получилось отвергнуть нулевую гипотезу, нет оснований считать доли разными\n",
      "\n",
      "PaymentScreenSuccessful p-value: 0.217\n",
      "Не получилось отвергнуть нулевую гипотезу, нет оснований считать доли разными\n",
      "\n"
     ]
    }
   ],
   "source": [
    "#вызываем функция и провнряем гипотезу, сравниваем 246 и 248 (А и В)\n",
    "\n",
    "zTest(event_count, 246, 248) "
   ]
  },
  {
   "cell_type": "code",
   "execution_count": 38,
   "id": "c0d91ac2",
   "metadata": {},
   "outputs": [
    {
     "name": "stdout",
     "output_type": "stream",
     "text": [
      "CartScreenAppear p-value: 0.588\n",
      "Не получилось отвергнуть нулевую гипотезу, нет оснований считать доли разными\n",
      "\n",
      "MainScreenAppear p-value: 0.519\n",
      "Не получилось отвергнуть нулевую гипотезу, нет оснований считать доли разными\n",
      "\n",
      "OffersScreenAppear p-value: 0.933\n",
      "Не получилось отвергнуть нулевую гипотезу, нет оснований считать доли разными\n",
      "\n",
      "PaymentScreenSuccessful p-value: 0.728\n",
      "Не получилось отвергнуть нулевую гипотезу, нет оснований считать доли разными\n",
      "\n"
     ]
    }
   ],
   "source": [
    "#вызываем функция и провнряем гипотезу, сравниваем 247 и 248 (А1 и В)\n",
    "\n",
    "zTest(event_count, 247, 248) "
   ]
  },
  {
   "cell_type": "markdown",
   "id": "44faebe8",
   "metadata": {},
   "source": [
    "Вывод: По результатам проверок видно, что статистически значимых различий между группами 246, 247 и 248 нет. Предварительное заключение -замена шрифта не повлияла на пользователей"
   ]
  },
  {
   "cell_type": "markdown",
   "id": "20c6e923",
   "metadata": {},
   "source": [
    "#### Сравним В и объединенные группы А и А1"
   ]
  },
  {
   "cell_type": "code",
   "execution_count": 39,
   "id": "7fe4652c",
   "metadata": {},
   "outputs": [
    {
     "data": {
      "text/html": [
       "<div>\n",
       "<style scoped>\n",
       "    .dataframe tbody tr th:only-of-type {\n",
       "        vertical-align: middle;\n",
       "    }\n",
       "\n",
       "    .dataframe tbody tr th {\n",
       "        vertical-align: top;\n",
       "    }\n",
       "\n",
       "    .dataframe thead th {\n",
       "        text-align: right;\n",
       "    }\n",
       "</style>\n",
       "<table border=\"1\" class=\"dataframe\">\n",
       "  <thead>\n",
       "    <tr style=\"text-align: right;\">\n",
       "      <th>ExpId</th>\n",
       "      <th>EventName</th>\n",
       "      <th>246</th>\n",
       "      <th>247</th>\n",
       "      <th>248</th>\n",
       "      <th>All</th>\n",
       "      <th>246+247</th>\n",
       "    </tr>\n",
       "  </thead>\n",
       "  <tbody>\n",
       "    <tr>\n",
       "      <th>0</th>\n",
       "      <td>CartScreenAppear</td>\n",
       "      <td>1266</td>\n",
       "      <td>1238</td>\n",
       "      <td>1230</td>\n",
       "      <td>3734</td>\n",
       "      <td>2504</td>\n",
       "    </tr>\n",
       "    <tr>\n",
       "      <th>1</th>\n",
       "      <td>MainScreenAppear</td>\n",
       "      <td>2450</td>\n",
       "      <td>2476</td>\n",
       "      <td>2493</td>\n",
       "      <td>7419</td>\n",
       "      <td>4926</td>\n",
       "    </tr>\n",
       "    <tr>\n",
       "      <th>2</th>\n",
       "      <td>OffersScreenAppear</td>\n",
       "      <td>1542</td>\n",
       "      <td>1520</td>\n",
       "      <td>1531</td>\n",
       "      <td>4593</td>\n",
       "      <td>3062</td>\n",
       "    </tr>\n",
       "    <tr>\n",
       "      <th>3</th>\n",
       "      <td>PaymentScreenSuccessful</td>\n",
       "      <td>1200</td>\n",
       "      <td>1158</td>\n",
       "      <td>1181</td>\n",
       "      <td>3539</td>\n",
       "      <td>2358</td>\n",
       "    </tr>\n",
       "    <tr>\n",
       "      <th>4</th>\n",
       "      <td>All</td>\n",
       "      <td>2483</td>\n",
       "      <td>2512</td>\n",
       "      <td>2535</td>\n",
       "      <td>7530</td>\n",
       "      <td>4995</td>\n",
       "    </tr>\n",
       "  </tbody>\n",
       "</table>\n",
       "</div>"
      ],
      "text/plain": [
       "ExpId                EventName   246   247   248   All  246+247\n",
       "0             CartScreenAppear  1266  1238  1230  3734     2504\n",
       "1             MainScreenAppear  2450  2476  2493  7419     4926\n",
       "2           OffersScreenAppear  1542  1520  1531  4593     3062\n",
       "3      PaymentScreenSuccessful  1200  1158  1181  3539     2358\n",
       "4                          All  2483  2512  2535  7530     4995"
      ]
     },
     "execution_count": 39,
     "metadata": {},
     "output_type": "execute_result"
    }
   ],
   "source": [
    "# Для этого модицицируем нашу таблицу\n",
    "event_count['246+247'] = event_count[246] + event_count[247]\n",
    "event_count"
   ]
  },
  {
   "cell_type": "code",
   "execution_count": 40,
   "id": "03d3975c",
   "metadata": {
    "scrolled": true
   },
   "outputs": [
    {
     "name": "stdout",
     "output_type": "stream",
     "text": [
      "CartScreenAppear p-value: 0.187\n",
      "Не получилось отвергнуть нулевую гипотезу, нет оснований считать доли разными\n",
      "\n",
      "MainScreenAppear p-value: 0.349\n",
      "Не получилось отвергнуть нулевую гипотезу, нет оснований считать доли разными\n",
      "\n",
      "OffersScreenAppear p-value: 0.446\n",
      "Не получилось отвергнуть нулевую гипотезу, нет оснований считать доли разными\n",
      "\n",
      "PaymentScreenSuccessful p-value: 0.611\n",
      "Не получилось отвергнуть нулевую гипотезу, нет оснований считать доли разными\n",
      "\n"
     ]
    }
   ],
   "source": [
    "zTest(event_count, '246+247', 248) "
   ]
  },
  {
   "cell_type": "markdown",
   "id": "abc32f8d",
   "metadata": {},
   "source": [
    "По результатам проверок можно сделать общий вывод, что статистически значимых различий между объединенной группой 246+247 и 248 также нет. Вывод - замена шрифта не повлияла на пользователей.\n",
    "\n",
    "При проверке статистических гипотез выше был выбран уровень стат значимости 0.05. Мы провели множественный тест, сделали 16 проверок. Особенность теста в том, что с каждой новой проверкой гипотезы растёт вероятность ошибки первого рода. При уровне значимости 0.1 каждый десятый раз можно получать ложный результат."
   ]
  },
  {
   "cell_type": "markdown",
   "id": "fc704866",
   "metadata": {},
   "source": [
    "### Какой уровень значимости вы выбрали при проверке статистических гипотез выше? Посчитайте, сколько проверок статистических гипотез вы сделали. При уровне значимости 0.1 каждый десятый раз можно получать ложный результат. Какой уровень значимости стоит применить? Если вы хотите изменить его, проделайте предыдущие пункты и проверьте свои выводы."
   ]
  },
  {
   "cell_type": "code",
   "execution_count": 41,
   "id": "4c72d7e6",
   "metadata": {},
   "outputs": [
    {
     "name": "stdout",
     "output_type": "stream",
     "text": [
      "alpha при поправка Бонферрнони 0.003125\n"
     ]
    }
   ],
   "source": [
    "#поправка Бонферрони для уровня статистической значимости\n",
    "\n",
    "alpha_b = 0.05/16\n",
    "print('alpha при поправка Бонферрнони', alpha_b)"
   ]
  },
  {
   "cell_type": "code",
   "execution_count": 42,
   "id": "5235d8c8",
   "metadata": {},
   "outputs": [
    {
     "name": "stdout",
     "output_type": "stream",
     "text": [
      "alpha при поправке Шидака 0.0032006977101884937\n"
     ]
    }
   ],
   "source": [
    "alpha_s = 1 - (1 - 0.05)**(1/16)\n",
    "print('alpha при поправке Шидака', alpha_s)"
   ]
  },
  {
   "cell_type": "markdown",
   "id": "d3500b52",
   "metadata": {},
   "source": [
    "Вывод: Результаты не изменятся, p-value при всех проверках был больше 0,05. Уровень значимости 0,05 можно оставить"
   ]
  },
  {
   "cell_type": "markdown",
   "id": "5aee3079",
   "metadata": {},
   "source": [
    "## Итоговы вывод:"
   ]
  },
  {
   "cell_type": "markdown",
   "id": "7c0150ed",
   "metadata": {},
   "source": [
    "В процессе работы над проектом были выполнены следующие задачи:\n",
    "\n",
    "1) Предобработка:\n",
    "- были добавлены 2 столбца - с датой и с датой и временем.\n",
    "- выполена проверка на дубликаты - удалено 413\n",
    "- выполнена проверка на пропуски - пропусков нет\n",
    "- проверка есть ли пользователи, попавшие в обе группы - таких нет\n",
    "\n",
    "2) Была построена гистограмма по распределению событий во времени -  данные собирались неравномерно - за первую неделю в день в среднем собиралось несколько сотен событий, за вторую больше 30000 событий в день. Для анализа были взяты данные за вторую неделю.\n",
    "\n",
    "3) Был проведен анализ как часто пользователи попадают на определенный шаг и установлена ворона событий. \\\n",
    "1 - MainScreenAppear - основной экран 98.47%\n",
    "2 - OffersScreenAppear - экран с товарами 60.96%\n",
    "3 - CartScreenAppear - экран корзины 49.56%\n",
    "4 - PaymentScreenSuccessful - экран с окном \"успешная оплата\" 46.97%\n",
    "\n",
    "Обучающий экран - Tutorial - используют 11% пользователей - этот пункт был исключен из дальнейшего анализа т.к. не входит в воронку\\\n",
    "На втором этапе теряется самое значительное количество пользоватлей - 38%\\\n",
    "Если польователь добавил товар в корзину, то с вероятностью 95% он его купит\n",
    "\n",
    "4) Был проеведен анализ к результатов А/А/В-тестирования.\n",
    "\n",
    "Статистически значимых различий между выборками А нет. Проверено какая доля пользователей переходит на каждый шаг в каждой группе - разница не более 0,2% - разбиение на группы работает корректно\n",
    "\n",
    "Статистически значимых различий между выборками А1Б и АБ не обнаружено\n",
    "При применеии попраки Бонферрони или Шидака для изменения уровня статистической значимости результат не изменился.\n",
    "\n",
    "Гипотеза о том, что изменение шрифта на главной странице повлияет на поведение пользователей не подтвердилась.\n",
    "\n"
   ]
  },
  {
   "cell_type": "markdown",
   "id": "479af24e",
   "metadata": {},
   "source": [
    "\n"
   ]
  }
 ],
 "metadata": {
  "ExecuteTimeLog": [
   {
    "duration": 1213,
    "start_time": "2023-05-25T20:31:49.406Z"
   },
   {
    "duration": 429,
    "start_time": "2023-05-25T20:31:50.620Z"
   },
   {
    "duration": 9,
    "start_time": "2023-05-25T20:31:51.050Z"
   },
   {
    "duration": 18,
    "start_time": "2023-05-25T20:31:51.061Z"
   },
   {
    "duration": 27,
    "start_time": "2023-05-25T20:31:51.080Z"
   },
   {
    "duration": 72,
    "start_time": "2023-05-25T20:31:51.108Z"
   },
   {
    "duration": 81,
    "start_time": "2023-05-25T20:31:51.181Z"
   },
   {
    "duration": 12,
    "start_time": "2023-05-25T20:31:51.263Z"
   },
   {
    "duration": 49,
    "start_time": "2023-05-25T20:31:51.276Z"
   },
   {
    "duration": 2,
    "start_time": "2023-05-25T20:31:51.327Z"
   },
   {
    "duration": 26,
    "start_time": "2023-05-25T20:31:51.330Z"
   },
   {
    "duration": 8,
    "start_time": "2023-05-25T20:31:51.358Z"
   },
   {
    "duration": 8,
    "start_time": "2023-05-25T20:31:51.368Z"
   },
   {
    "duration": 342,
    "start_time": "2023-05-25T20:31:51.378Z"
   },
   {
    "duration": 16,
    "start_time": "2023-05-25T20:31:51.721Z"
   },
   {
    "duration": 14,
    "start_time": "2023-05-25T20:31:51.738Z"
   },
   {
    "duration": 16,
    "start_time": "2023-05-25T20:31:51.753Z"
   },
   {
    "duration": 101,
    "start_time": "2023-05-25T20:31:51.770Z"
   },
   {
    "duration": 30,
    "start_time": "2023-05-25T20:31:51.873Z"
   },
   {
    "duration": 33,
    "start_time": "2023-05-25T20:31:51.904Z"
   },
   {
    "duration": 57,
    "start_time": "2023-05-25T20:31:51.939Z"
   },
   {
    "duration": 25,
    "start_time": "2023-05-25T20:31:51.997Z"
   },
   {
    "duration": 14,
    "start_time": "2023-05-25T20:31:52.023Z"
   },
   {
    "duration": 70,
    "start_time": "2023-05-25T20:31:52.038Z"
   },
   {
    "duration": 7,
    "start_time": "2023-05-25T20:31:52.110Z"
   },
   {
    "duration": 90,
    "start_time": "2023-05-25T20:31:52.118Z"
   },
   {
    "duration": 7,
    "start_time": "2023-05-25T20:31:52.210Z"
   },
   {
    "duration": 18,
    "start_time": "2023-05-25T20:31:52.220Z"
   },
   {
    "duration": 22,
    "start_time": "2023-05-25T20:31:52.240Z"
   },
   {
    "duration": 23,
    "start_time": "2023-05-25T20:31:52.264Z"
   },
   {
    "duration": 18,
    "start_time": "2023-05-25T20:31:52.289Z"
   },
   {
    "duration": 28,
    "start_time": "2023-05-25T20:31:52.309Z"
   },
   {
    "duration": 40,
    "start_time": "2023-05-25T20:31:52.339Z"
   },
   {
    "duration": 24,
    "start_time": "2023-05-25T20:31:52.380Z"
   },
   {
    "duration": 27,
    "start_time": "2023-05-25T20:31:52.405Z"
   },
   {
    "duration": 30,
    "start_time": "2023-05-25T20:31:52.434Z"
   },
   {
    "duration": 33,
    "start_time": "2023-05-25T20:31:52.465Z"
   },
   {
    "duration": 1293,
    "start_time": "2023-05-25T20:31:52.499Z"
   },
   {
    "duration": 0,
    "start_time": "2023-05-25T20:31:53.794Z"
   },
   {
    "duration": 0,
    "start_time": "2023-05-25T20:31:53.795Z"
   },
   {
    "duration": 0,
    "start_time": "2023-05-25T20:31:53.796Z"
   },
   {
    "duration": 0,
    "start_time": "2023-05-25T20:31:53.797Z"
   },
   {
    "duration": 0,
    "start_time": "2023-05-25T20:31:53.798Z"
   },
   {
    "duration": 0,
    "start_time": "2023-05-25T20:31:53.799Z"
   },
   {
    "duration": 0,
    "start_time": "2023-05-25T20:31:53.800Z"
   },
   {
    "duration": 0,
    "start_time": "2023-05-25T20:31:53.801Z"
   },
   {
    "duration": 0,
    "start_time": "2023-05-25T20:31:53.802Z"
   },
   {
    "duration": 0,
    "start_time": "2023-05-25T20:31:53.803Z"
   },
   {
    "duration": 0,
    "start_time": "2023-05-25T20:31:53.805Z"
   },
   {
    "duration": 0,
    "start_time": "2023-05-25T20:31:53.806Z"
   },
   {
    "duration": 4,
    "start_time": "2023-05-26T13:25:53.237Z"
   },
   {
    "duration": 147,
    "start_time": "2023-05-26T13:25:54.976Z"
   },
   {
    "duration": 7,
    "start_time": "2023-05-26T13:25:56.273Z"
   },
   {
    "duration": 18,
    "start_time": "2023-05-26T13:25:57.983Z"
   },
   {
    "duration": 43,
    "start_time": "2023-05-26T13:26:00.339Z"
   },
   {
    "duration": 88,
    "start_time": "2023-05-26T13:26:02.237Z"
   },
   {
    "duration": 116,
    "start_time": "2023-05-26T13:26:04.096Z"
   },
   {
    "duration": 17,
    "start_time": "2023-05-26T13:26:06.462Z"
   },
   {
    "duration": 44,
    "start_time": "2023-05-26T13:26:07.848Z"
   },
   {
    "duration": 4,
    "start_time": "2023-05-26T13:26:10.152Z"
   },
   {
    "duration": 10,
    "start_time": "2023-05-26T13:26:11.715Z"
   },
   {
    "duration": 7,
    "start_time": "2023-05-26T13:26:13.019Z"
   },
   {
    "duration": 236,
    "start_time": "2023-05-26T13:26:16.645Z"
   },
   {
    "duration": 546,
    "start_time": "2023-05-26T13:26:20.845Z"
   },
   {
    "duration": 496,
    "start_time": "2023-05-26T13:27:04.443Z"
   },
   {
    "duration": 8,
    "start_time": "2023-05-26T13:27:11.673Z"
   },
   {
    "duration": 758,
    "start_time": "2023-05-26T13:27:13.188Z"
   },
   {
    "duration": 25,
    "start_time": "2023-05-26T13:27:18.274Z"
   },
   {
    "duration": 12,
    "start_time": "2023-05-26T13:27:20.393Z"
   },
   {
    "duration": 13,
    "start_time": "2023-05-26T13:27:21.425Z"
   },
   {
    "duration": 76,
    "start_time": "2023-05-26T13:27:23.641Z"
   },
   {
    "duration": 33,
    "start_time": "2023-05-26T13:27:25.386Z"
   },
   {
    "duration": 31,
    "start_time": "2023-05-26T13:27:27.847Z"
   },
   {
    "duration": 96,
    "start_time": "2023-05-26T13:27:29.204Z"
   },
   {
    "duration": 13,
    "start_time": "2023-05-26T13:27:32.376Z"
   },
   {
    "duration": 5,
    "start_time": "2023-05-26T13:27:39.129Z"
   },
   {
    "duration": 58,
    "start_time": "2023-05-26T13:27:42.853Z"
   },
   {
    "duration": 10,
    "start_time": "2023-05-26T13:27:45.775Z"
   },
   {
    "duration": 228,
    "start_time": "2023-05-26T13:27:48.246Z"
   },
   {
    "duration": 7,
    "start_time": "2023-05-26T13:27:51.815Z"
   },
   {
    "duration": 10,
    "start_time": "2023-05-26T13:27:55.174Z"
   },
   {
    "duration": 201,
    "start_time": "2023-05-26T13:27:59.827Z"
   },
   {
    "duration": 11,
    "start_time": "2023-05-26T13:28:01.901Z"
   },
   {
    "duration": 14,
    "start_time": "2023-05-26T13:28:06.340Z"
   },
   {
    "duration": 11,
    "start_time": "2023-05-26T13:28:09.933Z"
   },
   {
    "duration": 14,
    "start_time": "2023-05-26T13:28:11.637Z"
   },
   {
    "duration": 8,
    "start_time": "2023-05-26T13:28:16.012Z"
   },
   {
    "duration": 11,
    "start_time": "2023-05-26T13:28:26.518Z"
   },
   {
    "duration": 13,
    "start_time": "2023-05-26T13:28:28.500Z"
   },
   {
    "duration": 10,
    "start_time": "2023-05-26T13:28:30.275Z"
   },
   {
    "duration": 11,
    "start_time": "2023-05-26T13:28:33.108Z"
   },
   {
    "duration": 4,
    "start_time": "2023-05-26T13:28:35.819Z"
   },
   {
    "duration": 3,
    "start_time": "2023-05-26T13:28:36.839Z"
   },
   {
    "duration": 1364,
    "start_time": "2023-05-27T11:19:11.737Z"
   },
   {
    "duration": 544,
    "start_time": "2023-05-27T11:19:13.103Z"
   },
   {
    "duration": 12,
    "start_time": "2023-05-27T11:19:13.649Z"
   },
   {
    "duration": 33,
    "start_time": "2023-05-27T11:19:13.662Z"
   },
   {
    "duration": 38,
    "start_time": "2023-05-27T11:19:13.696Z"
   },
   {
    "duration": 93,
    "start_time": "2023-05-27T11:19:13.736Z"
   },
   {
    "duration": 101,
    "start_time": "2023-05-27T11:19:13.831Z"
   },
   {
    "duration": 19,
    "start_time": "2023-05-27T11:19:13.934Z"
   },
   {
    "duration": 52,
    "start_time": "2023-05-27T11:19:13.954Z"
   },
   {
    "duration": 3,
    "start_time": "2023-05-27T11:19:14.008Z"
   },
   {
    "duration": 31,
    "start_time": "2023-05-27T11:19:14.012Z"
   },
   {
    "duration": 8,
    "start_time": "2023-05-27T11:19:14.045Z"
   },
   {
    "duration": 243,
    "start_time": "2023-05-27T11:19:14.055Z"
   },
   {
    "duration": 474,
    "start_time": "2023-05-27T11:19:14.299Z"
   },
   {
    "duration": 5,
    "start_time": "2023-05-27T11:19:14.774Z"
   },
   {
    "duration": 785,
    "start_time": "2023-05-27T11:19:14.781Z"
   },
   {
    "duration": 21,
    "start_time": "2023-05-27T11:19:15.568Z"
   },
   {
    "duration": 14,
    "start_time": "2023-05-27T11:19:15.591Z"
   },
   {
    "duration": 19,
    "start_time": "2023-05-27T11:19:15.626Z"
   },
   {
    "duration": 93,
    "start_time": "2023-05-27T11:19:15.647Z"
   },
   {
    "duration": 28,
    "start_time": "2023-05-27T11:19:15.742Z"
   },
   {
    "duration": 20,
    "start_time": "2023-05-27T11:19:15.771Z"
   },
   {
    "duration": 78,
    "start_time": "2023-05-27T11:19:15.792Z"
   },
   {
    "duration": 10,
    "start_time": "2023-05-27T11:19:15.871Z"
   },
   {
    "duration": 9,
    "start_time": "2023-05-27T11:19:15.883Z"
   },
   {
    "duration": 72,
    "start_time": "2023-05-27T11:19:15.893Z"
   },
   {
    "duration": 8,
    "start_time": "2023-05-27T11:19:15.967Z"
   },
   {
    "duration": 222,
    "start_time": "2023-05-27T11:19:15.978Z"
   },
   {
    "duration": 5,
    "start_time": "2023-05-27T11:19:16.202Z"
   },
   {
    "duration": 30,
    "start_time": "2023-05-27T11:19:16.208Z"
   },
   {
    "duration": 218,
    "start_time": "2023-05-27T11:19:16.240Z"
   },
   {
    "duration": 6,
    "start_time": "2023-05-27T11:19:16.460Z"
   },
   {
    "duration": 20,
    "start_time": "2023-05-27T11:19:16.468Z"
   },
   {
    "duration": 12,
    "start_time": "2023-05-27T11:19:16.490Z"
   },
   {
    "duration": 17,
    "start_time": "2023-05-27T11:19:16.503Z"
   },
   {
    "duration": 10,
    "start_time": "2023-05-27T11:19:22.851Z"
   },
   {
    "duration": 15,
    "start_time": "2023-05-27T11:20:00.520Z"
   },
   {
    "duration": 4,
    "start_time": "2023-05-27T11:20:14.702Z"
   },
   {
    "duration": 7,
    "start_time": "2023-05-27T11:20:18.142Z"
   },
   {
    "duration": 4,
    "start_time": "2023-05-27T11:20:29.982Z"
   },
   {
    "duration": 10,
    "start_time": "2023-05-27T11:20:30.457Z"
   },
   {
    "duration": 7,
    "start_time": "2023-05-27T11:20:40.940Z"
   },
   {
    "duration": 4,
    "start_time": "2023-05-27T11:20:58.209Z"
   },
   {
    "duration": 4,
    "start_time": "2023-05-27T11:21:07.555Z"
   },
   {
    "duration": 4,
    "start_time": "2023-05-27T11:21:41.486Z"
   },
   {
    "duration": 4,
    "start_time": "2023-05-27T11:21:47.255Z"
   },
   {
    "duration": 3,
    "start_time": "2023-05-27T11:22:56.221Z"
   },
   {
    "duration": 3,
    "start_time": "2023-05-27T11:23:01.974Z"
   },
   {
    "duration": 7,
    "start_time": "2023-05-27T11:23:26.086Z"
   },
   {
    "duration": 6,
    "start_time": "2023-05-27T11:23:49.490Z"
   },
   {
    "duration": 4,
    "start_time": "2023-05-27T11:25:32.251Z"
   },
   {
    "duration": 117,
    "start_time": "2023-05-27T11:25:49.213Z"
   },
   {
    "duration": 5,
    "start_time": "2023-05-27T11:25:56.286Z"
   },
   {
    "duration": 5,
    "start_time": "2023-05-27T11:26:43.651Z"
   },
   {
    "duration": 6,
    "start_time": "2023-05-27T11:26:54.987Z"
   },
   {
    "duration": 4,
    "start_time": "2023-05-27T11:26:59.097Z"
   },
   {
    "duration": 5,
    "start_time": "2023-05-27T11:27:04.885Z"
   },
   {
    "duration": 5,
    "start_time": "2023-05-27T11:27:23.935Z"
   },
   {
    "duration": 6,
    "start_time": "2023-05-27T11:27:34.899Z"
   },
   {
    "duration": 8,
    "start_time": "2023-05-27T11:27:50.221Z"
   },
   {
    "duration": 14,
    "start_time": "2023-05-27T11:28:12.189Z"
   },
   {
    "duration": 7,
    "start_time": "2023-05-27T11:28:26.161Z"
   },
   {
    "duration": 1554,
    "start_time": "2023-05-27T11:29:29.152Z"
   },
   {
    "duration": 1550,
    "start_time": "2023-05-27T11:29:49.745Z"
   },
   {
    "duration": 6,
    "start_time": "2023-05-27T11:30:06.205Z"
   },
   {
    "duration": 8,
    "start_time": "2023-05-27T11:30:15.783Z"
   },
   {
    "duration": 1898,
    "start_time": "2023-05-27T11:30:30.516Z"
   },
   {
    "duration": 1788,
    "start_time": "2023-05-27T11:30:35.493Z"
   },
   {
    "duration": 101,
    "start_time": "2023-05-27T11:31:13.163Z"
   },
   {
    "duration": 6,
    "start_time": "2023-05-27T11:31:17.710Z"
   },
   {
    "duration": 1900,
    "start_time": "2023-05-27T11:31:29.694Z"
   },
   {
    "duration": 9,
    "start_time": "2023-05-27T11:31:42.199Z"
   },
   {
    "duration": 12,
    "start_time": "2023-05-27T11:32:08.449Z"
   },
   {
    "duration": 6,
    "start_time": "2023-05-27T11:33:03.789Z"
   },
   {
    "duration": 13,
    "start_time": "2023-05-27T11:33:47.357Z"
   },
   {
    "duration": 7,
    "start_time": "2023-05-27T11:35:11.549Z"
   },
   {
    "duration": 19,
    "start_time": "2023-05-27T11:35:46.813Z"
   },
   {
    "duration": 21,
    "start_time": "2023-05-27T11:35:52.423Z"
   },
   {
    "duration": 25,
    "start_time": "2023-05-27T11:36:56.704Z"
   },
   {
    "duration": 30,
    "start_time": "2023-05-27T11:37:00.792Z"
   },
   {
    "duration": 44,
    "start_time": "2023-05-27T11:38:00.717Z"
   },
   {
    "duration": 16,
    "start_time": "2023-05-27T11:38:51.351Z"
   },
   {
    "duration": 21,
    "start_time": "2023-05-27T11:39:55.744Z"
   },
   {
    "duration": 4,
    "start_time": "2023-05-27T11:40:52.082Z"
   },
   {
    "duration": 8,
    "start_time": "2023-05-27T11:40:55.541Z"
   },
   {
    "duration": 5,
    "start_time": "2023-05-27T11:41:04.843Z"
   },
   {
    "duration": 5,
    "start_time": "2023-05-27T11:41:35.956Z"
   },
   {
    "duration": 5,
    "start_time": "2023-05-27T11:42:02.483Z"
   },
   {
    "duration": 118,
    "start_time": "2023-05-27T11:42:14.583Z"
   },
   {
    "duration": 3,
    "start_time": "2023-05-27T11:42:22.801Z"
   },
   {
    "duration": 4,
    "start_time": "2023-05-27T11:42:33.515Z"
   },
   {
    "duration": 6,
    "start_time": "2023-05-27T11:43:32.911Z"
   },
   {
    "duration": 14,
    "start_time": "2023-05-27T11:43:35.781Z"
   },
   {
    "duration": 10,
    "start_time": "2023-05-27T11:43:56.249Z"
   },
   {
    "duration": 12,
    "start_time": "2023-05-27T11:43:56.853Z"
   },
   {
    "duration": 3,
    "start_time": "2023-05-27T11:44:14.095Z"
   },
   {
    "duration": 8,
    "start_time": "2023-05-27T11:44:16.882Z"
   },
   {
    "duration": 9,
    "start_time": "2023-05-27T11:44:17.895Z"
   },
   {
    "duration": 22,
    "start_time": "2023-05-27T11:47:26.732Z"
   },
   {
    "duration": 1186,
    "start_time": "2023-05-27T11:51:21.584Z"
   },
   {
    "duration": 277,
    "start_time": "2023-05-27T11:51:22.772Z"
   },
   {
    "duration": 14,
    "start_time": "2023-05-27T11:51:23.050Z"
   },
   {
    "duration": 75,
    "start_time": "2023-05-27T11:51:23.065Z"
   },
   {
    "duration": 36,
    "start_time": "2023-05-27T11:51:23.144Z"
   },
   {
    "duration": 115,
    "start_time": "2023-05-27T11:51:23.181Z"
   },
   {
    "duration": 134,
    "start_time": "2023-05-27T11:51:23.298Z"
   },
   {
    "duration": 23,
    "start_time": "2023-05-27T11:51:23.434Z"
   },
   {
    "duration": 58,
    "start_time": "2023-05-27T11:51:23.459Z"
   },
   {
    "duration": 28,
    "start_time": "2023-05-27T11:51:23.519Z"
   },
   {
    "duration": 46,
    "start_time": "2023-05-27T11:51:23.549Z"
   },
   {
    "duration": 10,
    "start_time": "2023-05-27T11:51:23.597Z"
   },
   {
    "duration": 375,
    "start_time": "2023-05-27T11:51:23.609Z"
   },
   {
    "duration": 900,
    "start_time": "2023-05-27T11:51:23.987Z"
   },
   {
    "duration": 57,
    "start_time": "2023-05-27T11:51:24.888Z"
   },
   {
    "duration": 1770,
    "start_time": "2023-05-27T11:51:24.947Z"
   },
   {
    "duration": 32,
    "start_time": "2023-05-27T11:51:26.724Z"
   },
   {
    "duration": 16,
    "start_time": "2023-05-27T11:51:26.758Z"
   },
   {
    "duration": 16,
    "start_time": "2023-05-27T11:51:26.776Z"
   },
   {
    "duration": 110,
    "start_time": "2023-05-27T11:51:26.794Z"
   },
   {
    "duration": 35,
    "start_time": "2023-05-27T11:51:26.905Z"
   },
   {
    "duration": 36,
    "start_time": "2023-05-27T11:51:26.942Z"
   },
   {
    "duration": 77,
    "start_time": "2023-05-27T11:51:26.979Z"
   },
   {
    "duration": 10,
    "start_time": "2023-05-27T11:51:27.057Z"
   },
   {
    "duration": 8,
    "start_time": "2023-05-27T11:51:27.069Z"
   },
   {
    "duration": 75,
    "start_time": "2023-05-27T11:51:27.078Z"
   },
   {
    "duration": 9,
    "start_time": "2023-05-27T11:51:27.155Z"
   },
   {
    "duration": 232,
    "start_time": "2023-05-27T11:51:27.165Z"
   },
   {
    "duration": 7,
    "start_time": "2023-05-27T11:51:27.398Z"
   },
   {
    "duration": 51,
    "start_time": "2023-05-27T11:51:27.406Z"
   },
   {
    "duration": 320,
    "start_time": "2023-05-27T11:51:27.459Z"
   },
   {
    "duration": 7,
    "start_time": "2023-05-27T11:51:27.781Z"
   },
   {
    "duration": 11,
    "start_time": "2023-05-27T11:51:27.789Z"
   },
   {
    "duration": 28,
    "start_time": "2023-05-27T11:51:27.801Z"
   },
   {
    "duration": 33,
    "start_time": "2023-05-27T11:51:27.831Z"
   },
   {
    "duration": 9,
    "start_time": "2023-05-27T11:51:27.866Z"
   },
   {
    "duration": 12,
    "start_time": "2023-05-27T11:51:27.876Z"
   },
   {
    "duration": 20,
    "start_time": "2023-05-27T11:51:27.889Z"
   },
   {
    "duration": 11,
    "start_time": "2023-05-27T11:51:27.910Z"
   },
   {
    "duration": 42,
    "start_time": "2023-05-27T11:51:27.923Z"
   },
   {
    "duration": 4,
    "start_time": "2023-05-27T11:51:27.968Z"
   },
   {
    "duration": 6,
    "start_time": "2023-05-27T11:51:27.973Z"
   }
  ],
  "kernelspec": {
   "display_name": "Python 3 (ipykernel)",
   "language": "python",
   "name": "python3"
  },
  "language_info": {
   "codemirror_mode": {
    "name": "ipython",
    "version": 3
   },
   "file_extension": ".py",
   "mimetype": "text/x-python",
   "name": "python",
   "nbconvert_exporter": "python",
   "pygments_lexer": "ipython3",
   "version": "3.9.13"
  },
  "toc": {
   "base_numbering": 1,
   "nav_menu": {},
   "number_sections": true,
   "sideBar": true,
   "skip_h1_title": true,
   "title_cell": "Table of Contents",
   "title_sidebar": "Contents",
   "toc_cell": false,
   "toc_position": {
    "height": "calc(100% - 180px)",
    "left": "10px",
    "top": "150px",
    "width": "307.2px"
   },
   "toc_section_display": true,
   "toc_window_display": true
  }
 },
 "nbformat": 4,
 "nbformat_minor": 5
}
