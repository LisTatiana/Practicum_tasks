{
 "cells": [
  {
   "cell_type": "markdown",
   "id": "37268e15",
   "metadata": {},
   "source": [
    "   \n",
    "**Название проекта - Сбрный проект - Изучение закономерностей, определяющих успешность игр**\n",
    "_____\n",
    "**Описание исследования.** \n",
    "\n",
    "Это проет магазина Стримчик. Из открытых источников доступны исторические данные о продажах игр, оценки пользователей и экспертов, жанры и платформы. \n",
    "    \n",
    "_____\n",
    "**Цель исследования.**\n",
    "    \n",
    "Провести анализ данных при помощи которых можно выявить определяющие успешность игры закономерности \n",
    "_____\n",
    "**Задачи исследования.**\n",
    "Провести предобработку данных, исследовать количество выпускаемых ирг на различных платформах, выявить влияют ли оценки пользователей и критоков на продажи. Составить портрет пользователя \n",
    "_____\n",
    "**Исходные данные.**\n",
    "    \n",
    "Name — название игры \\\n",
    "Platform — платформа \\\n",
    "Year_of_Release — год выпуска \\\n",
    "Genre — жанр игры \\\n",
    "NA_sales — продажи в Северной Америке (миллионы проданных копий) \\\n",
    "EU_sales — продажи в Европе (миллионы проданных копий) \\\n",
    "JP_sales — продажи в Японии (миллионы проданных копий) \\\n",
    "Other_sales — продажи в других странах (миллионы проданных копий) \\\n",
    "Critic_Score — оценка критиков (максимум 100) \\\n",
    "User_Score — оценка пользователей (максимум 10) \\\n",
    "Rating — рейтинг от организации ESRB (англ. Entertainment Software Rating Board). \\\n",
    "Эта ассоциация определяет рейтинг компьютерных игр и присваивает им подходящую возрастную категорию.\n",
    "Данные за 2016 год могут быть неполными.\n",
    "______\n"
   ]
  },
  {
   "cell_type": "markdown",
   "id": "816b6c40",
   "metadata": {},
   "source": [
    "Для начала выполню предобработку данных \\\n",
    "Затем посмотрю как игры выпускались в разны годы и на разных платформах \\\n",
    "Посмотрю как влияют оценки пользователей и критиков на продажи \\\n",
    "Влияет ли на продажи рейтинг \n"
   ]
  },
  {
   "cell_type": "markdown",
   "id": "b7bd74f4",
   "metadata": {},
   "source": [
    "## 1 Открваю файл и смотрю общую информацию"
   ]
  },
  {
   "cell_type": "code",
   "execution_count": 1,
   "id": "ecfc59d7",
   "metadata": {},
   "outputs": [],
   "source": [
    "from scipy import stats as st\n",
    "import matplotlib\n",
    "import pandas as pd\n",
    "import matplotlib.pyplot as plt\n",
    "import seaborn as sns\n",
    "import numpy as np\n",
    "import warnings\n",
    "\n",
    "warnings.filterwarnings('ignore') "
   ]
  },
  {
   "cell_type": "code",
   "execution_count": 2,
   "id": "6cf936b0",
   "metadata": {
    "scrolled": false
   },
   "outputs": [],
   "source": [
    "\n",
    "try:\n",
    "    df = pd.read_csv('/datasets/games.csv')\n",
    "except:\n",
    "    df = pd.read_csv('games.csv')\n"
   ]
  },
  {
   "cell_type": "code",
   "execution_count": 3,
   "id": "50c56bfa",
   "metadata": {},
   "outputs": [
    {
     "name": "stdout",
     "output_type": "stream",
     "text": [
      "<class 'pandas.core.frame.DataFrame'>\n",
      "RangeIndex: 16715 entries, 0 to 16714\n",
      "Data columns (total 11 columns):\n",
      " #   Column           Non-Null Count  Dtype  \n",
      "---  ------           --------------  -----  \n",
      " 0   Name             16713 non-null  object \n",
      " 1   Platform         16715 non-null  object \n",
      " 2   Year_of_Release  16446 non-null  float64\n",
      " 3   Genre            16713 non-null  object \n",
      " 4   NA_sales         16715 non-null  float64\n",
      " 5   EU_sales         16715 non-null  float64\n",
      " 6   JP_sales         16715 non-null  float64\n",
      " 7   Other_sales      16715 non-null  float64\n",
      " 8   Critic_Score     8137 non-null   float64\n",
      " 9   User_Score       10014 non-null  object \n",
      " 10  Rating           9949 non-null   object \n",
      "dtypes: float64(6), object(5)\n",
      "memory usage: 1.4+ MB\n",
      "None\n"
     ]
    }
   ],
   "source": [
    "# Общая информация по объектам файла\n",
    "print(df.info())\n"
   ]
  },
  {
   "cell_type": "code",
   "execution_count": 4,
   "id": "9b2e22dd",
   "metadata": {},
   "outputs": [
    {
     "data": {
      "text/html": [
       "<div>\n",
       "<style scoped>\n",
       "    .dataframe tbody tr th:only-of-type {\n",
       "        vertical-align: middle;\n",
       "    }\n",
       "\n",
       "    .dataframe tbody tr th {\n",
       "        vertical-align: top;\n",
       "    }\n",
       "\n",
       "    .dataframe thead th {\n",
       "        text-align: right;\n",
       "    }\n",
       "</style>\n",
       "<table border=\"1\" class=\"dataframe\">\n",
       "  <thead>\n",
       "    <tr style=\"text-align: right;\">\n",
       "      <th></th>\n",
       "      <th>Name</th>\n",
       "      <th>Platform</th>\n",
       "      <th>Year_of_Release</th>\n",
       "      <th>Genre</th>\n",
       "      <th>NA_sales</th>\n",
       "      <th>EU_sales</th>\n",
       "      <th>JP_sales</th>\n",
       "      <th>Other_sales</th>\n",
       "      <th>Critic_Score</th>\n",
       "      <th>User_Score</th>\n",
       "      <th>Rating</th>\n",
       "    </tr>\n",
       "  </thead>\n",
       "  <tbody>\n",
       "    <tr>\n",
       "      <th>0</th>\n",
       "      <td>Wii Sports</td>\n",
       "      <td>Wii</td>\n",
       "      <td>2006.0</td>\n",
       "      <td>Sports</td>\n",
       "      <td>41.36</td>\n",
       "      <td>28.96</td>\n",
       "      <td>3.77</td>\n",
       "      <td>8.45</td>\n",
       "      <td>76.0</td>\n",
       "      <td>8</td>\n",
       "      <td>E</td>\n",
       "    </tr>\n",
       "    <tr>\n",
       "      <th>1</th>\n",
       "      <td>Super Mario Bros.</td>\n",
       "      <td>NES</td>\n",
       "      <td>1985.0</td>\n",
       "      <td>Platform</td>\n",
       "      <td>29.08</td>\n",
       "      <td>3.58</td>\n",
       "      <td>6.81</td>\n",
       "      <td>0.77</td>\n",
       "      <td>NaN</td>\n",
       "      <td>NaN</td>\n",
       "      <td>NaN</td>\n",
       "    </tr>\n",
       "    <tr>\n",
       "      <th>2</th>\n",
       "      <td>Mario Kart Wii</td>\n",
       "      <td>Wii</td>\n",
       "      <td>2008.0</td>\n",
       "      <td>Racing</td>\n",
       "      <td>15.68</td>\n",
       "      <td>12.76</td>\n",
       "      <td>3.79</td>\n",
       "      <td>3.29</td>\n",
       "      <td>82.0</td>\n",
       "      <td>8.3</td>\n",
       "      <td>E</td>\n",
       "    </tr>\n",
       "    <tr>\n",
       "      <th>3</th>\n",
       "      <td>Wii Sports Resort</td>\n",
       "      <td>Wii</td>\n",
       "      <td>2009.0</td>\n",
       "      <td>Sports</td>\n",
       "      <td>15.61</td>\n",
       "      <td>10.93</td>\n",
       "      <td>3.28</td>\n",
       "      <td>2.95</td>\n",
       "      <td>80.0</td>\n",
       "      <td>8</td>\n",
       "      <td>E</td>\n",
       "    </tr>\n",
       "    <tr>\n",
       "      <th>4</th>\n",
       "      <td>Pokemon Red/Pokemon Blue</td>\n",
       "      <td>GB</td>\n",
       "      <td>1996.0</td>\n",
       "      <td>Role-Playing</td>\n",
       "      <td>11.27</td>\n",
       "      <td>8.89</td>\n",
       "      <td>10.22</td>\n",
       "      <td>1.00</td>\n",
       "      <td>NaN</td>\n",
       "      <td>NaN</td>\n",
       "      <td>NaN</td>\n",
       "    </tr>\n",
       "  </tbody>\n",
       "</table>\n",
       "</div>"
      ],
      "text/plain": [
       "                       Name Platform  Year_of_Release         Genre  NA_sales  \\\n",
       "0                Wii Sports      Wii           2006.0        Sports     41.36   \n",
       "1         Super Mario Bros.      NES           1985.0      Platform     29.08   \n",
       "2            Mario Kart Wii      Wii           2008.0        Racing     15.68   \n",
       "3         Wii Sports Resort      Wii           2009.0        Sports     15.61   \n",
       "4  Pokemon Red/Pokemon Blue       GB           1996.0  Role-Playing     11.27   \n",
       "\n",
       "   EU_sales  JP_sales  Other_sales  Critic_Score User_Score Rating  \n",
       "0     28.96      3.77         8.45          76.0          8      E  \n",
       "1      3.58      6.81         0.77           NaN        NaN    NaN  \n",
       "2     12.76      3.79         3.29          82.0        8.3      E  \n",
       "3     10.93      3.28         2.95          80.0          8      E  \n",
       "4      8.89     10.22         1.00           NaN        NaN    NaN  "
      ]
     },
     "execution_count": 4,
     "metadata": {},
     "output_type": "execute_result"
    }
   ],
   "source": [
    "#смотрим как выглядит файл с данными\n",
    "df.head()"
   ]
  },
  {
   "cell_type": "markdown",
   "id": "65e71e32",
   "metadata": {},
   "source": [
    "## 2 Предобработка данных\n",
    "#### 2.1 Привожу столбцы к нижнему регистру"
   ]
  },
  {
   "cell_type": "code",
   "execution_count": 5,
   "id": "58cb41d1",
   "metadata": {},
   "outputs": [],
   "source": [
    "df.columns = df.columns.str.lower()"
   ]
  },
  {
   "cell_type": "markdown",
   "id": "1738a219",
   "metadata": {},
   "source": [
    "#### 2.2 Оцениваю количество пропусков в таблице и устраняю пропуски"
   ]
  },
  {
   "cell_type": "code",
   "execution_count": 6,
   "id": "426b95e7",
   "metadata": {
    "scrolled": true
   },
   "outputs": [
    {
     "data": {
      "text/html": [
       "<style type=\"text/css\">\n",
       "#T_31841_row0_col0, #T_31841_row1_col0, #T_31841_row3_col0, #T_31841_row4_col0, #T_31841_row5_col0, #T_31841_row6_col0, #T_31841_row7_col0 {\n",
       "  background-color: #3b4cc0;\n",
       "  color: #f1f1f1;\n",
       "}\n",
       "#T_31841_row2_col0 {\n",
       "  background-color: #4358cb;\n",
       "  color: #f1f1f1;\n",
       "}\n",
       "#T_31841_row8_col0 {\n",
       "  background-color: #b40426;\n",
       "  color: #f1f1f1;\n",
       "}\n",
       "#T_31841_row9_col0 {\n",
       "  background-color: #f08b6e;\n",
       "  color: #f1f1f1;\n",
       "}\n",
       "#T_31841_row10_col0 {\n",
       "  background-color: #ef886b;\n",
       "  color: #f1f1f1;\n",
       "}\n",
       "</style>\n",
       "<table id=\"T_31841\">\n",
       "  <thead>\n",
       "    <tr>\n",
       "      <th class=\"blank level0\" >&nbsp;</th>\n",
       "      <th id=\"T_31841_level0_col0\" class=\"col_heading level0 col0\" >0</th>\n",
       "    </tr>\n",
       "  </thead>\n",
       "  <tbody>\n",
       "    <tr>\n",
       "      <th id=\"T_31841_level0_row0\" class=\"row_heading level0 row0\" >name</th>\n",
       "      <td id=\"T_31841_row0_col0\" class=\"data row0 col0\" >0.000000</td>\n",
       "    </tr>\n",
       "    <tr>\n",
       "      <th id=\"T_31841_level0_row1\" class=\"row_heading level0 row1\" >platform</th>\n",
       "      <td id=\"T_31841_row1_col0\" class=\"data row1 col0\" >0.000000</td>\n",
       "    </tr>\n",
       "    <tr>\n",
       "      <th id=\"T_31841_level0_row2\" class=\"row_heading level0 row2\" >year_of_release</th>\n",
       "      <td id=\"T_31841_row2_col0\" class=\"data row2 col0\" >1.600000</td>\n",
       "    </tr>\n",
       "    <tr>\n",
       "      <th id=\"T_31841_level0_row3\" class=\"row_heading level0 row3\" >genre</th>\n",
       "      <td id=\"T_31841_row3_col0\" class=\"data row3 col0\" >0.000000</td>\n",
       "    </tr>\n",
       "    <tr>\n",
       "      <th id=\"T_31841_level0_row4\" class=\"row_heading level0 row4\" >na_sales</th>\n",
       "      <td id=\"T_31841_row4_col0\" class=\"data row4 col0\" >0.000000</td>\n",
       "    </tr>\n",
       "    <tr>\n",
       "      <th id=\"T_31841_level0_row5\" class=\"row_heading level0 row5\" >eu_sales</th>\n",
       "      <td id=\"T_31841_row5_col0\" class=\"data row5 col0\" >0.000000</td>\n",
       "    </tr>\n",
       "    <tr>\n",
       "      <th id=\"T_31841_level0_row6\" class=\"row_heading level0 row6\" >jp_sales</th>\n",
       "      <td id=\"T_31841_row6_col0\" class=\"data row6 col0\" >0.000000</td>\n",
       "    </tr>\n",
       "    <tr>\n",
       "      <th id=\"T_31841_level0_row7\" class=\"row_heading level0 row7\" >other_sales</th>\n",
       "      <td id=\"T_31841_row7_col0\" class=\"data row7 col0\" >0.000000</td>\n",
       "    </tr>\n",
       "    <tr>\n",
       "      <th id=\"T_31841_level0_row8\" class=\"row_heading level0 row8\" >critic_score</th>\n",
       "      <td id=\"T_31841_row8_col0\" class=\"data row8 col0\" >51.300000</td>\n",
       "    </tr>\n",
       "    <tr>\n",
       "      <th id=\"T_31841_level0_row9\" class=\"row_heading level0 row9\" >user_score</th>\n",
       "      <td id=\"T_31841_row9_col0\" class=\"data row9 col0\" >40.100000</td>\n",
       "    </tr>\n",
       "    <tr>\n",
       "      <th id=\"T_31841_level0_row10\" class=\"row_heading level0 row10\" >rating</th>\n",
       "      <td id=\"T_31841_row10_col0\" class=\"data row10 col0\" >40.500000</td>\n",
       "    </tr>\n",
       "  </tbody>\n",
       "</table>\n"
      ],
      "text/plain": [
       "<pandas.io.formats.style.Styler at 0x2800fa4e340>"
      ]
     },
     "execution_count": 6,
     "metadata": {},
     "output_type": "execute_result"
    }
   ],
   "source": [
    "# количесвто пропусков в процентах\n",
    "pd.DataFrame(round(df.isna().mean()*100,1,)).style.background_gradient('coolwarm')"
   ]
  },
  {
   "cell_type": "code",
   "execution_count": 7,
   "id": "3163ccde",
   "metadata": {},
   "outputs": [
    {
     "data": {
      "text/plain": [
       "name                  2\n",
       "platform              0\n",
       "year_of_release     269\n",
       "genre                 2\n",
       "na_sales              0\n",
       "eu_sales              0\n",
       "jp_sales              0\n",
       "other_sales           0\n",
       "critic_score       8578\n",
       "user_score         6701\n",
       "rating             6766\n",
       "dtype: int64"
      ]
     },
     "execution_count": 7,
     "metadata": {},
     "output_type": "execute_result"
    }
   ],
   "source": [
    "#количество пропусков в абсолютных числах\n",
    "df.isna().sum()"
   ]
  },
  {
   "cell_type": "markdown",
   "id": "6295e7e8",
   "metadata": {},
   "source": [
    "#### 2.2.1 Удалю пропуки в столбце year_of_release т.к. их меньше 5%, приведу к int\n",
    "удалю пропуски в солбце name - их всего 2"
   ]
  },
  {
   "cell_type": "code",
   "execution_count": 8,
   "id": "c63fa8f0",
   "metadata": {},
   "outputs": [
    {
     "data": {
      "text/plain": [
       "16713"
      ]
     },
     "execution_count": 8,
     "metadata": {},
     "output_type": "execute_result"
    }
   ],
   "source": [
    "#удалю  пропуск name\n",
    "df.dropna(subset = ['name'], inplace = True)\n",
    "df.shape[0]"
   ]
  },
  {
   "cell_type": "code",
   "execution_count": 9,
   "id": "c438068b",
   "metadata": {},
   "outputs": [
    {
     "name": "stdout",
     "output_type": "stream",
     "text": [
      "1.1098034508021166\n"
     ]
    }
   ],
   "source": [
    "#посмотрю какой процент от итоговых продаж занимают продажи где не указан год выпуска \n",
    "\n",
    "#посчитаю сумму продаж по регионам\n",
    "df['sum_sales'] = df[['na_sales','eu_sales','jp_sales', 'other_sales']].sum(axis='columns')\n",
    "\n",
    "#разделю сумму продаж без года выпуска на все продажи\n",
    "print(df.query('year_of_release.isnull()')['sum_sales'].sum()/df['sum_sales'].sum()*100)"
   ]
  },
  {
   "cell_type": "markdown",
   "id": "d0e3443f",
   "metadata": {},
   "source": [
    "тк сумма продаж в графе с пропусками 1% и заполнить ее не представляется возможным, удаляем пропуски"
   ]
  },
  {
   "cell_type": "code",
   "execution_count": 10,
   "id": "9c4ce236",
   "metadata": {},
   "outputs": [
    {
     "data": {
      "text/plain": [
       "16444"
      ]
     },
     "execution_count": 10,
     "metadata": {},
     "output_type": "execute_result"
    }
   ],
   "source": [
    "#удалю пропуски в столбце year и проверю сколько осталось строк\n",
    "df.dropna(subset = ['year_of_release'], inplace = True)\n",
    "df.shape[0]"
   ]
  },
  {
   "cell_type": "code",
   "execution_count": 11,
   "id": "c33d85b7",
   "metadata": {},
   "outputs": [
    {
     "name": "stdout",
     "output_type": "stream",
     "text": [
      "<class 'pandas.core.frame.DataFrame'>\n",
      "Int64Index: 16444 entries, 0 to 16714\n",
      "Data columns (total 12 columns):\n",
      " #   Column           Non-Null Count  Dtype  \n",
      "---  ------           --------------  -----  \n",
      " 0   name             16444 non-null  object \n",
      " 1   platform         16444 non-null  object \n",
      " 2   year_of_release  16444 non-null  int32  \n",
      " 3   genre            16444 non-null  object \n",
      " 4   na_sales         16444 non-null  float64\n",
      " 5   eu_sales         16444 non-null  float64\n",
      " 6   jp_sales         16444 non-null  float64\n",
      " 7   other_sales      16444 non-null  float64\n",
      " 8   critic_score     7983 non-null   float64\n",
      " 9   user_score       9839 non-null   object \n",
      " 10  rating           9768 non-null   object \n",
      " 11  sum_sales        16444 non-null  float64\n",
      "dtypes: float64(6), int32(1), object(5)\n",
      "memory usage: 1.6+ MB\n"
     ]
    }
   ],
   "source": [
    "#приведу год выпуска к типу int\n",
    "df['year_of_release'] = df['year_of_release'].astype('int')\n",
    "df.info()"
   ]
  },
  {
   "cell_type": "markdown",
   "id": "e87cd130",
   "metadata": {},
   "source": [
    "Предположу, что пропуски в рейтингах от того, что в более ранние годы рейтинг не ставили "
   ]
  },
  {
   "cell_type": "code",
   "execution_count": 12,
   "id": "de824499",
   "metadata": {},
   "outputs": [],
   "source": [
    "#посчитаю сколько игр в каждый год имеет рейтинг и сравню с общим количеством игра за этот год\n",
    "df_no_rating = df.query('critic_score.isnull() & rating.isnull() & user_score.isnull()')\\\n",
    "        .groupby('year_of_release')['name'].count().reset_index()\n",
    "df_rating = df.groupby('year_of_release')['name'].count().reset_index()\n",
    "df_no_rating = df_no_rating.merge(df_rating, on='year_of_release', how='outer')"
   ]
  },
  {
   "cell_type": "code",
   "execution_count": 13,
   "id": "39a5fc57",
   "metadata": {},
   "outputs": [],
   "source": [
    "#переименую колонки\n",
    "df_no_rating.columns = ['year_of_release', 'games_w/o_rating', 'total_games']\n"
   ]
  },
  {
   "cell_type": "code",
   "execution_count": 14,
   "id": "09773bf2",
   "metadata": {},
   "outputs": [
    {
     "data": {
      "text/html": [
       "<div>\n",
       "<style scoped>\n",
       "    .dataframe tbody tr th:only-of-type {\n",
       "        vertical-align: middle;\n",
       "    }\n",
       "\n",
       "    .dataframe tbody tr th {\n",
       "        vertical-align: top;\n",
       "    }\n",
       "\n",
       "    .dataframe thead th {\n",
       "        text-align: right;\n",
       "    }\n",
       "</style>\n",
       "<table border=\"1\" class=\"dataframe\">\n",
       "  <thead>\n",
       "    <tr style=\"text-align: right;\">\n",
       "      <th></th>\n",
       "      <th>year_of_release</th>\n",
       "      <th>games_w/o_rating</th>\n",
       "      <th>total_games</th>\n",
       "      <th>games_w/o_rating_%</th>\n",
       "    </tr>\n",
       "  </thead>\n",
       "  <tbody>\n",
       "    <tr>\n",
       "      <th>0</th>\n",
       "      <td>1980</td>\n",
       "      <td>9</td>\n",
       "      <td>9</td>\n",
       "      <td>100.000000</td>\n",
       "    </tr>\n",
       "    <tr>\n",
       "      <th>1</th>\n",
       "      <td>1981</td>\n",
       "      <td>46</td>\n",
       "      <td>46</td>\n",
       "      <td>100.000000</td>\n",
       "    </tr>\n",
       "    <tr>\n",
       "      <th>2</th>\n",
       "      <td>1982</td>\n",
       "      <td>36</td>\n",
       "      <td>36</td>\n",
       "      <td>100.000000</td>\n",
       "    </tr>\n",
       "    <tr>\n",
       "      <th>3</th>\n",
       "      <td>1983</td>\n",
       "      <td>17</td>\n",
       "      <td>17</td>\n",
       "      <td>100.000000</td>\n",
       "    </tr>\n",
       "    <tr>\n",
       "      <th>4</th>\n",
       "      <td>1984</td>\n",
       "      <td>14</td>\n",
       "      <td>14</td>\n",
       "      <td>100.000000</td>\n",
       "    </tr>\n",
       "    <tr>\n",
       "      <th>5</th>\n",
       "      <td>1985</td>\n",
       "      <td>13</td>\n",
       "      <td>14</td>\n",
       "      <td>92.857143</td>\n",
       "    </tr>\n",
       "    <tr>\n",
       "      <th>6</th>\n",
       "      <td>1986</td>\n",
       "      <td>21</td>\n",
       "      <td>21</td>\n",
       "      <td>100.000000</td>\n",
       "    </tr>\n",
       "    <tr>\n",
       "      <th>7</th>\n",
       "      <td>1987</td>\n",
       "      <td>16</td>\n",
       "      <td>16</td>\n",
       "      <td>100.000000</td>\n",
       "    </tr>\n",
       "    <tr>\n",
       "      <th>8</th>\n",
       "      <td>1988</td>\n",
       "      <td>14</td>\n",
       "      <td>15</td>\n",
       "      <td>93.333333</td>\n",
       "    </tr>\n",
       "    <tr>\n",
       "      <th>9</th>\n",
       "      <td>1989</td>\n",
       "      <td>17</td>\n",
       "      <td>17</td>\n",
       "      <td>100.000000</td>\n",
       "    </tr>\n",
       "    <tr>\n",
       "      <th>10</th>\n",
       "      <td>1990</td>\n",
       "      <td>16</td>\n",
       "      <td>16</td>\n",
       "      <td>100.000000</td>\n",
       "    </tr>\n",
       "    <tr>\n",
       "      <th>11</th>\n",
       "      <td>1991</td>\n",
       "      <td>41</td>\n",
       "      <td>41</td>\n",
       "      <td>100.000000</td>\n",
       "    </tr>\n",
       "    <tr>\n",
       "      <th>12</th>\n",
       "      <td>1992</td>\n",
       "      <td>41</td>\n",
       "      <td>43</td>\n",
       "      <td>95.348837</td>\n",
       "    </tr>\n",
       "    <tr>\n",
       "      <th>13</th>\n",
       "      <td>1993</td>\n",
       "      <td>60</td>\n",
       "      <td>60</td>\n",
       "      <td>100.000000</td>\n",
       "    </tr>\n",
       "    <tr>\n",
       "      <th>14</th>\n",
       "      <td>1994</td>\n",
       "      <td>120</td>\n",
       "      <td>121</td>\n",
       "      <td>99.173554</td>\n",
       "    </tr>\n",
       "    <tr>\n",
       "      <th>15</th>\n",
       "      <td>1995</td>\n",
       "      <td>219</td>\n",
       "      <td>219</td>\n",
       "      <td>100.000000</td>\n",
       "    </tr>\n",
       "    <tr>\n",
       "      <th>16</th>\n",
       "      <td>1996</td>\n",
       "      <td>255</td>\n",
       "      <td>263</td>\n",
       "      <td>96.958175</td>\n",
       "    </tr>\n",
       "    <tr>\n",
       "      <th>17</th>\n",
       "      <td>1997</td>\n",
       "      <td>268</td>\n",
       "      <td>289</td>\n",
       "      <td>92.733564</td>\n",
       "    </tr>\n",
       "    <tr>\n",
       "      <th>18</th>\n",
       "      <td>1998</td>\n",
       "      <td>346</td>\n",
       "      <td>379</td>\n",
       "      <td>91.292876</td>\n",
       "    </tr>\n",
       "    <tr>\n",
       "      <th>19</th>\n",
       "      <td>1999</td>\n",
       "      <td>296</td>\n",
       "      <td>338</td>\n",
       "      <td>87.573964</td>\n",
       "    </tr>\n",
       "    <tr>\n",
       "      <th>20</th>\n",
       "      <td>2000</td>\n",
       "      <td>199</td>\n",
       "      <td>350</td>\n",
       "      <td>56.857143</td>\n",
       "    </tr>\n",
       "    <tr>\n",
       "      <th>21</th>\n",
       "      <td>2001</td>\n",
       "      <td>142</td>\n",
       "      <td>482</td>\n",
       "      <td>29.460581</td>\n",
       "    </tr>\n",
       "    <tr>\n",
       "      <th>22</th>\n",
       "      <td>2002</td>\n",
       "      <td>173</td>\n",
       "      <td>829</td>\n",
       "      <td>20.868516</td>\n",
       "    </tr>\n",
       "    <tr>\n",
       "      <th>23</th>\n",
       "      <td>2003</td>\n",
       "      <td>161</td>\n",
       "      <td>775</td>\n",
       "      <td>20.774194</td>\n",
       "    </tr>\n",
       "    <tr>\n",
       "      <th>24</th>\n",
       "      <td>2004</td>\n",
       "      <td>161</td>\n",
       "      <td>762</td>\n",
       "      <td>21.128609</td>\n",
       "    </tr>\n",
       "    <tr>\n",
       "      <th>25</th>\n",
       "      <td>2005</td>\n",
       "      <td>232</td>\n",
       "      <td>939</td>\n",
       "      <td>24.707135</td>\n",
       "    </tr>\n",
       "    <tr>\n",
       "      <th>26</th>\n",
       "      <td>2006</td>\n",
       "      <td>326</td>\n",
       "      <td>1006</td>\n",
       "      <td>32.405567</td>\n",
       "    </tr>\n",
       "    <tr>\n",
       "      <th>27</th>\n",
       "      <td>2007</td>\n",
       "      <td>374</td>\n",
       "      <td>1197</td>\n",
       "      <td>31.244779</td>\n",
       "    </tr>\n",
       "    <tr>\n",
       "      <th>28</th>\n",
       "      <td>2008</td>\n",
       "      <td>435</td>\n",
       "      <td>1427</td>\n",
       "      <td>30.483532</td>\n",
       "    </tr>\n",
       "    <tr>\n",
       "      <th>29</th>\n",
       "      <td>2009</td>\n",
       "      <td>402</td>\n",
       "      <td>1426</td>\n",
       "      <td>28.190743</td>\n",
       "    </tr>\n",
       "    <tr>\n",
       "      <th>30</th>\n",
       "      <td>2010</td>\n",
       "      <td>447</td>\n",
       "      <td>1255</td>\n",
       "      <td>35.617530</td>\n",
       "    </tr>\n",
       "    <tr>\n",
       "      <th>31</th>\n",
       "      <td>2011</td>\n",
       "      <td>410</td>\n",
       "      <td>1136</td>\n",
       "      <td>36.091549</td>\n",
       "    </tr>\n",
       "    <tr>\n",
       "      <th>32</th>\n",
       "      <td>2012</td>\n",
       "      <td>287</td>\n",
       "      <td>653</td>\n",
       "      <td>43.950995</td>\n",
       "    </tr>\n",
       "    <tr>\n",
       "      <th>33</th>\n",
       "      <td>2013</td>\n",
       "      <td>222</td>\n",
       "      <td>544</td>\n",
       "      <td>40.808824</td>\n",
       "    </tr>\n",
       "    <tr>\n",
       "      <th>34</th>\n",
       "      <td>2014</td>\n",
       "      <td>229</td>\n",
       "      <td>581</td>\n",
       "      <td>39.414802</td>\n",
       "    </tr>\n",
       "    <tr>\n",
       "      <th>35</th>\n",
       "      <td>2015</td>\n",
       "      <td>267</td>\n",
       "      <td>606</td>\n",
       "      <td>44.059406</td>\n",
       "    </tr>\n",
       "    <tr>\n",
       "      <th>36</th>\n",
       "      <td>2016</td>\n",
       "      <td>202</td>\n",
       "      <td>502</td>\n",
       "      <td>40.239044</td>\n",
       "    </tr>\n",
       "  </tbody>\n",
       "</table>\n",
       "</div>"
      ],
      "text/plain": [
       "    year_of_release  games_w/o_rating  total_games  games_w/o_rating_%\n",
       "0              1980                 9            9          100.000000\n",
       "1              1981                46           46          100.000000\n",
       "2              1982                36           36          100.000000\n",
       "3              1983                17           17          100.000000\n",
       "4              1984                14           14          100.000000\n",
       "5              1985                13           14           92.857143\n",
       "6              1986                21           21          100.000000\n",
       "7              1987                16           16          100.000000\n",
       "8              1988                14           15           93.333333\n",
       "9              1989                17           17          100.000000\n",
       "10             1990                16           16          100.000000\n",
       "11             1991                41           41          100.000000\n",
       "12             1992                41           43           95.348837\n",
       "13             1993                60           60          100.000000\n",
       "14             1994               120          121           99.173554\n",
       "15             1995               219          219          100.000000\n",
       "16             1996               255          263           96.958175\n",
       "17             1997               268          289           92.733564\n",
       "18             1998               346          379           91.292876\n",
       "19             1999               296          338           87.573964\n",
       "20             2000               199          350           56.857143\n",
       "21             2001               142          482           29.460581\n",
       "22             2002               173          829           20.868516\n",
       "23             2003               161          775           20.774194\n",
       "24             2004               161          762           21.128609\n",
       "25             2005               232          939           24.707135\n",
       "26             2006               326         1006           32.405567\n",
       "27             2007               374         1197           31.244779\n",
       "28             2008               435         1427           30.483532\n",
       "29             2009               402         1426           28.190743\n",
       "30             2010               447         1255           35.617530\n",
       "31             2011               410         1136           36.091549\n",
       "32             2012               287          653           43.950995\n",
       "33             2013               222          544           40.808824\n",
       "34             2014               229          581           39.414802\n",
       "35             2015               267          606           44.059406\n",
       "36             2016               202          502           40.239044"
      ]
     },
     "execution_count": 14,
     "metadata": {},
     "output_type": "execute_result"
    }
   ],
   "source": [
    "df_no_rating['games_w/o_rating_%'] = df_no_rating['games_w/o_rating']/df_no_rating['total_games']*100\n",
    "df_no_rating"
   ]
  },
  {
   "cell_type": "markdown",
   "id": "95ea60d2",
   "metadata": {},
   "source": [
    "До 98 года рейтинги играм почти не ставились, начиная с 99 года процен игр без гейтинг значительно снизился и к 2002 дошел до 20%, далее игра оценивались менее регулярно и за 2010-2016 примерно 40% игр не были оценены\n",
    "\n",
    "Проверю еще одно предположение - что количество пропусков не равномерно распределено по разным платформам"
   ]
  },
  {
   "cell_type": "code",
   "execution_count": 15,
   "id": "d46e7479",
   "metadata": {
    "scrolled": false
   },
   "outputs": [
    {
     "data": {
      "text/html": [
       "<div>\n",
       "<style scoped>\n",
       "    .dataframe tbody tr th:only-of-type {\n",
       "        vertical-align: middle;\n",
       "    }\n",
       "\n",
       "    .dataframe tbody tr th {\n",
       "        vertical-align: top;\n",
       "    }\n",
       "\n",
       "    .dataframe thead th {\n",
       "        text-align: right;\n",
       "    }\n",
       "</style>\n",
       "<table border=\"1\" class=\"dataframe\">\n",
       "  <thead>\n",
       "    <tr style=\"text-align: right;\">\n",
       "      <th></th>\n",
       "      <th>всего игр на платформе</th>\n",
       "      <th>пропуски у критиков</th>\n",
       "      <th>процент пропусков</th>\n",
       "    </tr>\n",
       "    <tr>\n",
       "      <th>platform</th>\n",
       "      <th></th>\n",
       "      <th></th>\n",
       "      <th></th>\n",
       "    </tr>\n",
       "  </thead>\n",
       "  <tbody>\n",
       "    <tr>\n",
       "      <th>2600</th>\n",
       "      <td>116</td>\n",
       "      <td>116</td>\n",
       "      <td>100.000000</td>\n",
       "    </tr>\n",
       "    <tr>\n",
       "      <th>PCFX</th>\n",
       "      <td>1</td>\n",
       "      <td>1</td>\n",
       "      <td>100.000000</td>\n",
       "    </tr>\n",
       "    <tr>\n",
       "      <th>WS</th>\n",
       "      <td>6</td>\n",
       "      <td>6</td>\n",
       "      <td>100.000000</td>\n",
       "    </tr>\n",
       "    <tr>\n",
       "      <th>TG16</th>\n",
       "      <td>2</td>\n",
       "      <td>2</td>\n",
       "      <td>100.000000</td>\n",
       "    </tr>\n",
       "    <tr>\n",
       "      <th>SNES</th>\n",
       "      <td>239</td>\n",
       "      <td>239</td>\n",
       "      <td>100.000000</td>\n",
       "    </tr>\n",
       "    <tr>\n",
       "      <th>GB</th>\n",
       "      <td>97</td>\n",
       "      <td>97</td>\n",
       "      <td>100.000000</td>\n",
       "    </tr>\n",
       "    <tr>\n",
       "      <th>SCD</th>\n",
       "      <td>6</td>\n",
       "      <td>6</td>\n",
       "      <td>100.000000</td>\n",
       "    </tr>\n",
       "    <tr>\n",
       "      <th>SAT</th>\n",
       "      <td>173</td>\n",
       "      <td>173</td>\n",
       "      <td>100.000000</td>\n",
       "    </tr>\n",
       "    <tr>\n",
       "      <th>GEN</th>\n",
       "      <td>27</td>\n",
       "      <td>27</td>\n",
       "      <td>100.000000</td>\n",
       "    </tr>\n",
       "    <tr>\n",
       "      <th>GG</th>\n",
       "      <td>1</td>\n",
       "      <td>1</td>\n",
       "      <td>100.000000</td>\n",
       "    </tr>\n",
       "    <tr>\n",
       "      <th>N64</th>\n",
       "      <td>316</td>\n",
       "      <td>316</td>\n",
       "      <td>100.000000</td>\n",
       "    </tr>\n",
       "    <tr>\n",
       "      <th>NES</th>\n",
       "      <td>98</td>\n",
       "      <td>98</td>\n",
       "      <td>100.000000</td>\n",
       "    </tr>\n",
       "    <tr>\n",
       "      <th>NG</th>\n",
       "      <td>12</td>\n",
       "      <td>12</td>\n",
       "      <td>100.000000</td>\n",
       "    </tr>\n",
       "    <tr>\n",
       "      <th>3DO</th>\n",
       "      <td>3</td>\n",
       "      <td>3</td>\n",
       "      <td>100.000000</td>\n",
       "    </tr>\n",
       "    <tr>\n",
       "      <th>PS</th>\n",
       "      <td>1190</td>\n",
       "      <td>980</td>\n",
       "      <td>82.352941</td>\n",
       "    </tr>\n",
       "    <tr>\n",
       "      <th>DC</th>\n",
       "      <td>52</td>\n",
       "      <td>38</td>\n",
       "      <td>73.076923</td>\n",
       "    </tr>\n",
       "    <tr>\n",
       "      <th>PSV</th>\n",
       "      <td>429</td>\n",
       "      <td>278</td>\n",
       "      <td>64.801865</td>\n",
       "    </tr>\n",
       "    <tr>\n",
       "      <th>3DS</th>\n",
       "      <td>512</td>\n",
       "      <td>285</td>\n",
       "      <td>55.664062</td>\n",
       "    </tr>\n",
       "    <tr>\n",
       "      <th>PSP</th>\n",
       "      <td>1193</td>\n",
       "      <td>655</td>\n",
       "      <td>54.903604</td>\n",
       "    </tr>\n",
       "    <tr>\n",
       "      <th>DS</th>\n",
       "      <td>2121</td>\n",
       "      <td>848</td>\n",
       "      <td>39.981141</td>\n",
       "    </tr>\n",
       "    <tr>\n",
       "      <th>GBA</th>\n",
       "      <td>811</td>\n",
       "      <td>297</td>\n",
       "      <td>36.621455</td>\n",
       "    </tr>\n",
       "    <tr>\n",
       "      <th>PS4</th>\n",
       "      <td>392</td>\n",
       "      <td>125</td>\n",
       "      <td>31.887755</td>\n",
       "    </tr>\n",
       "    <tr>\n",
       "      <th>PS2</th>\n",
       "      <td>2127</td>\n",
       "      <td>669</td>\n",
       "      <td>31.452750</td>\n",
       "    </tr>\n",
       "    <tr>\n",
       "      <th>WiiU</th>\n",
       "      <td>147</td>\n",
       "      <td>42</td>\n",
       "      <td>28.571429</td>\n",
       "    </tr>\n",
       "    <tr>\n",
       "      <th>PS3</th>\n",
       "      <td>1306</td>\n",
       "      <td>356</td>\n",
       "      <td>27.258806</td>\n",
       "    </tr>\n",
       "    <tr>\n",
       "      <th>Wii</th>\n",
       "      <td>1286</td>\n",
       "      <td>304</td>\n",
       "      <td>23.639191</td>\n",
       "    </tr>\n",
       "    <tr>\n",
       "      <th>XOne</th>\n",
       "      <td>247</td>\n",
       "      <td>53</td>\n",
       "      <td>21.457490</td>\n",
       "    </tr>\n",
       "    <tr>\n",
       "      <th>X360</th>\n",
       "      <td>1232</td>\n",
       "      <td>195</td>\n",
       "      <td>15.827922</td>\n",
       "    </tr>\n",
       "    <tr>\n",
       "      <th>GC</th>\n",
       "      <td>542</td>\n",
       "      <td>85</td>\n",
       "      <td>15.682657</td>\n",
       "    </tr>\n",
       "    <tr>\n",
       "      <th>PC</th>\n",
       "      <td>957</td>\n",
       "      <td>142</td>\n",
       "      <td>14.838036</td>\n",
       "    </tr>\n",
       "    <tr>\n",
       "      <th>XB</th>\n",
       "      <td>803</td>\n",
       "      <td>85</td>\n",
       "      <td>10.585305</td>\n",
       "    </tr>\n",
       "  </tbody>\n",
       "</table>\n",
       "</div>"
      ],
      "text/plain": [
       "          всего игр на платформе  пропуски у критиков  процент пропусков\n",
       "platform                                                                \n",
       "2600                         116                  116         100.000000\n",
       "PCFX                           1                    1         100.000000\n",
       "WS                             6                    6         100.000000\n",
       "TG16                           2                    2         100.000000\n",
       "SNES                         239                  239         100.000000\n",
       "GB                            97                   97         100.000000\n",
       "SCD                            6                    6         100.000000\n",
       "SAT                          173                  173         100.000000\n",
       "GEN                           27                   27         100.000000\n",
       "GG                             1                    1         100.000000\n",
       "N64                          316                  316         100.000000\n",
       "NES                           98                   98         100.000000\n",
       "NG                            12                   12         100.000000\n",
       "3DO                            3                    3         100.000000\n",
       "PS                          1190                  980          82.352941\n",
       "DC                            52                   38          73.076923\n",
       "PSV                          429                  278          64.801865\n",
       "3DS                          512                  285          55.664062\n",
       "PSP                         1193                  655          54.903604\n",
       "DS                          2121                  848          39.981141\n",
       "GBA                          811                  297          36.621455\n",
       "PS4                          392                  125          31.887755\n",
       "PS2                         2127                  669          31.452750\n",
       "WiiU                         147                   42          28.571429\n",
       "PS3                         1306                  356          27.258806\n",
       "Wii                         1286                  304          23.639191\n",
       "XOne                         247                   53          21.457490\n",
       "X360                        1232                  195          15.827922\n",
       "GC                           542                   85          15.682657\n",
       "PC                           957                  142          14.838036\n",
       "XB                           803                   85          10.585305"
      ]
     },
     "execution_count": 15,
     "metadata": {},
     "output_type": "execute_result"
    }
   ],
   "source": [
    "#сделаю переменную где будут лежать только строки с пропусками в оценках\n",
    "crit_nan = df.query('critic_score.isnull() & rating.isnull() & user_score.isnull()')\n",
    "\n",
    "#сгруппирую по платформам игры с пропусками\n",
    "a = crit_nan.groupby('platform')['name'].count()\n",
    "#сгруппирую по платформам игры без пропусков\n",
    "b = df.groupby('platform')['name'].count()\n",
    "\n",
    "#Преобразую series в frame, чтобы объединить таблички \n",
    "crit_df = a.to_frame(name='пропуски у критиков')\n",
    "total_games = b.to_frame(name='всего игр на платформе')\n",
    "\n",
    "#объединю талички\n",
    "total_games = total_games.merge(crit_df, on='platform')\n",
    "#добавлю столбце с процентами пропусков\n",
    "total_games['процент пропусков'] = total_games['пропуски у критиков']/total_games['всего игр на платформе']*100\n",
    "total_games.sort_values(by='процент пропусков', ascending=False)"
   ]
  },
  {
   "cell_type": "markdown",
   "id": "e0a3e47a",
   "metadata": {},
   "source": [
    "Тут картина уже интереснее - некоторые платформы вообще не оцентиваются ни критиками ни пользователями. И если какие-то выпускали по 1-2 игры, то N64 и SNES выпустили больше двух сотен игр и ни одной оценки. А играли ли в них вообще? \\\n",
    "Удивили проценты оценок PS- казалось бы платформа на слуху и только 17% игр имеют оценки \\\n",
    "PSP оценено меньше половины\n",
    "\n",
    "Вывод: связь с датой выпуска и пропуском подтвердилась для ранних годов, однако в 2003 игра без оценок было 20%, а в 2015 - 44%, почему так не ясно. Есть ряд платформ оценки на которые не ставятся вовсе или ставятся сильно реже чем на остальных. т.к. оценок нет ни от пользователей ни от критиков - предполагаю что это были не популярные игры, которые никого не заинтересовали"
   ]
  },
  {
   "cell_type": "markdown",
   "id": "9f430902",
   "metadata": {},
   "source": [
    "#### 2.2.2 Поставлю заглушку для пропусков в столбцах critic_score, user_score как 555, т.к. в user_score есть 0, чтобы не путать оцененные на 0 игры и не оцененные вовсе \n",
    "Пропуски в rating заполняю как unknown\n",
    "В столбце user_score есть значение tdb - to be determied, то есть пользователь не оценил игру - приравняю это к пропуску  "
   ]
  },
  {
   "cell_type": "code",
   "execution_count": 16,
   "id": "f659bd87",
   "metadata": {},
   "outputs": [
    {
     "data": {
      "text/plain": [
       "name               0\n",
       "platform           0\n",
       "year_of_release    0\n",
       "genre              0\n",
       "na_sales           0\n",
       "eu_sales           0\n",
       "jp_sales           0\n",
       "other_sales        0\n",
       "critic_score       0\n",
       "user_score         0\n",
       "rating             0\n",
       "sum_sales          0\n",
       "dtype: int64"
      ]
     },
     "execution_count": 16,
     "metadata": {},
     "output_type": "execute_result"
    }
   ],
   "source": [
    "df['critic_score'] = df['critic_score'].fillna(555)\n",
    "df['user_score'] = df['user_score'].fillna(555)\n",
    "df['user_score'] = df['user_score'].replace('tbd', 555)\n",
    "df['rating'] = df['rating'].fillna('Unknown')\n",
    "df.isna().sum()"
   ]
  },
  {
   "cell_type": "code",
   "execution_count": 17,
   "id": "5dbdfbd8",
   "metadata": {},
   "outputs": [
    {
     "name": "stdout",
     "output_type": "stream",
     "text": [
      "<class 'pandas.core.frame.DataFrame'>\n",
      "Int64Index: 16444 entries, 0 to 16714\n",
      "Data columns (total 12 columns):\n",
      " #   Column           Non-Null Count  Dtype  \n",
      "---  ------           --------------  -----  \n",
      " 0   name             16444 non-null  object \n",
      " 1   platform         16444 non-null  object \n",
      " 2   year_of_release  16444 non-null  int32  \n",
      " 3   genre            16444 non-null  object \n",
      " 4   na_sales         16444 non-null  float64\n",
      " 5   eu_sales         16444 non-null  float64\n",
      " 6   jp_sales         16444 non-null  float64\n",
      " 7   other_sales      16444 non-null  float64\n",
      " 8   critic_score     16444 non-null  float64\n",
      " 9   user_score       16444 non-null  object \n",
      " 10  rating           16444 non-null  object \n",
      " 11  sum_sales        16444 non-null  float64\n",
      "dtypes: float64(6), int32(1), object(5)\n",
      "memory usage: 1.6+ MB\n"
     ]
    }
   ],
   "source": [
    "df.info()"
   ]
  },
  {
   "cell_type": "markdown",
   "id": "5554ba35",
   "metadata": {},
   "source": [
    "#### 2.3 Переведу столбец user_score к float тк там указаны значения с плавающей запятой"
   ]
  },
  {
   "cell_type": "code",
   "execution_count": 18,
   "id": "a72a6d34",
   "metadata": {
    "scrolled": true
   },
   "outputs": [
    {
     "name": "stdout",
     "output_type": "stream",
     "text": [
      "<class 'pandas.core.frame.DataFrame'>\n",
      "Int64Index: 16444 entries, 0 to 16714\n",
      "Data columns (total 12 columns):\n",
      " #   Column           Non-Null Count  Dtype  \n",
      "---  ------           --------------  -----  \n",
      " 0   name             16444 non-null  object \n",
      " 1   platform         16444 non-null  object \n",
      " 2   year_of_release  16444 non-null  int32  \n",
      " 3   genre            16444 non-null  object \n",
      " 4   na_sales         16444 non-null  float64\n",
      " 5   eu_sales         16444 non-null  float64\n",
      " 6   jp_sales         16444 non-null  float64\n",
      " 7   other_sales      16444 non-null  float64\n",
      " 8   critic_score     16444 non-null  float64\n",
      " 9   user_score       16444 non-null  float64\n",
      " 10  rating           16444 non-null  object \n",
      " 11  sum_sales        16444 non-null  float64\n",
      "dtypes: float64(7), int32(1), object(4)\n",
      "memory usage: 1.6+ MB\n"
     ]
    }
   ],
   "source": [
    "df['user_score'] = df['user_score'].astype('float')\n",
    "df.info()"
   ]
  },
  {
   "cell_type": "markdown",
   "id": "e47c698f",
   "metadata": {},
   "source": [
    "#### 2.4 Проверяю на дубликаты"
   ]
  },
  {
   "cell_type": "code",
   "execution_count": 19,
   "id": "a8fe88fd",
   "metadata": {},
   "outputs": [
    {
     "data": {
      "text/plain": [
       "0"
      ]
     },
     "execution_count": 19,
     "metadata": {},
     "output_type": "execute_result"
    }
   ],
   "source": [
    "#проверю на явные дубликаты\n",
    "df.duplicated().sum()"
   ]
  },
  {
   "cell_type": "code",
   "execution_count": 49,
   "id": "0169029a",
   "metadata": {
    "scrolled": true
   },
   "outputs": [
    {
     "data": {
      "text/html": [
       "<div>\n",
       "<style scoped>\n",
       "    .dataframe tbody tr th:only-of-type {\n",
       "        vertical-align: middle;\n",
       "    }\n",
       "\n",
       "    .dataframe tbody tr th {\n",
       "        vertical-align: top;\n",
       "    }\n",
       "\n",
       "    .dataframe thead th {\n",
       "        text-align: right;\n",
       "    }\n",
       "</style>\n",
       "<table border=\"1\" class=\"dataframe\">\n",
       "  <thead>\n",
       "    <tr style=\"text-align: right;\">\n",
       "      <th></th>\n",
       "      <th>name</th>\n",
       "      <th>platform</th>\n",
       "      <th>year_of_release</th>\n",
       "      <th>genre</th>\n",
       "      <th>na_sales</th>\n",
       "      <th>eu_sales</th>\n",
       "      <th>jp_sales</th>\n",
       "      <th>other_sales</th>\n",
       "      <th>critic_score</th>\n",
       "      <th>user_score</th>\n",
       "      <th>rating</th>\n",
       "      <th>sum_sales</th>\n",
       "    </tr>\n",
       "  </thead>\n",
       "  <tbody>\n",
       "    <tr>\n",
       "      <th>604</th>\n",
       "      <td>Madden NFL 13</td>\n",
       "      <td>PS3</td>\n",
       "      <td>2012</td>\n",
       "      <td>Sports</td>\n",
       "      <td>2.11</td>\n",
       "      <td>0.22</td>\n",
       "      <td>0.00</td>\n",
       "      <td>0.23</td>\n",
       "      <td>83.0</td>\n",
       "      <td>5.5</td>\n",
       "      <td>E</td>\n",
       "      <td>2.56</td>\n",
       "    </tr>\n",
       "    <tr>\n",
       "      <th>1190</th>\n",
       "      <td>Need for Speed: Most Wanted</td>\n",
       "      <td>X360</td>\n",
       "      <td>2012</td>\n",
       "      <td>Racing</td>\n",
       "      <td>0.62</td>\n",
       "      <td>0.78</td>\n",
       "      <td>0.01</td>\n",
       "      <td>0.15</td>\n",
       "      <td>83.0</td>\n",
       "      <td>8.5</td>\n",
       "      <td>T</td>\n",
       "      <td>1.56</td>\n",
       "    </tr>\n",
       "    <tr>\n",
       "      <th>1591</th>\n",
       "      <td>Need for Speed: Most Wanted</td>\n",
       "      <td>X360</td>\n",
       "      <td>2005</td>\n",
       "      <td>Racing</td>\n",
       "      <td>1.00</td>\n",
       "      <td>0.13</td>\n",
       "      <td>0.02</td>\n",
       "      <td>0.10</td>\n",
       "      <td>83.0</td>\n",
       "      <td>8.5</td>\n",
       "      <td>T</td>\n",
       "      <td>1.25</td>\n",
       "    </tr>\n",
       "    <tr>\n",
       "      <th>5972</th>\n",
       "      <td>Need for Speed: Most Wanted</td>\n",
       "      <td>PC</td>\n",
       "      <td>2005</td>\n",
       "      <td>Racing</td>\n",
       "      <td>0.02</td>\n",
       "      <td>0.23</td>\n",
       "      <td>0.00</td>\n",
       "      <td>0.04</td>\n",
       "      <td>82.0</td>\n",
       "      <td>8.5</td>\n",
       "      <td>T</td>\n",
       "      <td>0.29</td>\n",
       "    </tr>\n",
       "    <tr>\n",
       "      <th>11715</th>\n",
       "      <td>Need for Speed: Most Wanted</td>\n",
       "      <td>PC</td>\n",
       "      <td>2012</td>\n",
       "      <td>Racing</td>\n",
       "      <td>0.00</td>\n",
       "      <td>0.06</td>\n",
       "      <td>0.00</td>\n",
       "      <td>0.02</td>\n",
       "      <td>82.0</td>\n",
       "      <td>8.5</td>\n",
       "      <td>T</td>\n",
       "      <td>0.08</td>\n",
       "    </tr>\n",
       "    <tr>\n",
       "      <th>16230</th>\n",
       "      <td>Madden NFL 13</td>\n",
       "      <td>PS3</td>\n",
       "      <td>2012</td>\n",
       "      <td>Sports</td>\n",
       "      <td>0.00</td>\n",
       "      <td>0.01</td>\n",
       "      <td>0.00</td>\n",
       "      <td>0.00</td>\n",
       "      <td>83.0</td>\n",
       "      <td>5.5</td>\n",
       "      <td>E</td>\n",
       "      <td>0.01</td>\n",
       "    </tr>\n",
       "  </tbody>\n",
       "</table>\n",
       "</div>"
      ],
      "text/plain": [
       "                              name platform  year_of_release   genre  \\\n",
       "604                  Madden NFL 13      PS3             2012  Sports   \n",
       "1190   Need for Speed: Most Wanted     X360             2012  Racing   \n",
       "1591   Need for Speed: Most Wanted     X360             2005  Racing   \n",
       "5972   Need for Speed: Most Wanted       PC             2005  Racing   \n",
       "11715  Need for Speed: Most Wanted       PC             2012  Racing   \n",
       "16230                Madden NFL 13      PS3             2012  Sports   \n",
       "\n",
       "       na_sales  eu_sales  jp_sales  other_sales  critic_score  user_score  \\\n",
       "604        2.11      0.22      0.00         0.23          83.0         5.5   \n",
       "1190       0.62      0.78      0.01         0.15          83.0         8.5   \n",
       "1591       1.00      0.13      0.02         0.10          83.0         8.5   \n",
       "5972       0.02      0.23      0.00         0.04          82.0         8.5   \n",
       "11715      0.00      0.06      0.00         0.02          82.0         8.5   \n",
       "16230      0.00      0.01      0.00         0.00          83.0         5.5   \n",
       "\n",
       "      rating  sum_sales  \n",
       "604        E       2.56  \n",
       "1190       T       1.56  \n",
       "1591       T       1.25  \n",
       "5972       T       0.29  \n",
       "11715      T       0.08  \n",
       "16230      E       0.01  "
      ]
     },
     "execution_count": 49,
     "metadata": {},
     "output_type": "execute_result"
    }
   ],
   "source": [
    "#на неявные дубликаты\n",
    "df[df.duplicated(subset=['name', 'platform'], keep=False)]"
   ]
  },
  {
   "cell_type": "markdown",
   "id": "b80c51d9",
   "metadata": {},
   "source": [
    "Явных дубликатов нет, в неявных разные год релиза."
   ]
  },
  {
   "cell_type": "markdown",
   "id": "4c1d940e",
   "metadata": {},
   "source": [
    "Вывод: Удалены пропуски в столбце имя и дата выпуска, тк количество пропусков 1,5% не наносит вреда \\ Добавлены заглушки для пропусков в оценках игр тк заполнить их не предстваляется возможным, с помощью заглушек можно будет фильтровать данные при дальнейшем анализе. \\Для удобства вычислений добавлен столбец с общей суммой по всем регионам"
   ]
  },
  {
   "cell_type": "markdown",
   "id": "f0155e7a",
   "metadata": {},
   "source": [
    "## 3 Исследовательтский анализ"
   ]
  },
  {
   "cell_type": "markdown",
   "id": "a9af3404",
   "metadata": {},
   "source": [
    "#### 3.1 Сколько игр выпускалось в разные годы"
   ]
  },
  {
   "cell_type": "code",
   "execution_count": 52,
   "id": "b18cb33c",
   "metadata": {},
   "outputs": [
    {
     "data": {
      "image/png": "[encoded data removed]",
      "text/plain": [
       "<Figure size 1000x400 with 1 Axes>"
      ]
     },
     "metadata": {},
     "output_type": "display_data"
    }
   ],
   "source": [
    "df['year_of_release'].hist(bins=37, figsize=(10,4))\n",
    "plt.title(\"Частота выпуска игр по годам\")\n",
    "plt.show()"
   ]
  },
  {
   "cell_type": "markdown",
   "id": "75c39578",
   "metadata": {},
   "source": [
    "Удалю игры, которые выпускались для разных платформ и сохраню это в отдельной переменной"
   ]
  },
  {
   "cell_type": "code",
   "execution_count": 53,
   "id": "b839c1c6",
   "metadata": {},
   "outputs": [
    {
     "data": {
      "text/plain": [
       "11426"
      ]
     },
     "execution_count": 53,
     "metadata": {},
     "output_type": "execute_result"
    }
   ],
   "source": [
    "no_dup_game = df.drop_duplicates(subset='name')\n",
    "no_dup_game.shape[0]"
   ]
  },
  {
   "cell_type": "code",
   "execution_count": 54,
   "id": "047a7ae6",
   "metadata": {},
   "outputs": [
    {
     "data": {
      "image/png": "[encoded data removed]",
      "text/plain": [
       "<Figure size 1000x400 with 1 Axes>"
      ]
     },
     "metadata": {},
     "output_type": "display_data"
    }
   ],
   "source": [
    "no_dup_game['year_of_release'].hist(bins=37, figsize=(10,4))\n",
    "plt.title('Частота выпуска уникальных игр по годам ')\n",
    "plt.show()"
   ]
  },
  {
   "cell_type": "markdown",
   "id": "7e9fbc7b",
   "metadata": {},
   "source": [
    "Количество игр за последние 5 лет примерно одинаково - возьму эти данные для анализа. Период с 2012-2016 \\\n",
    "Вместе с тем я бы задала вопрос поставщику данных т.к. знаю, что количество выпускаемых игр растет с геометрической прогрессией и спад с 2010 выглядит очень подозрительно, но работаем с тем что есть("
   ]
  },
  {
   "cell_type": "markdown",
   "id": "d99f4aff",
   "metadata": {},
   "source": [
    "#### 3.2 Выбираю платформы с наибольшими суммарными продажами и стрю распределение по годам"
   ]
  },
  {
   "cell_type": "code",
   "execution_count": 55,
   "id": "0a9232b1",
   "metadata": {
    "scrolled": false
   },
   "outputs": [
    {
     "data": {
      "text/html": [
       "<div>\n",
       "<style scoped>\n",
       "    .dataframe tbody tr th:only-of-type {\n",
       "        vertical-align: middle;\n",
       "    }\n",
       "\n",
       "    .dataframe tbody tr th {\n",
       "        vertical-align: top;\n",
       "    }\n",
       "\n",
       "    .dataframe thead th {\n",
       "        text-align: right;\n",
       "    }\n",
       "</style>\n",
       "<table border=\"1\" class=\"dataframe\">\n",
       "  <thead>\n",
       "    <tr style=\"text-align: right;\">\n",
       "      <th></th>\n",
       "      <th>сумма продаж</th>\n",
       "      <th>количество продаж</th>\n",
       "    </tr>\n",
       "    <tr>\n",
       "      <th>platform</th>\n",
       "      <th></th>\n",
       "      <th></th>\n",
       "    </tr>\n",
       "  </thead>\n",
       "  <tbody>\n",
       "    <tr>\n",
       "      <th>PS2</th>\n",
       "      <td>1233.56</td>\n",
       "      <td>2127</td>\n",
       "    </tr>\n",
       "    <tr>\n",
       "      <th>X360</th>\n",
       "      <td>961.24</td>\n",
       "      <td>1232</td>\n",
       "    </tr>\n",
       "    <tr>\n",
       "      <th>PS3</th>\n",
       "      <td>931.34</td>\n",
       "      <td>1306</td>\n",
       "    </tr>\n",
       "    <tr>\n",
       "      <th>Wii</th>\n",
       "      <td>891.18</td>\n",
       "      <td>1286</td>\n",
       "    </tr>\n",
       "    <tr>\n",
       "      <th>DS</th>\n",
       "      <td>802.78</td>\n",
       "      <td>2121</td>\n",
       "    </tr>\n",
       "    <tr>\n",
       "      <th>PS</th>\n",
       "      <td>727.58</td>\n",
       "      <td>1190</td>\n",
       "    </tr>\n",
       "    <tr>\n",
       "      <th>PS4</th>\n",
       "      <td>314.14</td>\n",
       "      <td>392</td>\n",
       "    </tr>\n",
       "    <tr>\n",
       "      <th>GBA</th>\n",
       "      <td>312.88</td>\n",
       "      <td>811</td>\n",
       "    </tr>\n",
       "    <tr>\n",
       "      <th>PSP</th>\n",
       "      <td>289.53</td>\n",
       "      <td>1193</td>\n",
       "    </tr>\n",
       "    <tr>\n",
       "      <th>3DS</th>\n",
       "      <td>257.81</td>\n",
       "      <td>512</td>\n",
       "    </tr>\n",
       "  </tbody>\n",
       "</table>\n",
       "</div>"
      ],
      "text/plain": [
       "          сумма продаж  количество продаж\n",
       "platform                                 \n",
       "PS2            1233.56               2127\n",
       "X360            961.24               1232\n",
       "PS3             931.34               1306\n",
       "Wii             891.18               1286\n",
       "DS              802.78               2121\n",
       "PS              727.58               1190\n",
       "PS4             314.14                392\n",
       "GBA             312.88                811\n",
       "PSP             289.53               1193\n",
       "3DS             257.81                512"
      ]
     },
     "execution_count": 55,
     "metadata": {},
     "output_type": "execute_result"
    }
   ],
   "source": [
    "df_sum_platforms = df.pivot_table(index='platform', values='sum_sales', aggfunc=['sum', 'count'])\n",
    "df_sum_platforms.columns=('сумма продаж', 'количество продаж')\n",
    "df_sum_platforms.sort_values(by='сумма продаж', ascending=False).head(10)"
   ]
  },
  {
   "cell_type": "markdown",
   "id": "19e7f59e",
   "metadata": {},
   "source": [
    "Выбираю 10 первых по популярности платформ - разница между PS - 6й по популярности и PS4 более чем в 2 раза"
   ]
  },
  {
   "cell_type": "code",
   "execution_count": 57,
   "id": "faa2f96d",
   "metadata": {
    "scrolled": false
   },
   "outputs": [
    {
     "data": {
      "image/png": "[encoded data removed]",
      "text/plain": [
       "<Figure size 640x480 with 2 Axes>"
      ]
     },
     "metadata": {},
     "output_type": "display_data"
    }
   ],
   "source": [
    "top_10 = df_sum_platforms.sort_values(by='сумма продаж', ascending=False).head(10)\n",
    "# сохраняю в список топ 10\n",
    "top_10_games = list(top_10.index)\n",
    "# делаю срез\n",
    "life_span = df.query('platform == @top_10_games')\n",
    "life_span = life_span.pivot_table(index='platform', columns='year_of_release', values='sum_sales', aggfunc='sum')\n",
    "sns.heatmap(life_span, cmap= 'coolwarm')\n",
    "plt.title('Частота выхода игр на платформах')\n",
    "\n",
    "plt.show()"
   ]
  },
  {
   "cell_type": "markdown",
   "id": "f8e0bb68",
   "metadata": {},
   "source": [
    "Вывод: популярность держится примерно 5-6 лет, это видно по пикам на графиках. Также это подтверждается тем, например, как часто Sony PS выпускает новые консоли 5-7 лет. В такой динамично меняющейся индустрии, как компьютерные игры также не стоит брать слишком большой временной интервал"
   ]
  },
  {
   "cell_type": "markdown",
   "id": "3f60bde8",
   "metadata": {},
   "source": [
    "#### 3.3 Создам новую переменную куда помещу актуальные данные - то есть за период с 2012-2016"
   ]
  },
  {
   "cell_type": "code",
   "execution_count": 58,
   "id": "95f6d859",
   "metadata": {},
   "outputs": [
    {
     "data": {
      "text/html": [
       "<div>\n",
       "<style scoped>\n",
       "    .dataframe tbody tr th:only-of-type {\n",
       "        vertical-align: middle;\n",
       "    }\n",
       "\n",
       "    .dataframe tbody tr th {\n",
       "        vertical-align: top;\n",
       "    }\n",
       "\n",
       "    .dataframe thead th {\n",
       "        text-align: right;\n",
       "    }\n",
       "</style>\n",
       "<table border=\"1\" class=\"dataframe\">\n",
       "  <thead>\n",
       "    <tr style=\"text-align: right;\">\n",
       "      <th></th>\n",
       "      <th>name</th>\n",
       "      <th>platform</th>\n",
       "      <th>year_of_release</th>\n",
       "      <th>genre</th>\n",
       "      <th>na_sales</th>\n",
       "      <th>eu_sales</th>\n",
       "      <th>jp_sales</th>\n",
       "      <th>other_sales</th>\n",
       "      <th>critic_score</th>\n",
       "      <th>user_score</th>\n",
       "      <th>rating</th>\n",
       "      <th>sum_sales</th>\n",
       "    </tr>\n",
       "  </thead>\n",
       "  <tbody>\n",
       "    <tr>\n",
       "      <th>16</th>\n",
       "      <td>Grand Theft Auto V</td>\n",
       "      <td>PS3</td>\n",
       "      <td>2013</td>\n",
       "      <td>Action</td>\n",
       "      <td>7.02</td>\n",
       "      <td>9.09</td>\n",
       "      <td>0.98</td>\n",
       "      <td>3.96</td>\n",
       "      <td>97.0</td>\n",
       "      <td>8.2</td>\n",
       "      <td>M</td>\n",
       "      <td>21.05</td>\n",
       "    </tr>\n",
       "    <tr>\n",
       "      <th>23</th>\n",
       "      <td>Grand Theft Auto V</td>\n",
       "      <td>X360</td>\n",
       "      <td>2013</td>\n",
       "      <td>Action</td>\n",
       "      <td>9.66</td>\n",
       "      <td>5.14</td>\n",
       "      <td>0.06</td>\n",
       "      <td>1.41</td>\n",
       "      <td>97.0</td>\n",
       "      <td>8.1</td>\n",
       "      <td>M</td>\n",
       "      <td>16.27</td>\n",
       "    </tr>\n",
       "    <tr>\n",
       "      <th>31</th>\n",
       "      <td>Call of Duty: Black Ops 3</td>\n",
       "      <td>PS4</td>\n",
       "      <td>2015</td>\n",
       "      <td>Shooter</td>\n",
       "      <td>6.03</td>\n",
       "      <td>5.86</td>\n",
       "      <td>0.36</td>\n",
       "      <td>2.38</td>\n",
       "      <td>555.0</td>\n",
       "      <td>555.0</td>\n",
       "      <td>Unknown</td>\n",
       "      <td>14.63</td>\n",
       "    </tr>\n",
       "    <tr>\n",
       "      <th>33</th>\n",
       "      <td>Pokemon X/Pokemon Y</td>\n",
       "      <td>3DS</td>\n",
       "      <td>2013</td>\n",
       "      <td>Role-Playing</td>\n",
       "      <td>5.28</td>\n",
       "      <td>4.19</td>\n",
       "      <td>4.35</td>\n",
       "      <td>0.78</td>\n",
       "      <td>555.0</td>\n",
       "      <td>555.0</td>\n",
       "      <td>Unknown</td>\n",
       "      <td>14.60</td>\n",
       "    </tr>\n",
       "    <tr>\n",
       "      <th>34</th>\n",
       "      <td>Call of Duty: Black Ops II</td>\n",
       "      <td>PS3</td>\n",
       "      <td>2012</td>\n",
       "      <td>Shooter</td>\n",
       "      <td>4.99</td>\n",
       "      <td>5.73</td>\n",
       "      <td>0.65</td>\n",
       "      <td>2.42</td>\n",
       "      <td>83.0</td>\n",
       "      <td>5.3</td>\n",
       "      <td>M</td>\n",
       "      <td>13.79</td>\n",
       "    </tr>\n",
       "  </tbody>\n",
       "</table>\n",
       "</div>"
      ],
      "text/plain": [
       "                          name platform  year_of_release         genre  \\\n",
       "16          Grand Theft Auto V      PS3             2013        Action   \n",
       "23          Grand Theft Auto V     X360             2013        Action   \n",
       "31   Call of Duty: Black Ops 3      PS4             2015       Shooter   \n",
       "33         Pokemon X/Pokemon Y      3DS             2013  Role-Playing   \n",
       "34  Call of Duty: Black Ops II      PS3             2012       Shooter   \n",
       "\n",
       "    na_sales  eu_sales  jp_sales  other_sales  critic_score  user_score  \\\n",
       "16      7.02      9.09      0.98         3.96          97.0         8.2   \n",
       "23      9.66      5.14      0.06         1.41          97.0         8.1   \n",
       "31      6.03      5.86      0.36         2.38         555.0       555.0   \n",
       "33      5.28      4.19      4.35         0.78         555.0       555.0   \n",
       "34      4.99      5.73      0.65         2.42          83.0         5.3   \n",
       "\n",
       "     rating  sum_sales  \n",
       "16        M      21.05  \n",
       "23        M      16.27  \n",
       "31  Unknown      14.63  \n",
       "33  Unknown      14.60  \n",
       "34        M      13.79  "
      ]
     },
     "execution_count": 58,
     "metadata": {},
     "output_type": "execute_result"
    }
   ],
   "source": [
    "df_relevant = df[df['year_of_release'] >= 2012]\n",
    "\n",
    "df_relevant.head()"
   ]
  },
  {
   "cell_type": "markdown",
   "id": "640ae81c",
   "metadata": {},
   "source": [
    "#### 3.4 Смотрю какие платформы популярны в этот период"
   ]
  },
  {
   "cell_type": "code",
   "execution_count": 60,
   "id": "5ae7ea53",
   "metadata": {},
   "outputs": [
    {
     "data": {
      "image/png": "[encoded data removed]",
      "text/plain": [
       "<Figure size 1000x500 with 1 Axes>"
      ]
     },
     "metadata": {},
     "output_type": "display_data"
    }
   ],
   "source": [
    "(\n",
    "    df_relevant\n",
    "    .pivot_table(index='platform', columns='year_of_release', values='sum_sales', aggfunc='sum')\n",
    "    .plot(kind='bar', figsize=(10,5))\n",
    ")\n",
    "plt.title('Выход игр на платформах за 2012-2016 годы')\n",
    "plt.show()"
   ]
  },
  {
   "cell_type": "markdown",
   "id": "24bf3ed9",
   "metadata": {},
   "source": [
    "с 2012 по 2016 в тройке лидеров PS3, PS4 и X360, хотя последний как раз свою популярность начал терять к 2016. \\\n",
    "топ 5 PS3, PS4, X360, ХOne и 3DS , более популярной к 2016 была PS4 \\\n",
    "Возьму 3 платформы с наибольшей суммой прибыли в 2016 -PS4, ХOne и 3DS и построю для них отдельные графики по сумме продаж и количеству "
   ]
  },
  {
   "cell_type": "code",
   "execution_count": 61,
   "id": "7d732176",
   "metadata": {},
   "outputs": [
    {
     "data": {
      "image/png": "[encoded data removed]",
      "text/plain": [
       "<Figure size 640x480 with 1 Axes>"
      ]
     },
     "metadata": {},
     "output_type": "display_data"
    }
   ],
   "source": [
    "(\n",
    "    df_relevant.query('platform == \"PS4\" | platform == \"XOne\" | platform == \"3DS\"')\n",
    "    .pivot_table(index=['platform','year_of_release'], values='sum_sales',aggfunc=['sum', 'count'])\n",
    "    .plot(kind='bar')\n",
    ")\n",
    "plt.title('Сумма и количество продаж для топ 3 платформ за 12-16 годы')\n",
    "plt.show()"
   ]
  },
  {
   "cell_type": "markdown",
   "id": "2592eab6",
   "metadata": {},
   "source": [
    "PS4 и XOne выглядят как потенциально прибыльные, прказывают показывают максимальное количество в 2015, количество продажи к 2016 году увелисчивается, построю для них диаграмму размаха"
   ]
  },
  {
   "cell_type": "markdown",
   "id": "625f7efb",
   "metadata": {},
   "source": [
    "#### 3.5 График «ящик с усами» по глобальным продажам игр в разбивке по платформами\n"
   ]
  },
  {
   "cell_type": "code",
   "execution_count": 62,
   "id": "6e5c77a3",
   "metadata": {},
   "outputs": [
    {
     "data": {
      "text/html": [
       "<div>\n",
       "<style scoped>\n",
       "    .dataframe tbody tr th:only-of-type {\n",
       "        vertical-align: middle;\n",
       "    }\n",
       "\n",
       "    .dataframe tbody tr th {\n",
       "        vertical-align: top;\n",
       "    }\n",
       "\n",
       "    .dataframe thead th {\n",
       "        text-align: right;\n",
       "    }\n",
       "</style>\n",
       "<table border=\"1\" class=\"dataframe\">\n",
       "  <thead>\n",
       "    <tr style=\"text-align: right;\">\n",
       "      <th></th>\n",
       "      <th>sum_sales</th>\n",
       "    </tr>\n",
       "    <tr>\n",
       "      <th>platform</th>\n",
       "      <th></th>\n",
       "    </tr>\n",
       "  </thead>\n",
       "  <tbody>\n",
       "    <tr>\n",
       "      <th>PS4</th>\n",
       "      <td>314.14</td>\n",
       "    </tr>\n",
       "    <tr>\n",
       "      <th>PS3</th>\n",
       "      <td>288.79</td>\n",
       "    </tr>\n",
       "    <tr>\n",
       "      <th>X360</th>\n",
       "      <td>236.54</td>\n",
       "    </tr>\n",
       "    <tr>\n",
       "      <th>3DS</th>\n",
       "      <td>194.61</td>\n",
       "    </tr>\n",
       "    <tr>\n",
       "      <th>XOne</th>\n",
       "      <td>159.32</td>\n",
       "    </tr>\n",
       "    <tr>\n",
       "      <th>WiiU</th>\n",
       "      <td>82.19</td>\n",
       "    </tr>\n",
       "    <tr>\n",
       "      <th>PC</th>\n",
       "      <td>62.65</td>\n",
       "    </tr>\n",
       "    <tr>\n",
       "      <th>PSV</th>\n",
       "      <td>49.18</td>\n",
       "    </tr>\n",
       "    <tr>\n",
       "      <th>Wii</th>\n",
       "      <td>35.37</td>\n",
       "    </tr>\n",
       "    <tr>\n",
       "      <th>DS</th>\n",
       "      <td>12.55</td>\n",
       "    </tr>\n",
       "  </tbody>\n",
       "</table>\n",
       "</div>"
      ],
      "text/plain": [
       "          sum_sales\n",
       "platform           \n",
       "PS4          314.14\n",
       "PS3          288.79\n",
       "X360         236.54\n",
       "3DS          194.61\n",
       "XOne         159.32\n",
       "WiiU          82.19\n",
       "PC            62.65\n",
       "PSV           49.18\n",
       "Wii           35.37\n",
       "DS            12.55"
      ]
     },
     "execution_count": 62,
     "metadata": {},
     "output_type": "execute_result"
    }
   ],
   "source": [
    "#выделю топ 10\n",
    "(\n",
    "    df_relevant.pivot_table(index='platform', values='sum_sales', aggfunc='sum')\n",
    "    .sort_values(by='sum_sales', ascending=False).head(10)\n",
    ")"
   ]
  },
  {
   "cell_type": "code",
   "execution_count": 63,
   "id": "2dec1ce9",
   "metadata": {
    "scrolled": false
   },
   "outputs": [
    {
     "data": {
      "image/png": "[encoded data removed]",
      "text/plain": [
       "<Figure size 1000x1000 with 1 Axes>"
      ]
     },
     "metadata": {},
     "output_type": "display_data"
    }
   ],
   "source": [
    "\n",
    "top_10_relevent = (\n",
    "    df_relevant.pivot_table(index='platform', values='sum_sales', aggfunc='sum')\n",
    "    .sort_values(by='sum_sales', ascending=False)\n",
    ")\n",
    "    # смотою топ 10, исключаю PSP\n",
    "plt.figure(figsize=(10, 10))\n",
    "\n",
    "sns.boxplot(data=df_relevant.query('platform != \"PSP\"'), x='platform', y='sum_sales')\n",
    "plt.title('Диаграмма размаха - продажа игр по платформам')\n",
    "\n",
    "\n",
    "plt.show()\n"
   ]
  },
  {
   "cell_type": "code",
   "execution_count": 64,
   "id": "926e916e",
   "metadata": {},
   "outputs": [
    {
     "data": {
      "image/png": "[encoded data removed]",
      "text/plain": [
       "<Figure size 1000x1000 with 1 Axes>"
      ]
     },
     "metadata": {},
     "output_type": "display_data"
    }
   ],
   "source": [
    "#видно плохо, немного уведичим масштаб\n",
    "plt.figure(figsize=(10, 10))\n",
    "\n",
    "sns.boxplot(data=df_relevant.query('platform != \"PSP\"'), x='platform', y='sum_sales')\n",
    "plt.title('Диаграмма размаха - продажа игр по платформам')\n",
    "\n",
    "plt.ylim([0,0.9])\n",
    "plt.show()"
   ]
  },
  {
   "cell_type": "markdown",
   "id": "34ad2ed6",
   "metadata": {},
   "source": [
    "В топ входят X360, PS4, XOne, Wii \\\n",
    "Х360 самое большое медианное значение и 75 квантиль, и большая часть значений уместилась в \"ящик\", не в выбросы \\\n",
    "PS4, PS 3, XOne, Wii на втром месте, PS4 медиана меньше чем у Х360, но больше значений в выбросах, продажи менее плавно распределены и много больших продаж за пределами \"ящика\" - много эксключзивных игр\\\n",
    "\n",
    "Отстающие: \\\n",
    "PSV продажи распределены не плавно, медиана около 0,2 \\\n",
    "DS медиана около нижней границы ящика и около 0,1 - основная часть проаж меньше 0,3 \\\n"
   ]
  },
  {
   "cell_type": "code",
   "execution_count": 38,
   "id": "5b8512fc",
   "metadata": {
    "scrolled": false
   },
   "outputs": [
    {
     "name": "stdout",
     "output_type": "stream",
     "text": [
      "count    392.000000\n",
      "mean       0.801378\n",
      "std        1.609456\n",
      "min        0.010000\n",
      "25%        0.060000\n",
      "50%        0.200000\n",
      "75%        0.730000\n",
      "max       14.630000\n",
      "Name: sum_sales, dtype: float64\n",
      "count    247.000000\n",
      "mean       0.645020\n",
      "std        1.036139\n",
      "min        0.010000\n",
      "25%        0.060000\n",
      "50%        0.220000\n",
      "75%        0.685000\n",
      "max        7.390000\n",
      "Name: sum_sales, dtype: float64\n",
      "XOne -  продаж млн копий с 2012 - 2016: 159.32\n",
      "PS4  -  продаж млн копий с 2012 - 2016: 314.14\n"
     ]
    }
   ],
   "source": [
    "print(df_relevant[df_relevant['platform'] == 'PS4']['sum_sales'].describe())\n",
    "print(df_relevant[df_relevant['platform'] == 'XOne']['sum_sales'].describe())\n",
    "print('XOne -  продаж млн копий с 2012 - 2016:',df_relevant[df_relevant['platform'] == 'XOne']['sum_sales'].sum())\n",
    "print('PS4  -  продаж млн копий с 2012 - 2016:',df_relevant[df_relevant['platform'] == 'PS4']['sum_sales'].sum())"
   ]
  },
  {
   "cell_type": "markdown",
   "id": "b96b6fd3",
   "metadata": {},
   "source": [
    "Сравним 2 платформы: \n",
    "- PS4 - медианное количество проданных копий 200 тыс, на 20 тыс меньше чем у XOne \n",
    "- PS4 - среднее количество проданных копий 801 тыс, у XOne 645 \n",
    "- PS4 - граница 75% всех продаж - 730 тыс, XOne - 685 \n",
    "\n",
    "Игры на обе платформы начали продавать с 2013 года и общие продажи PS4 в 2 раза превышают продажи XOne \\\n",
    "PS4 выглядит более успешной"
   ]
  },
  {
   "cell_type": "markdown",
   "id": "49bd38d1",
   "metadata": {},
   "source": [
    "#### 3.6 Посмотрите, как влияют на продажи внутри одной популярной платформы отзывы пользователей и критиков. Постройте диаграмму рассеяния и посчитайте корреляцию между отзывами и продажами. Сформулируйте выводы."
   ]
  },
  {
   "cell_type": "code",
   "execution_count": 66,
   "id": "f58c7fd5",
   "metadata": {},
   "outputs": [
    {
     "data": {
      "image/png": "[encoded data removed]",
      "text/plain": [
       "<Figure size 600x600 with 1 Axes>"
      ]
     },
     "metadata": {},
     "output_type": "display_data"
    },
    {
     "name": "stdout",
     "output_type": "stream",
     "text": [
      "Корреляция: -0.031957110204556376\n"
     ]
    }
   ],
   "source": [
    "# не считаю заглушку 555\n",
    "ps4_u_score = df_relevant[(df_relevant[\"user_score\"] < 555) & (df_relevant[\"platform\"] == \"PS4\")]\n",
    "ps4_u_score.plot(x='user_score', y='sum_sales', kind='scatter', color=\"Blue\",figsize=(6,6), alpha=0.8)\n",
    "plt.title('Продажи - отзывы пользователей PS4')\n",
    "plt.show()\n",
    "print('Корреляция:',ps4_u_score['user_score'].corr(ps4_u_score['sum_sales']))"
   ]
  },
  {
   "cell_type": "code",
   "execution_count": 67,
   "id": "fc00fea7",
   "metadata": {},
   "outputs": [
    {
     "data": {
      "image/png": "[encoded data removed]",
      "text/plain": [
       "<Figure size 600x600 with 1 Axes>"
      ]
     },
     "metadata": {},
     "output_type": "display_data"
    },
    {
     "name": "stdout",
     "output_type": "stream",
     "text": [
      "Корреляция: 0.40656790206178095\n"
     ]
    }
   ],
   "source": [
    "(\n",
    "    df_relevant[(df_relevant[\"critic_score\"] < 555) & (df_relevant[\"platform\"] == \"PS4\")]\n",
    "    .plot(x='critic_score', y='sum_sales', kind='scatter', color=\"Blue\",figsize=(6,6), alpha=0.8)\n",
    ")\n",
    "plt.title('Продажи - отзывы критиков PS4')\n",
    "plt.show()\n",
    "ps4_c_score = df_relevant[(df_relevant[\"critic_score\"] < 555) & (df_relevant[\"platform\"] == \"PS4\")]\n",
    "print('Корреляция:', ps4_c_score[\"critic_score\"].corr(ps4_c_score[\"sum_sales\"]))"
   ]
  },
  {
   "cell_type": "markdown",
   "id": "86449568",
   "metadata": {},
   "source": [
    "Корреляции между отзывами пользователей и продажами нет. Пользовательские отзывы не имеют связи с продажей игр \\\n",
    "Корреляция между отзывами критиков и продажами - прямая, слабая. "
   ]
  },
  {
   "cell_type": "markdown",
   "id": "7b31e425",
   "metadata": {},
   "source": [
    "#### 3.7 Соотнесите выводы с продажами игр на других платформах. \\\n",
    "В топ 5 лидерах были PS3, PS4, X360, ХOne и 3DS "
   ]
  },
  {
   "cell_type": "code",
   "execution_count": 68,
   "id": "a6e23935",
   "metadata": {
    "scrolled": false
   },
   "outputs": [
    {
     "name": "stdout",
     "output_type": "stream",
     "text": [
      "Графики для PS3\n"
     ]
    },
    {
     "data": {
      "image/png": "[encoded data removed]",
      "text/plain": [
       "<Figure size 300x300 with 1 Axes>"
      ]
     },
     "metadata": {},
     "output_type": "display_data"
    },
    {
     "data": {
      "image/png": "[encoded data removed]",
      "text/plain": [
       "<Figure size 300x300 with 1 Axes>"
      ]
     },
     "metadata": {},
     "output_type": "display_data"
    },
    {
     "name": "stdout",
     "output_type": "stream",
     "text": [
      "Корреляция с оценками пользователей: -0.005143522887113828\n",
      "Корреляция с оценками критиков: 0.3314972592629587\n",
      "\n",
      "Графики для X360\n"
     ]
    },
    {
     "data": {
      "image/png": "[encoded data removed]",
      "text/plain": [
       "<Figure size 300x300 with 1 Axes>"
      ]
     },
     "metadata": {},
     "output_type": "display_data"
    },
    {
     "data": {
      "image/png": "[encoded data removed]",
      "text/plain": [
       "<Figure size 300x300 with 1 Axes>"
      ]
     },
     "metadata": {},
     "output_type": "display_data"
    },
    {
     "name": "stdout",
     "output_type": "stream",
     "text": [
      "Корреляция с оценками пользователей: 0.006163978646213326\n",
      "Корреляция с оценками критиков: 0.3605734888507336\n",
      "\n",
      "Графики для XOne\n"
     ]
    },
    {
     "data": {
      "image/png": "[encoded data removed]",
      "text/plain": [
       "<Figure size 300x300 with 1 Axes>"
      ]
     },
     "metadata": {},
     "output_type": "display_data"
    },
    {
     "data": {
      "image/png": "[encoded data removed]",
      "text/plain": [
       "<Figure size 300x300 with 1 Axes>"
      ]
     },
     "metadata": {},
     "output_type": "display_data"
    },
    {
     "name": "stdout",
     "output_type": "stream",
     "text": [
      "Корреляция с оценками пользователей: -0.06892505328279414\n",
      "Корреляция с оценками критиков: 0.4169983280084017\n",
      "\n",
      "Графики для 3DS\n"
     ]
    },
    {
     "data": {
      "image/png": "[encoded data removed]",
      "text/plain": [
       "<Figure size 300x300 with 1 Axes>"
      ]
     },
     "metadata": {},
     "output_type": "display_data"
    },
    {
     "data": {
      "image/png": "[encoded data removed]",
      "text/plain": [
       "<Figure size 300x300 with 1 Axes>"
      ]
     },
     "metadata": {},
     "output_type": "display_data"
    },
    {
     "name": "stdout",
     "output_type": "stream",
     "text": [
      "Корреляция с оценками пользователей: 0.19758263411038599\n",
      "Корреляция с оценками критиков: 0.3208028695360785\n",
      "\n"
     ]
    }
   ],
   "source": [
    "#Сделаю цикл чтобы посмотреть графики и корреляцию для оставшихся 4х платформ их топа\n",
    "top = ['PS3', 'X360', 'XOne', '3DS']\n",
    "\n",
    "for platform in top:\n",
    "    print('Графики для', platform)\n",
    "    user_score = df_relevant[(df_relevant[\"user_score\"] < 555) & (df_relevant[\"platform\"] == platform)]\n",
    "    user_score.plot(x='user_score', y='sum_sales', kind='scatter', color=\"Blue\",figsize=(3,3), alpha=0.8, title='Продажи - отзывы пользователей')\n",
    "    critic_score = df_relevant[(df_relevant[\"critic_score\"] < 555) & (df_relevant[\"platform\"] == platform)]\n",
    "    critic_score.plot(x='critic_score', y='sum_sales', kind='scatter', color=\"Blue\",figsize=(3,3), alpha=0.8, title='Продажи - отзывы критиков')\n",
    "    plt.show()\n",
    "    print('Корреляция с оценками пользователей:',user_score['user_score'].corr(user_score['sum_sales']))\n",
    "    print('Корреляция с оценками критиков:',critic_score['critic_score'].corr(critic_score['sum_sales']))\n",
    "    print()"
   ]
  },
  {
   "cell_type": "markdown",
   "id": "a5243d7c",
   "metadata": {},
   "source": [
    "Для всех топ 5 платформ корреляции между оценками пользователей и продажами нет \\\n",
    "Самая значительная корреляция с оценками критиков на платформе Xone 0,42, однако и эта цифра говорит о том, что есть слабо выраженная линейная связь \\\n",
    "На остальных платформах связь с оценками критиков выражена еще слабее от 0.3 до 0.4"
   ]
  },
  {
   "cell_type": "markdown",
   "id": "bb2747d5",
   "metadata": {},
   "source": [
    "#### 3.8 Посмотрите на общее распределение игр по жанрам. Что можно сказать о самых прибыльных жанрах? Выделяются ли жанры с высокими и низкими продажами"
   ]
  },
  {
   "cell_type": "code",
   "execution_count": 69,
   "id": "7d7b4fc0",
   "metadata": {
    "scrolled": false
   },
   "outputs": [
    {
     "data": {
      "text/html": [
       "<div>\n",
       "<style scoped>\n",
       "    .dataframe tbody tr th:only-of-type {\n",
       "        vertical-align: middle;\n",
       "    }\n",
       "\n",
       "    .dataframe tbody tr th {\n",
       "        vertical-align: top;\n",
       "    }\n",
       "\n",
       "    .dataframe thead th {\n",
       "        text-align: right;\n",
       "    }\n",
       "</style>\n",
       "<table border=\"1\" class=\"dataframe\">\n",
       "  <thead>\n",
       "    <tr style=\"text-align: right;\">\n",
       "      <th></th>\n",
       "      <th>Медиана продаж</th>\n",
       "      <th>Среднее по продажам</th>\n",
       "      <th>Количество игр</th>\n",
       "    </tr>\n",
       "    <tr>\n",
       "      <th>genre</th>\n",
       "      <th></th>\n",
       "      <th></th>\n",
       "      <th></th>\n",
       "    </tr>\n",
       "  </thead>\n",
       "  <tbody>\n",
       "    <tr>\n",
       "      <th>Shooter</th>\n",
       "      <td>0.440</td>\n",
       "      <td>1.296723</td>\n",
       "      <td>235</td>\n",
       "    </tr>\n",
       "    <tr>\n",
       "      <th>Sports</th>\n",
       "      <td>0.240</td>\n",
       "      <td>0.675634</td>\n",
       "      <td>268</td>\n",
       "    </tr>\n",
       "    <tr>\n",
       "      <th>Platform</th>\n",
       "      <td>0.210</td>\n",
       "      <td>0.717647</td>\n",
       "      <td>85</td>\n",
       "    </tr>\n",
       "    <tr>\n",
       "      <th>Role-Playing</th>\n",
       "      <td>0.140</td>\n",
       "      <td>0.521081</td>\n",
       "      <td>370</td>\n",
       "    </tr>\n",
       "    <tr>\n",
       "      <th>Racing</th>\n",
       "      <td>0.140</td>\n",
       "      <td>0.465217</td>\n",
       "      <td>115</td>\n",
       "    </tr>\n",
       "    <tr>\n",
       "      <th>Fighting</th>\n",
       "      <td>0.130</td>\n",
       "      <td>0.408165</td>\n",
       "      <td>109</td>\n",
       "    </tr>\n",
       "    <tr>\n",
       "      <th>Action</th>\n",
       "      <td>0.120</td>\n",
       "      <td>0.427856</td>\n",
       "      <td>1031</td>\n",
       "    </tr>\n",
       "    <tr>\n",
       "      <th>Misc</th>\n",
       "      <td>0.120</td>\n",
       "      <td>0.442917</td>\n",
       "      <td>192</td>\n",
       "    </tr>\n",
       "    <tr>\n",
       "      <th>Simulation</th>\n",
       "      <td>0.120</td>\n",
       "      <td>0.439000</td>\n",
       "      <td>80</td>\n",
       "    </tr>\n",
       "    <tr>\n",
       "      <th>Strategy</th>\n",
       "      <td>0.080</td>\n",
       "      <td>0.187887</td>\n",
       "      <td>71</td>\n",
       "    </tr>\n",
       "    <tr>\n",
       "      <th>Puzzle</th>\n",
       "      <td>0.045</td>\n",
       "      <td>0.174643</td>\n",
       "      <td>28</td>\n",
       "    </tr>\n",
       "    <tr>\n",
       "      <th>Adventure</th>\n",
       "      <td>0.030</td>\n",
       "      <td>0.097450</td>\n",
       "      <td>302</td>\n",
       "    </tr>\n",
       "  </tbody>\n",
       "</table>\n",
       "</div>"
      ],
      "text/plain": [
       "              Медиана продаж  Среднее по продажам  Количество игр\n",
       "genre                                                            \n",
       "Shooter                0.440             1.296723             235\n",
       "Sports                 0.240             0.675634             268\n",
       "Platform               0.210             0.717647              85\n",
       "Role-Playing           0.140             0.521081             370\n",
       "Racing                 0.140             0.465217             115\n",
       "Fighting               0.130             0.408165             109\n",
       "Action                 0.120             0.427856            1031\n",
       "Misc                   0.120             0.442917             192\n",
       "Simulation             0.120             0.439000              80\n",
       "Strategy               0.080             0.187887              71\n",
       "Puzzle                 0.045             0.174643              28\n",
       "Adventure              0.030             0.097450             302"
      ]
     },
     "execution_count": 69,
     "metadata": {},
     "output_type": "execute_result"
    }
   ],
   "source": [
    "genres = df_relevant.pivot_table(index=['genre'], values='sum_sales', aggfunc=['median', 'mean','count'])\n",
    "genres.columns=('Медиана продаж','Среднее по продажам','Количество игр')\n",
    "genres.sort_values(by='Медиана продаж', ascending=False)\n"
   ]
  },
  {
   "cell_type": "code",
   "execution_count": 70,
   "id": "dd3f554d",
   "metadata": {},
   "outputs": [
    {
     "data": {
      "image/png": "[encoded data removed]",
      "text/plain": [
       "<Figure size 1000x500 with 1 Axes>"
      ]
     },
     "metadata": {},
     "output_type": "display_data"
    }
   ],
   "source": [
    "genres['Медиана продаж'].sort_values(ascending=False).plot(kind='bar', figsize=(10,5))\n",
    "plt.title('Медиана продаж по платформам')\n",
    "plt.ylabel('Продажи в млн копий')\n",
    "plt.xlabel('Жанры')\n",
    "plt.show()\n"
   ]
  },
  {
   "cell_type": "markdown",
   "id": "2094ac76",
   "metadata": {},
   "source": [
    "Для анализа количества продаж использую медиану. С больим отрывом лидирует жанр - шутер 0,44 млн копий, хотя по количеству ирг он на 5м месте, следователньо у этого жанра больше успеных игр. На втором месте спорт игры 0,24\\\n",
    "Экшн, по количеству игр в три раза больше чем его сосед ролевые игры (1031 против 370) однако по медиане экшн игры сильно уступают шутерам, медиана 0,12 млн копий \\\n",
    "Внизу списка паззлы и приключения"
   ]
  },
  {
   "cell_type": "markdown",
   "id": "28a508ea",
   "metadata": {},
   "source": [
    "## 4 Составьте портрет пользователя каждого региона"
   ]
  },
  {
   "cell_type": "markdown",
   "id": "2c07bb51",
   "metadata": {},
   "source": [
    "#### 4.1 Определите для пользователя каждого региона (NA, EU, JP) Самые популярные платформы (топ-5). Опишите различия в долях продаж."
   ]
  },
  {
   "cell_type": "code",
   "execution_count": 44,
   "id": "25f17301",
   "metadata": {},
   "outputs": [
    {
     "data": {
      "image/png": "[encoded data removed]",
      "text/plain": [
       "<Figure size 1000x400 with 3 Axes>"
      ]
     },
     "metadata": {},
     "output_type": "display_data"
    }
   ],
   "source": [
    "platform_sales = df_relevant.pivot_table(index='platform', values=['eu_sales', 'na_sales', 'jp_sales'], aggfunc='sum' )\n",
    "eu_platform_sales = platform_sales['eu_sales'].sort_values(ascending=False).head(5)\n",
    "na_platform_sales = platform_sales['na_sales'].sort_values(ascending=False).head(5)\n",
    "jp_platform_sales = platform_sales['jp_sales'].sort_values(ascending=False).head(5)\n",
    "\n",
    "fig, (one, ax2, ax3) = plt.subplots(1,3, figsize=(10,4))\n",
    "fig.suptitle('Топ 5 платформ в регионах')\n",
    "one.pie(eu_platform_sales, autopct='%1.0f%%', labels=eu_platform_sales.index)\n",
    "one.set_title('Европа')\n",
    "ax2.pie(na_platform_sales, autopct='%1.0f%%', labels=na_platform_sales.index)\n",
    "ax2.set_title('Северная Америка')\n",
    "ax3.pie(jp_platform_sales, autopct='%1.0f%%', labels=na_platform_sales.index)\n",
    "ax3.set_title('Япония')\n",
    "plt.show()"
   ]
  },
  {
   "cell_type": "markdown",
   "id": "104eba86",
   "metadata": {},
   "source": [
    "EU_sales — продажи в Европе - первое место PS4 -34%, второе PS3-26%, вместе sony занимает в Европе большу часть рынка \\\n",
    "\n",
    "NA_sales — продажи в Северной Америке X 360 - лидирует по количеству проданных копий, PS3 - 21%, PS4 - 22% \\\n",
    "\n",
    "JP_sales — продажи в Японии 3DS - занимает 51%, sony гораздо менее популярна -PS3+PS4-29%"
   ]
  },
  {
   "cell_type": "markdown",
   "id": "84024490",
   "metadata": {},
   "source": [
    "#### 4.2 Самые популярные жанры (топ-5). Поясните разницу."
   ]
  },
  {
   "cell_type": "code",
   "execution_count": 45,
   "id": "231e0684",
   "metadata": {
    "scrolled": true
   },
   "outputs": [
    {
     "data": {
      "image/png": "[encoded data removed]",
      "text/plain": [
       "<Figure size 1000x400 with 3 Axes>"
      ]
     },
     "metadata": {},
     "output_type": "display_data"
    }
   ],
   "source": [
    "genre_sales = df_relevant.pivot_table(index='genre', values=['eu_sales', 'na_sales', 'jp_sales'], aggfunc='sum' )\n",
    "eu_genre_sales = genre_sales['eu_sales'].sort_values(ascending=False).head(5)\n",
    "na_genre_sales = genre_sales['na_sales'].sort_values(ascending=False).head(5)\n",
    "jp_genre_sales = genre_sales['jp_sales'].sort_values(ascending=False).head(5)\n",
    "\n",
    "fig, (one, ax2, ax3) = plt.subplots(1,3, figsize=(10,4))\n",
    "fig.suptitle('Топ 5 жанров в регионах')\n",
    "one.pie(eu_genre_sales, autopct='%1.0f%%', labels=eu_genre_sales.index)\n",
    "one.set_title('Европа')\n",
    "ax2.pie(na_genre_sales, autopct='%1.0f%%', labels=na_genre_sales.index)\n",
    "ax2.set_title('Северная Америка')\n",
    "ax3.pie(jp_genre_sales, autopct='%1.0f%%', labels=jp_genre_sales.index)\n",
    "ax3.set_title('Япония')\n",
    "plt.show()"
   ]
  },
  {
   "cell_type": "markdown",
   "id": "84f2072b",
   "metadata": {},
   "source": [
    "Жанр Экшн лидирует в Европе и Северной Америке, шутер в обоих регионах занимает второе место, спорт и ролевый игры 3 и 4 место сообтетственно. Портрет предпочтений для Европы и Северное Америки очень похож. \\\n",
    "Япония отличается от других регионов, не самые популярные в Европе и Америке ролевые игры - тут на первом месте, вместе с тем экшн всего на втором месте и по процентам не уступает популярности в Америке, остальные жанры не выделяются"
   ]
  },
  {
   "cell_type": "markdown",
   "id": "1055925b",
   "metadata": {},
   "source": [
    "#### 4.3 Влияет ли рейтинг ESRB на продажи в отдельном регионе"
   ]
  },
  {
   "cell_type": "code",
   "execution_count": 46,
   "id": "98b2f3bb",
   "metadata": {},
   "outputs": [
    {
     "data": {
      "image/png": "[encoded data removed]",
      "text/plain": [
       "<Figure size 1000x400 with 3 Axes>"
      ]
     },
     "metadata": {},
     "output_type": "display_data"
    }
   ],
   "source": [
    "esrb = df_relevant.pivot_table(index='rating', values=['eu_sales', 'na_sales', 'jp_sales'], aggfunc='sum' )\n",
    "eu_esrb = esrb['eu_sales']\n",
    "na_esrb = esrb['na_sales']\n",
    "jp_esrb = esrb['jp_sales']\n",
    "\n",
    "fig, (eu, na, jp) = plt.subplots(1,3, figsize=(10,4))\n",
    "fig.suptitle('Количество продаж на возрастной рейтинг по регионам')\n",
    "eu.pie(eu_esrb, autopct='%1.0f%%', labels=eu_esrb.index)\n",
    "eu.set_title('Европа')\n",
    "na.pie(na_esrb, autopct='%1.0f%%', labels=na_esrb.index)\n",
    "na.set_title('Северная Америка')\n",
    "jp.pie(jp_esrb, autopct='%1.0f%%', labels=jp_esrb.index)\n",
    "jp.set_title('Япония')\n",
    "plt.show()"
   ]
  },
  {
   "cell_type": "markdown",
   "id": "7d8b7e66",
   "metadata": {},
   "source": [
    "<div class=\"alert alert-success\">\n",
    "<b>ОТЛИЧНО! 👍</b>\n",
    "\n",
    "Один из подводных камней этого проекта. Суть его в том, что часто коллеги в самом начале «тетрадки» пропуски в 'rating' не обрабатывают, оставляют NaN, и соответственно во время анализа и/или построении графиков игры без рейтингов «теряются». Но у тебя здесь всё отлично.</div>"
   ]
  },
  {
   "cell_type": "markdown",
   "id": "4f8ce3b3",
   "metadata": {},
   "source": [
    "\n",
    "E10+ - Для всех от 10 лет и старше \\\n",
    "T - Подросткам, 13+ \\\n",
    "M - Для взрослых, 17+ \\\n",
    "E - все возрасты \\\n"
   ]
  },
  {
   "cell_type": "markdown",
   "id": "0d11ffc5",
   "metadata": {},
   "source": [
    "В Европе и Северное Америке игра для взрослых пользуются популярностью, хотя для того чтобы обебзопасить себя игровые студии часто завышают рейтинг и ставят  18+ там,где в этом нет необходимости. \\\n",
    "Картина по всем категориям в Европе и Америке очень похода. Япония сильно отличается и большинство игр без рейтинга."
   ]
  },
  {
   "cell_type": "markdown",
   "id": "419a65e5",
   "metadata": {},
   "source": [
    "## 5. Проверьте гипотезы"
   ]
  },
  {
   "cell_type": "markdown",
   "id": "d6a0302f",
   "metadata": {},
   "source": [
    "#### 5.1 Средние пользовательские рейтинги платформ Xbox One и PC одинаковые"
   ]
  },
  {
   "cell_type": "markdown",
   "id": "5ea8b1f8",
   "metadata": {},
   "source": [
    "Нулевая гипотеза - Средние пользовательские рейтинги платформ Xbox One и PC одинаковые \\\n",
    "Альтернативаня - Средние пользовательские рейтинги платформ Xbox One и PC разные \\\n",
    "Применю ttest для сравнения 2х выборок"
   ]
  },
  {
   "cell_type": "code",
   "execution_count": 47,
   "id": "ecd2d418",
   "metadata": {},
   "outputs": [
    {
     "name": "stdout",
     "output_type": "stream",
     "text": [
      "p-значение: 0.5489537965134912\n",
      "Не получилось отвергнуть нулевую гипотезу\n",
      "6.428640776699027\n",
      "6.52142857142857\n"
     ]
    }
   ],
   "source": [
    "\n",
    "\n",
    "# гтовлю срез, исключаю заглушку 555\n",
    "xone = df_relevant.query('platform == \"XOne\" and user_score < 555')\n",
    "pc = df_relevant.query('platform == \"PC\" and user_score < 555')\n",
    "\n",
    "alpha = 0.05\n",
    "#если p-value окажется меньше него, отвергнем гипотезу\n",
    "\n",
    "results = st.ttest_ind(xone['user_score'],pc['user_score'],equal_var=False)\n",
    "\n",
    "print('p-значение:', results.pvalue)\n",
    "\n",
    "if results.pvalue < alpha:\n",
    "    print('Отвергаем нулевую гипотезу')\n",
    "else:\n",
    "    print('Не получилось отвергнуть нулевую гипотезу') \n",
    "    \n",
    "print(pc['user_score'].mean())\n",
    "print(xone['user_score'].mean())"
   ]
  },
  {
   "cell_type": "markdown",
   "id": "bf5180c7",
   "metadata": {},
   "source": [
    "Вероятность получить такие же или более выраженные различия между выборками при условии, что нулевая гипотеза о равенстве средних верна - 54,9% Различия между средними пользовательскими рейтингами для Xbox One и PC не являются статистически значимыми"
   ]
  },
  {
   "cell_type": "markdown",
   "id": "f324da20",
   "metadata": {},
   "source": [
    "#### 5.2 Средние пользовательские рейтинги жанров Action (англ. «действие», экшен-игры) и Sports (англ. «спортивные соревнования») разные."
   ]
  },
  {
   "cell_type": "markdown",
   "id": "eee53d47",
   "metadata": {},
   "source": [
    "Нулевая гипотеза -жанров Action (англ. «действие», экшен-игры) и Sports (англ. «спортивные соревнования») одинаковые \\\n",
    "Альтернативаня - Средние пользовательские рейтинги платформ Xbox One и PC разные \\\n",
    "Применю ttest "
   ]
  },
  {
   "cell_type": "code",
   "execution_count": 48,
   "id": "32fb3da1",
   "metadata": {
    "scrolled": true
   },
   "outputs": [
    {
     "name": "stdout",
     "output_type": "stream",
     "text": [
      "p-значение: 4.24307776572644e-20\n",
      "Отвергаем нулевую гипотезу\n",
      "6.825047801147237\n",
      "5.455897435897437\n"
     ]
    }
   ],
   "source": [
    "action = df_relevant.query('genre == \"Action\" and user_score < 555')\n",
    "sports = df_relevant.query('genre == \"Sports\" and user_score < 555')\n",
    "\n",
    "alpha = 0.05\n",
    "#если p-value окажется меньше него, отвергнем гипотезу\n",
    "#выборки не равны по размеру, применим equal_var=False\n",
    "results = st.ttest_ind(action['user_score'], sports['user_score'],equal_var=False)\n",
    "\n",
    "print('p-значение:', results.pvalue)\n",
    "\n",
    "if results.pvalue < alpha:\n",
    "    print('Отвергаем нулевую гипотезу')\n",
    "else:\n",
    "    print('Не получилось отвергнуть нулевую гипотезу') \n",
    "    \n",
    "print(action['user_score'].mean())\n",
    "print(sports['user_score'].mean())"
   ]
  },
  {
   "cell_type": "markdown",
   "id": "26c4410a",
   "metadata": {},
   "source": [
    "Вероятность получить такие же или более выраженные различия между выборками при условии, что нулевая гипотеза о равенстве средних верна стремится к нулю. Различия между средними пользовательскими рейтингами для жанров Action  и Sport являются статистически значимыми "
   ]
  },
  {
   "cell_type": "markdown",
   "id": "7f2726b5",
   "metadata": {},
   "source": [
    "## 6 Вывод"
   ]
  },
  {
   "cell_type": "markdown",
   "id": "7624b324",
   "metadata": {},
   "source": [
    "Основной вопрос на который надо ответить - это нужно выявить определяющие успешность игры закономерности исходя из данных. Жанр, оценки, рейтинг, рынки на которых популярны те или иные игры. Можно выделить игровые хиты, за актуальный период. Для планирования рекламы и закупок. \n",
    "Можно сделать вывод, что регионы Европа и Северная Америка очень похожи между собой, в то время как Япония более самобытна."
   ]
  },
  {
   "cell_type": "markdown",
   "id": "ef0dad48",
   "metadata": {},
   "source": [
    "\n",
    "В ходе исследования удалось выяснить, чо наичная с 90х годов продажи игр увеличивались кратно с каждым годом, после 2011 наметился спад, далее продажи были более стабильными. \\\n",
    "Самые большие объемы продаж за все время были у Sony(PS2, PS3), Microsoft(X360) и Nintendo(Wii) \\\n",
    "Sony и Microsoft так же входят в топ по количеству выпускаемых игр, \n",
    "Nintendo DS - на втором месте по количеству игр, однако на 5 по продажам \\\n",
    "Средний срок жизни консоли 5-6 лет, \\\n",
    "Выявлены 2 платформы которые набирают популярность это PS4 и Xone их продажи в 2016 больше чем у всех остальных платформ, при этом у Sony в 2 раза больше сумма продажи чем у Xone. \\\n",
    "Удалось выяснить, что оценка пользователя не имеет корреляции с продажами, оценки критиков имеют слабо выраженную линейную корреляцию \\\n",
    "ТОП 3 популярных жанра Экшн, Шутер, Ролевая игра - все вместе это 64% всех выпускаемых игр \\\n",
    "Самая популярная платформа в Европе - Sony PS3 и 4 занимают 60%!\n",
    "\n",
    "В Северной Америке PS 4 и Х360 - занимают половину рынка. \\\n",
    "В Японии х360 - 51% \n",
    "По жанрам - Экшн во всех трех регионах занимает чуть больше 35% и лидирует в Европе и Америке \\\n",
    "В Японии ролевые игры занимают 43% \\\n",
    "По жанрам и платформам Амперика и Европы выглядят похоже, в то время как Япония сильно отличается \\\n",
    "В Европе и Америке 38 и 39% игр в рейтинге 17+ \\\n",
    "В Японии 57% - рейтинг не определен \n",
    "\n",
    "Жанр и платформа определяют успех в значитльной форме \\\n",
    "В Европе и Америке не пренебрегают играми 17+, в Японии спрос на них сильн меньше (11%) /\n",
    "______________________\n",
    "- Можно предположить, что в 2017 году наибольшей популярностью будут пользоваться PS4 и XOne. Даже если говорить про Японию, где % занимет Х360, продажи этой платформы к 2016 сошли на нет, а PS4 наоброт, набирает популярность\n",
    "- Самые продаваемые жанры - шутеры и спорт, - на них следует сделать упор. Экш игры не смотря на большое количество игр проигрывают шутерам по медианным продажам. \n",
    "- Есть слабая корреляция с оценками критиков, стоит боратить на это внимание. Корреляции с оценками пользователей не выявлено.\n",
    "- В Европе и Америке большей популярностью пользуются игры с рейтингом 17+ и без ограничения по возрасту. В Японии действует своя система возрастных рейтингов "
   ]
  }
 ],
 "metadata": {
  "ExecuteTimeLog": [
   {
    "duration": 1579,
    "start_time": "2023-03-19T07:45:15.816Z"
   },
   {
    "duration": 4,
    "start_time": "2023-03-19T07:45:17.397Z"
   },
   {
    "duration": 65,
    "start_time": "2023-03-19T07:45:17.403Z"
   },
   {
    "duration": 12,
    "start_time": "2023-03-19T07:45:17.469Z"
   },
   {
    "duration": 21,
    "start_time": "2023-03-19T07:45:17.483Z"
   },
   {
    "duration": 14,
    "start_time": "2023-03-19T07:45:17.506Z"
   },
   {
    "duration": 19,
    "start_time": "2023-03-19T07:45:17.522Z"
   },
   {
    "duration": 16,
    "start_time": "2023-03-19T07:45:17.562Z"
   },
   {
    "duration": 15,
    "start_time": "2023-03-19T07:45:17.579Z"
   },
   {
    "duration": 24,
    "start_time": "2023-03-19T07:45:17.596Z"
   },
   {
    "duration": 214,
    "start_time": "2023-03-19T07:45:17.622Z"
   },
   {
    "duration": 34,
    "start_time": "2023-03-19T07:45:17.838Z"
   },
   {
    "duration": 458,
    "start_time": "2023-03-19T07:45:17.874Z"
   },
   {
    "duration": 27,
    "start_time": "2023-03-19T07:45:18.335Z"
   },
   {
    "duration": 287,
    "start_time": "2023-03-19T07:45:18.364Z"
   },
   {
    "duration": 253,
    "start_time": "2023-03-19T07:45:18.653Z"
   },
   {
    "duration": 16,
    "start_time": "2023-03-19T07:45:18.908Z"
   },
   {
    "duration": 332,
    "start_time": "2023-03-19T07:45:18.927Z"
   },
   {
    "duration": 23,
    "start_time": "2023-03-19T07:45:19.262Z"
   },
   {
    "duration": 148,
    "start_time": "2023-03-19T07:45:19.287Z"
   },
   {
    "duration": 179,
    "start_time": "2023-03-19T07:45:19.436Z"
   },
   {
    "duration": 185,
    "start_time": "2023-03-19T07:45:19.616Z"
   },
   {
    "duration": 1040,
    "start_time": "2023-03-19T07:45:19.803Z"
   },
   {
    "duration": 32,
    "start_time": "2023-03-19T07:45:20.845Z"
   },
   {
    "duration": 166,
    "start_time": "2023-03-19T07:45:20.878Z"
   },
   {
    "duration": 288,
    "start_time": "2023-03-19T07:45:21.046Z"
   },
   {
    "duration": 371,
    "start_time": "2023-03-19T07:45:21.336Z"
   },
   {
    "duration": 283,
    "start_time": "2023-03-19T07:45:21.709Z"
   },
   {
    "duration": 14,
    "start_time": "2023-03-19T07:45:21.994Z"
   },
   {
    "duration": 19,
    "start_time": "2023-03-19T07:45:22.009Z"
   },
   {
    "duration": 1429,
    "start_time": "2023-03-19T09:14:10.417Z"
   },
   {
    "duration": 135,
    "start_time": "2023-03-19T09:14:13.764Z"
   },
   {
    "duration": 110,
    "start_time": "2023-03-19T10:03:30.024Z"
   },
   {
    "duration": 1204,
    "start_time": "2023-03-19T10:03:39.935Z"
   },
   {
    "duration": 4,
    "start_time": "2023-03-19T10:03:51.944Z"
   },
   {
    "duration": 92,
    "start_time": "2023-03-19T10:03:51.950Z"
   },
   {
    "duration": 4,
    "start_time": "2023-03-19T10:03:52.044Z"
   },
   {
    "duration": 78,
    "start_time": "2023-03-19T10:03:52.050Z"
   },
   {
    "duration": 11,
    "start_time": "2023-03-19T10:03:52.130Z"
   },
   {
    "duration": 32,
    "start_time": "2023-03-19T10:03:52.143Z"
   },
   {
    "duration": 31,
    "start_time": "2023-03-19T10:03:52.176Z"
   },
   {
    "duration": 16,
    "start_time": "2023-03-19T10:03:52.209Z"
   },
   {
    "duration": 18,
    "start_time": "2023-03-19T10:03:52.226Z"
   },
   {
    "duration": 17,
    "start_time": "2023-03-19T10:03:52.263Z"
   },
   {
    "duration": 33,
    "start_time": "2023-03-19T10:03:52.283Z"
   },
   {
    "duration": 275,
    "start_time": "2023-03-19T10:03:52.318Z"
   },
   {
    "duration": 25,
    "start_time": "2023-03-19T10:03:52.595Z"
   },
   {
    "duration": 577,
    "start_time": "2023-03-19T10:03:52.622Z"
   },
   {
    "duration": 18,
    "start_time": "2023-03-19T10:03:53.201Z"
   },
   {
    "duration": 364,
    "start_time": "2023-03-19T10:03:53.221Z"
   },
   {
    "duration": 314,
    "start_time": "2023-03-19T10:03:53.588Z"
   },
   {
    "duration": 17,
    "start_time": "2023-03-19T10:03:53.904Z"
   },
   {
    "duration": 372,
    "start_time": "2023-03-19T10:03:53.923Z"
   },
   {
    "duration": 26,
    "start_time": "2023-03-19T10:03:54.297Z"
   },
   {
    "duration": 190,
    "start_time": "2023-03-19T10:03:54.325Z"
   },
   {
    "duration": 249,
    "start_time": "2023-03-19T10:03:54.517Z"
   },
   {
    "duration": 205,
    "start_time": "2023-03-19T10:03:54.768Z"
   },
   {
    "duration": 1291,
    "start_time": "2023-03-19T10:03:54.975Z"
   },
   {
    "duration": 26,
    "start_time": "2023-03-19T10:03:56.268Z"
   },
   {
    "duration": 217,
    "start_time": "2023-03-19T10:03:56.296Z"
   },
   {
    "duration": 437,
    "start_time": "2023-03-19T10:03:56.515Z"
   },
   {
    "duration": 305,
    "start_time": "2023-03-19T10:03:56.955Z"
   },
   {
    "duration": 317,
    "start_time": "2023-03-19T10:03:57.266Z"
   },
   {
    "duration": 18,
    "start_time": "2023-03-19T10:03:57.586Z"
   },
   {
    "duration": 16,
    "start_time": "2023-03-19T10:03:57.606Z"
   },
   {
    "duration": 262,
    "start_time": "2023-03-19T10:07:58.999Z"
   },
   {
    "duration": 70,
    "start_time": "2023-03-19T10:08:07.832Z"
   },
   {
    "duration": 90,
    "start_time": "2023-03-19T10:08:22.233Z"
   },
   {
    "duration": 90,
    "start_time": "2023-03-19T10:08:34.445Z"
   },
   {
    "duration": 81,
    "start_time": "2023-03-19T10:09:14.704Z"
   },
   {
    "duration": 100,
    "start_time": "2023-03-19T10:09:45.935Z"
   },
   {
    "duration": 84,
    "start_time": "2023-03-19T10:09:50.989Z"
   },
   {
    "duration": 75,
    "start_time": "2023-03-19T10:11:58.700Z"
   },
   {
    "duration": 299,
    "start_time": "2023-03-19T10:12:56.651Z"
   },
   {
    "duration": 256,
    "start_time": "2023-03-19T10:13:02.887Z"
   },
   {
    "duration": 51,
    "start_time": "2023-03-20T10:16:56.949Z"
   },
   {
    "duration": 1526,
    "start_time": "2023-03-20T10:17:06.846Z"
   },
   {
    "duration": 302,
    "start_time": "2023-03-20T10:17:09.552Z"
   },
   {
    "duration": 11,
    "start_time": "2023-03-20T10:17:16.136Z"
   },
   {
    "duration": 56,
    "start_time": "2023-03-20T10:17:18.259Z"
   },
   {
    "duration": 21,
    "start_time": "2023-03-20T10:17:22.118Z"
   },
   {
    "duration": 23,
    "start_time": "2023-03-20T10:17:29.557Z"
   },
   {
    "duration": 31,
    "start_time": "2023-03-20T10:17:32.501Z"
   },
   {
    "duration": 79,
    "start_time": "2023-03-20T10:18:32.410Z"
   },
   {
    "duration": 22,
    "start_time": "2023-03-20T10:19:22.351Z"
   },
   {
    "duration": 35,
    "start_time": "2023-03-20T10:21:12.041Z"
   },
   {
    "duration": 20,
    "start_time": "2023-03-20T10:23:38.765Z"
   },
   {
    "duration": 8,
    "start_time": "2023-03-20T10:25:49.297Z"
   },
   {
    "duration": 16,
    "start_time": "2023-03-20T10:25:55.354Z"
   },
   {
    "duration": 40,
    "start_time": "2023-03-20T10:26:26.795Z"
   },
   {
    "duration": 55,
    "start_time": "2023-03-20T10:26:34.696Z"
   },
   {
    "duration": 6,
    "start_time": "2023-03-20T10:27:53.958Z"
   },
   {
    "duration": 22,
    "start_time": "2023-03-20T10:27:59.473Z"
   },
   {
    "duration": 25,
    "start_time": "2023-03-20T10:29:15.043Z"
   },
   {
    "duration": 56,
    "start_time": "2023-03-20T10:29:40.420Z"
   },
   {
    "duration": 394,
    "start_time": "2023-03-20T10:30:16.816Z"
   },
   {
    "duration": 1013,
    "start_time": "2023-03-20T10:32:07.259Z"
   },
   {
    "duration": 324,
    "start_time": "2023-03-20T10:32:47.712Z"
   },
   {
    "duration": 31,
    "start_time": "2023-03-20T10:34:35.055Z"
   },
   {
    "duration": 39,
    "start_time": "2023-03-20T10:38:23.117Z"
   },
   {
    "duration": 20,
    "start_time": "2023-03-20T10:38:39.895Z"
   },
   {
    "duration": 27,
    "start_time": "2023-03-20T10:39:17.861Z"
   },
   {
    "duration": 25,
    "start_time": "2023-03-20T10:41:01.033Z"
   },
   {
    "duration": 19,
    "start_time": "2023-03-20T10:41:14.463Z"
   },
   {
    "duration": 26,
    "start_time": "2023-03-20T10:41:21.393Z"
   },
   {
    "duration": 22,
    "start_time": "2023-03-20T10:41:52.861Z"
   },
   {
    "duration": 171,
    "start_time": "2023-03-20T10:43:49.275Z"
   },
   {
    "duration": 20,
    "start_time": "2023-03-20T10:44:04.654Z"
   },
   {
    "duration": 32,
    "start_time": "2023-03-20T10:46:14.052Z"
   },
   {
    "duration": 18,
    "start_time": "2023-03-20T10:47:15.203Z"
   },
   {
    "duration": 15,
    "start_time": "2023-03-20T10:47:22.496Z"
   },
   {
    "duration": 16,
    "start_time": "2023-03-20T10:48:01.661Z"
   },
   {
    "duration": 17,
    "start_time": "2023-03-20T10:49:25.664Z"
   },
   {
    "duration": 20,
    "start_time": "2023-03-20T10:49:33.806Z"
   },
   {
    "duration": 15,
    "start_time": "2023-03-20T10:49:43.647Z"
   },
   {
    "duration": 20,
    "start_time": "2023-03-20T10:52:42.178Z"
   },
   {
    "duration": 21,
    "start_time": "2023-03-20T10:54:25.286Z"
   },
   {
    "duration": 16,
    "start_time": "2023-03-20T10:55:05.185Z"
   },
   {
    "duration": 35,
    "start_time": "2023-03-20T10:55:17.279Z"
   },
   {
    "duration": 21,
    "start_time": "2023-03-20T10:55:25.474Z"
   },
   {
    "duration": 35,
    "start_time": "2023-03-20T10:55:38.752Z"
   },
   {
    "duration": 27,
    "start_time": "2023-03-20T10:55:59.259Z"
   },
   {
    "duration": 28,
    "start_time": "2023-03-20T10:56:49.059Z"
   },
   {
    "duration": 22,
    "start_time": "2023-03-20T10:57:24.653Z"
   },
   {
    "duration": 15,
    "start_time": "2023-03-20T10:58:45.173Z"
   },
   {
    "duration": 29,
    "start_time": "2023-03-20T10:58:50.750Z"
   },
   {
    "duration": 20,
    "start_time": "2023-03-20T10:59:31.164Z"
   },
   {
    "duration": 32,
    "start_time": "2023-03-20T11:00:32.620Z"
   },
   {
    "duration": 53,
    "start_time": "2023-03-20T11:00:50.558Z"
   },
   {
    "duration": 38,
    "start_time": "2023-03-20T11:01:19.743Z"
   },
   {
    "duration": 37,
    "start_time": "2023-03-20T11:01:25.256Z"
   },
   {
    "duration": 35,
    "start_time": "2023-03-20T11:01:40.457Z"
   },
   {
    "duration": 1181,
    "start_time": "2023-03-20T11:03:23.905Z"
   },
   {
    "duration": 24,
    "start_time": "2023-03-20T11:03:47.476Z"
   },
   {
    "duration": 41,
    "start_time": "2023-03-20T11:04:00.753Z"
   },
   {
    "duration": 33,
    "start_time": "2023-03-20T11:04:08.777Z"
   },
   {
    "duration": 27,
    "start_time": "2023-03-20T11:04:24.371Z"
   },
   {
    "duration": 27,
    "start_time": "2023-03-20T11:05:32.378Z"
   },
   {
    "duration": 27,
    "start_time": "2023-03-20T11:05:48.960Z"
   },
   {
    "duration": 27,
    "start_time": "2023-03-20T11:06:12.674Z"
   },
   {
    "duration": 36,
    "start_time": "2023-03-20T11:08:39.897Z"
   },
   {
    "duration": 46,
    "start_time": "2023-03-20T14:34:42.121Z"
   },
   {
    "duration": 1385,
    "start_time": "2023-03-20T14:34:48.065Z"
   },
   {
    "duration": 242,
    "start_time": "2023-03-20T14:34:49.452Z"
   },
   {
    "duration": 4,
    "start_time": "2023-03-20T14:34:49.696Z"
   },
   {
    "duration": 56,
    "start_time": "2023-03-20T14:34:49.702Z"
   },
   {
    "duration": 31,
    "start_time": "2023-03-20T14:34:49.760Z"
   },
   {
    "duration": 17,
    "start_time": "2023-03-20T14:34:49.793Z"
   },
   {
    "duration": 17,
    "start_time": "2023-03-20T14:34:49.812Z"
   },
   {
    "duration": 52,
    "start_time": "2023-03-20T14:34:49.831Z"
   },
   {
    "duration": 16,
    "start_time": "2023-03-20T14:34:49.884Z"
   },
   {
    "duration": 17,
    "start_time": "2023-03-20T14:34:49.903Z"
   },
   {
    "duration": 14,
    "start_time": "2023-03-20T14:34:49.922Z"
   },
   {
    "duration": 29,
    "start_time": "2023-03-20T14:34:49.938Z"
   },
   {
    "duration": 32,
    "start_time": "2023-03-20T14:34:49.969Z"
   },
   {
    "duration": 205,
    "start_time": "2023-03-20T14:34:50.005Z"
   },
   {
    "duration": 37,
    "start_time": "2023-03-20T14:34:50.211Z"
   },
   {
    "duration": 495,
    "start_time": "2023-03-20T14:34:50.249Z"
   },
   {
    "duration": 17,
    "start_time": "2023-03-20T14:34:50.745Z"
   },
   {
    "duration": 324,
    "start_time": "2023-03-20T14:34:50.764Z"
   },
   {
    "duration": 270,
    "start_time": "2023-03-20T14:34:51.091Z"
   },
   {
    "duration": 27,
    "start_time": "2023-03-20T14:34:51.363Z"
   },
   {
    "duration": 331,
    "start_time": "2023-03-20T14:34:51.396Z"
   },
   {
    "duration": 22,
    "start_time": "2023-03-20T14:34:51.729Z"
   },
   {
    "duration": 168,
    "start_time": "2023-03-20T14:34:51.752Z"
   },
   {
    "duration": 179,
    "start_time": "2023-03-20T14:34:51.922Z"
   },
   {
    "duration": 162,
    "start_time": "2023-03-20T14:34:52.102Z"
   },
   {
    "duration": 1028,
    "start_time": "2023-03-20T14:34:52.266Z"
   },
   {
    "duration": 18,
    "start_time": "2023-03-20T14:34:53.296Z"
   },
   {
    "duration": 173,
    "start_time": "2023-03-20T14:34:53.317Z"
   },
   {
    "duration": 349,
    "start_time": "2023-03-20T14:34:53.492Z"
   },
   {
    "duration": 283,
    "start_time": "2023-03-20T14:34:53.843Z"
   },
   {
    "duration": 287,
    "start_time": "2023-03-20T14:34:54.128Z"
   },
   {
    "duration": 12,
    "start_time": "2023-03-20T14:34:54.418Z"
   },
   {
    "duration": 30,
    "start_time": "2023-03-20T14:34:54.432Z"
   },
   {
    "duration": 24,
    "start_time": "2023-03-20T14:35:48.402Z"
   },
   {
    "duration": 22,
    "start_time": "2023-03-20T14:36:17.196Z"
   },
   {
    "duration": 11,
    "start_time": "2023-03-20T14:37:37.593Z"
   },
   {
    "duration": 23,
    "start_time": "2023-03-20T14:37:53.166Z"
   },
   {
    "duration": 25,
    "start_time": "2023-03-20T14:38:17.344Z"
   },
   {
    "duration": 36,
    "start_time": "2023-03-20T14:38:37.249Z"
   },
   {
    "duration": 26,
    "start_time": "2023-03-20T14:38:46.589Z"
   },
   {
    "duration": 48,
    "start_time": "2023-03-20T14:41:43.994Z"
   },
   {
    "duration": 10,
    "start_time": "2023-03-20T14:42:02.200Z"
   },
   {
    "duration": 16,
    "start_time": "2023-03-20T14:42:23.597Z"
   },
   {
    "duration": 8,
    "start_time": "2023-03-20T15:09:02.520Z"
   },
   {
    "duration": 82,
    "start_time": "2023-03-20T15:15:13.141Z"
   },
   {
    "duration": 1165,
    "start_time": "2023-03-22T06:18:57.523Z"
   },
   {
    "duration": 80,
    "start_time": "2023-03-22T06:18:58.690Z"
   },
   {
    "duration": 4,
    "start_time": "2023-03-22T06:18:58.772Z"
   },
   {
    "duration": 70,
    "start_time": "2023-03-22T06:18:58.778Z"
   },
   {
    "duration": 9,
    "start_time": "2023-03-22T06:18:58.851Z"
   },
   {
    "duration": 17,
    "start_time": "2023-03-22T06:18:58.861Z"
   },
   {
    "duration": 11,
    "start_time": "2023-03-22T06:18:58.880Z"
   },
   {
    "duration": 11,
    "start_time": "2023-03-22T06:18:58.892Z"
   },
   {
    "duration": 37,
    "start_time": "2023-03-22T06:18:58.905Z"
   },
   {
    "duration": 16,
    "start_time": "2023-03-22T06:18:58.944Z"
   },
   {
    "duration": 42,
    "start_time": "2023-03-22T06:18:58.961Z"
   },
   {
    "duration": 15,
    "start_time": "2023-03-22T06:18:59.005Z"
   },
   {
    "duration": 32,
    "start_time": "2023-03-22T06:18:59.022Z"
   },
   {
    "duration": 16,
    "start_time": "2023-03-22T06:18:59.056Z"
   },
   {
    "duration": 14,
    "start_time": "2023-03-22T06:18:59.073Z"
   },
   {
    "duration": 24,
    "start_time": "2023-03-22T06:18:59.089Z"
   },
   {
    "duration": 20,
    "start_time": "2023-03-22T06:18:59.142Z"
   },
   {
    "duration": 40,
    "start_time": "2023-03-22T06:18:59.164Z"
   },
   {
    "duration": 37,
    "start_time": "2023-03-22T06:18:59.206Z"
   },
   {
    "duration": 30,
    "start_time": "2023-03-22T06:18:59.245Z"
   },
   {
    "duration": 4,
    "start_time": "2023-03-22T06:19:30.662Z"
   },
   {
    "duration": 101,
    "start_time": "2023-03-22T06:19:30.681Z"
   },
   {
    "duration": 115,
    "start_time": "2023-03-22T06:19:30.784Z"
   },
   {
    "duration": 24,
    "start_time": "2023-03-22T06:19:42.238Z"
   },
   {
    "duration": 11,
    "start_time": "2023-03-22T06:24:27.280Z"
   },
   {
    "duration": 4,
    "start_time": "2023-03-22T06:24:38.811Z"
   },
   {
    "duration": 88,
    "start_time": "2023-03-22T06:24:38.817Z"
   },
   {
    "duration": 3,
    "start_time": "2023-03-22T06:24:38.907Z"
   },
   {
    "duration": 37,
    "start_time": "2023-03-22T06:24:38.912Z"
   },
   {
    "duration": 14,
    "start_time": "2023-03-22T06:24:38.951Z"
   },
   {
    "duration": 19,
    "start_time": "2023-03-22T06:24:38.967Z"
   },
   {
    "duration": 18,
    "start_time": "2023-03-22T06:24:38.988Z"
   },
   {
    "duration": 9,
    "start_time": "2023-03-22T06:24:39.008Z"
   },
   {
    "duration": 28,
    "start_time": "2023-03-22T06:24:39.019Z"
   },
   {
    "duration": 20,
    "start_time": "2023-03-22T06:24:39.049Z"
   },
   {
    "duration": 53,
    "start_time": "2023-03-22T06:24:39.072Z"
   },
   {
    "duration": 21,
    "start_time": "2023-03-22T06:24:39.127Z"
   },
   {
    "duration": 23,
    "start_time": "2023-03-22T06:24:39.154Z"
   },
   {
    "duration": 22,
    "start_time": "2023-03-22T06:24:39.179Z"
   },
   {
    "duration": 20,
    "start_time": "2023-03-22T06:24:39.203Z"
   },
   {
    "duration": 54,
    "start_time": "2023-03-22T06:24:39.225Z"
   },
   {
    "duration": 32,
    "start_time": "2023-03-22T06:24:39.281Z"
   },
   {
    "duration": 36,
    "start_time": "2023-03-22T06:24:39.314Z"
   },
   {
    "duration": 18,
    "start_time": "2023-03-22T06:24:39.355Z"
   },
   {
    "duration": 42,
    "start_time": "2023-03-22T06:24:39.375Z"
   },
   {
    "duration": 223,
    "start_time": "2023-03-22T06:24:39.419Z"
   },
   {
    "duration": 17,
    "start_time": "2023-03-22T06:24:39.646Z"
   },
   {
    "duration": 201,
    "start_time": "2023-03-22T06:24:39.665Z"
   },
   {
    "duration": 30,
    "start_time": "2023-03-22T06:24:39.868Z"
   },
   {
    "duration": 492,
    "start_time": "2023-03-22T06:24:39.900Z"
   },
   {
    "duration": 21,
    "start_time": "2023-03-22T06:24:40.394Z"
   },
   {
    "duration": 312,
    "start_time": "2023-03-22T06:24:40.417Z"
   },
   {
    "duration": 277,
    "start_time": "2023-03-22T06:24:40.731Z"
   },
   {
    "duration": 15,
    "start_time": "2023-03-22T06:24:41.012Z"
   },
   {
    "duration": 31,
    "start_time": "2023-03-22T06:24:41.029Z"
   },
   {
    "duration": 1253,
    "start_time": "2023-03-22T06:25:09.552Z"
   },
   {
    "duration": 105,
    "start_time": "2023-03-22T06:25:10.807Z"
   },
   {
    "duration": 3,
    "start_time": "2023-03-22T06:25:10.914Z"
   },
   {
    "duration": 65,
    "start_time": "2023-03-22T06:25:10.920Z"
   },
   {
    "duration": 10,
    "start_time": "2023-03-22T06:25:10.988Z"
   },
   {
    "duration": 17,
    "start_time": "2023-03-22T06:25:11.000Z"
   },
   {
    "duration": 38,
    "start_time": "2023-03-22T06:25:11.018Z"
   },
   {
    "duration": 11,
    "start_time": "2023-03-22T06:25:11.058Z"
   },
   {
    "duration": 27,
    "start_time": "2023-03-22T06:25:11.071Z"
   },
   {
    "duration": 21,
    "start_time": "2023-03-22T06:25:11.101Z"
   },
   {
    "duration": 46,
    "start_time": "2023-03-22T06:25:11.124Z"
   },
   {
    "duration": 16,
    "start_time": "2023-03-22T06:25:11.172Z"
   },
   {
    "duration": 23,
    "start_time": "2023-03-22T06:25:11.190Z"
   },
   {
    "duration": 30,
    "start_time": "2023-03-22T06:25:11.215Z"
   },
   {
    "duration": 20,
    "start_time": "2023-03-22T06:25:11.247Z"
   },
   {
    "duration": 62,
    "start_time": "2023-03-22T06:25:11.269Z"
   },
   {
    "duration": 47,
    "start_time": "2023-03-22T06:25:11.334Z"
   },
   {
    "duration": 38,
    "start_time": "2023-03-22T06:25:11.384Z"
   },
   {
    "duration": 28,
    "start_time": "2023-03-22T06:25:11.425Z"
   },
   {
    "duration": 50,
    "start_time": "2023-03-22T06:25:11.459Z"
   },
   {
    "duration": 222,
    "start_time": "2023-03-22T06:25:11.511Z"
   },
   {
    "duration": 23,
    "start_time": "2023-03-22T06:25:11.734Z"
   },
   {
    "duration": 205,
    "start_time": "2023-03-22T06:25:11.760Z"
   },
   {
    "duration": 25,
    "start_time": "2023-03-22T06:25:11.967Z"
   },
   {
    "duration": 507,
    "start_time": "2023-03-22T06:25:11.994Z"
   },
   {
    "duration": 20,
    "start_time": "2023-03-22T06:25:12.502Z"
   },
   {
    "duration": 533,
    "start_time": "2023-03-22T06:25:12.524Z"
   },
   {
    "duration": 710,
    "start_time": "2023-03-22T06:25:13.069Z"
   },
   {
    "duration": 65,
    "start_time": "2023-03-22T06:25:13.781Z"
   },
   {
    "duration": 58,
    "start_time": "2023-03-22T06:25:13.849Z"
   },
   {
    "duration": 967,
    "start_time": "2023-03-22T06:25:13.910Z"
   },
   {
    "duration": 347,
    "start_time": "2023-03-22T06:25:14.879Z"
   },
   {
    "duration": 32,
    "start_time": "2023-03-22T06:25:15.228Z"
   },
   {
    "duration": 40,
    "start_time": "2023-03-22T06:25:15.262Z"
   },
   {
    "duration": 190,
    "start_time": "2023-03-22T06:25:15.304Z"
   },
   {
    "duration": 181,
    "start_time": "2023-03-22T06:25:15.496Z"
   },
   {
    "duration": 1200,
    "start_time": "2023-03-22T06:25:15.679Z"
   },
   {
    "duration": 28,
    "start_time": "2023-03-22T06:25:16.881Z"
   },
   {
    "duration": 212,
    "start_time": "2023-03-22T06:25:16.911Z"
   },
   {
    "duration": 383,
    "start_time": "2023-03-22T06:25:17.125Z"
   },
   {
    "duration": 297,
    "start_time": "2023-03-22T06:25:17.510Z"
   },
   {
    "duration": 292,
    "start_time": "2023-03-22T06:25:17.810Z"
   },
   {
    "duration": 19,
    "start_time": "2023-03-22T06:25:18.104Z"
   },
   {
    "duration": 35,
    "start_time": "2023-03-22T06:25:18.125Z"
   },
   {
    "duration": 1285,
    "start_time": "2023-03-22T06:27:22.299Z"
   },
   {
    "duration": 90,
    "start_time": "2023-03-22T06:27:23.588Z"
   },
   {
    "duration": 4,
    "start_time": "2023-03-22T06:27:23.680Z"
   },
   {
    "duration": 89,
    "start_time": "2023-03-22T06:27:23.687Z"
   },
   {
    "duration": 9,
    "start_time": "2023-03-22T06:27:23.777Z"
   },
   {
    "duration": 29,
    "start_time": "2023-03-22T06:27:23.788Z"
   },
   {
    "duration": 17,
    "start_time": "2023-03-22T06:27:23.819Z"
   },
   {
    "duration": 38,
    "start_time": "2023-03-22T06:27:23.838Z"
   },
   {
    "duration": 14,
    "start_time": "2023-03-22T06:27:23.878Z"
   },
   {
    "duration": 15,
    "start_time": "2023-03-22T06:27:23.895Z"
   },
   {
    "duration": 28,
    "start_time": "2023-03-22T06:27:23.912Z"
   },
   {
    "duration": 17,
    "start_time": "2023-03-22T06:27:23.946Z"
   },
   {
    "duration": 16,
    "start_time": "2023-03-22T06:27:23.966Z"
   },
   {
    "duration": 16,
    "start_time": "2023-03-22T06:27:23.984Z"
   },
   {
    "duration": 39,
    "start_time": "2023-03-22T06:27:24.002Z"
   },
   {
    "duration": 27,
    "start_time": "2023-03-22T06:27:24.046Z"
   },
   {
    "duration": 25,
    "start_time": "2023-03-22T06:27:24.075Z"
   },
   {
    "duration": 53,
    "start_time": "2023-03-22T06:27:24.102Z"
   },
   {
    "duration": 20,
    "start_time": "2023-03-22T06:27:24.158Z"
   },
   {
    "duration": 38,
    "start_time": "2023-03-22T06:27:24.181Z"
   },
   {
    "duration": 264,
    "start_time": "2023-03-22T06:27:24.221Z"
   },
   {
    "duration": 14,
    "start_time": "2023-03-22T06:27:24.487Z"
   },
   {
    "duration": 225,
    "start_time": "2023-03-22T06:27:24.504Z"
   },
   {
    "duration": 33,
    "start_time": "2023-03-22T06:27:24.731Z"
   },
   {
    "duration": 509,
    "start_time": "2023-03-22T06:27:24.767Z"
   },
   {
    "duration": 20,
    "start_time": "2023-03-22T06:27:25.278Z"
   },
   {
    "duration": 311,
    "start_time": "2023-03-22T06:27:25.300Z"
   },
   {
    "duration": 323,
    "start_time": "2023-03-22T06:27:25.615Z"
   },
   {
    "duration": 23,
    "start_time": "2023-03-22T06:27:25.942Z"
   },
   {
    "duration": 44,
    "start_time": "2023-03-22T06:27:25.967Z"
   },
   {
    "duration": 434,
    "start_time": "2023-03-22T06:27:26.013Z"
   },
   {
    "duration": 332,
    "start_time": "2023-03-22T06:27:26.449Z"
   },
   {
    "duration": 27,
    "start_time": "2023-03-22T06:27:26.783Z"
   },
   {
    "duration": 47,
    "start_time": "2023-03-22T06:27:26.812Z"
   },
   {
    "duration": 185,
    "start_time": "2023-03-22T06:27:26.861Z"
   },
   {
    "duration": 202,
    "start_time": "2023-03-22T06:27:27.055Z"
   },
   {
    "duration": 1139,
    "start_time": "2023-03-22T06:27:27.260Z"
   },
   {
    "duration": 44,
    "start_time": "2023-03-22T06:27:28.401Z"
   },
   {
    "duration": 194,
    "start_time": "2023-03-22T06:27:28.447Z"
   },
   {
    "duration": 417,
    "start_time": "2023-03-22T06:27:28.643Z"
   },
   {
    "duration": 301,
    "start_time": "2023-03-22T06:27:29.064Z"
   },
   {
    "duration": 306,
    "start_time": "2023-03-22T06:27:29.367Z"
   },
   {
    "duration": 15,
    "start_time": "2023-03-22T06:27:29.675Z"
   },
   {
    "duration": 17,
    "start_time": "2023-03-22T06:27:29.692Z"
   }
  ],
  "kernelspec": {
   "display_name": "Python 3 (ipykernel)",
   "language": "python",
   "name": "python3"
  },
  "language_info": {
   "codemirror_mode": {
    "name": "ipython",
    "version": 3
   },
   "file_extension": ".py",
   "mimetype": "text/x-python",
   "name": "python",
   "nbconvert_exporter": "python",
   "pygments_lexer": "ipython3",
   "version": "3.9.13"
  },
  "toc": {
   "base_numbering": 1,
   "nav_menu": {},
   "number_sections": true,
   "sideBar": true,
   "skip_h1_title": true,
   "title_cell": "Table of Contents",
   "title_sidebar": "Contents",
   "toc_cell": false,
   "toc_position": {
    "height": "calc(100% - 180px)",
    "left": "10px",
    "top": "150px",
    "width": "307.2px"
   },
   "toc_section_display": true,
   "toc_window_display": true
  }
 },
 "nbformat": 4,
 "nbformat_minor": 5
}
